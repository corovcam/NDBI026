{
    "metadata": {
        "kernelspec": {
            "name": "SQL",
            "display_name": "SQL",
            "language": "sql"
        },
        "language_info": {
            "name": "sql",
            "version": ""
        }
    },
    "nbformat_minor": 2,
    "nbformat": 4,
    "cells": [
        {
            "cell_type": "code",
            "source": [
                "SELECT * FROM vw_Student_Enrollment_Details"
            ],
            "metadata": {
                "azdata_cell_guid": "9072f30c-d895-4879-9e56-6dedcb838ec7",
                "language": "sql",
                "tags": []
            },
            "outputs": [
                {
                    "output_type": "display_data",
                    "data": {
                        "text/html": "(110 rows affected)"
                    },
                    "metadata": {}
                },
                {
                    "output_type": "display_data",
                    "data": {
                        "text/html": "Total execution time: 00:00:00.069"
                    },
                    "metadata": {}
                },
                {
                    "output_type": "execute_result",
                    "execution_count": 1,
                    "data": {
                        "application/vnd.dataresource+json": {
                            "schema": {
                                "fields": [
                                    {
                                        "name": "student_id"
                                    },
                                    {
                                        "name": "student_name"
                                    },
                                    {
                                        "name": "course_name"
                                    },
                                    {
                                        "name": "enrollment_date"
                                    },
                                    {
                                        "name": "grade"
                                    }
                                ]
                            },
                            "data": [
                                {
                                    "student_id": "10000003",
                                    "student_name": "Jane Smith",
                                    "course_name": "Introduction to Programming",
                                    "enrollment_date": "2022-09-01",
                                    "grade": "NULL"
                                },
                                {
                                    "student_id": "10000003",
                                    "student_name": "Jane Smith",
                                    "course_name": "Introduction to Databases",
                                    "enrollment_date": "2022-09-01",
                                    "grade": "NULL"
                                },
                                {
                                    "student_id": "10000003",
                                    "student_name": "Jane Smith",
                                    "course_name": "Introduction to Web",
                                    "enrollment_date": "2022-09-01",
                                    "grade": "NULL"
                                },
                                {
                                    "student_id": "10000003",
                                    "student_name": "Jane Smith",
                                    "course_name": "Introduction to Mobile",
                                    "enrollment_date": "2022-09-01",
                                    "grade": "NULL"
                                },
                                {
                                    "student_id": "10000003",
                                    "student_name": "Jane Smith",
                                    "course_name": "Molecular Biology",
                                    "enrollment_date": "2022-09-01",
                                    "grade": "NULL"
                                },
                                {
                                    "student_id": "10000003",
                                    "student_name": "Jane Smith",
                                    "course_name": "Genetics",
                                    "enrollment_date": "2022-09-01",
                                    "grade": "NULL"
                                },
                                {
                                    "student_id": "10000003",
                                    "student_name": "Jane Smith",
                                    "course_name": "Biochemistry",
                                    "enrollment_date": "2022-09-01",
                                    "grade": "NULL"
                                },
                                {
                                    "student_id": "10000003",
                                    "student_name": "Jane Smith",
                                    "course_name": "Microbiology",
                                    "enrollment_date": "2022-09-01",
                                    "grade": "NULL"
                                },
                                {
                                    "student_id": "10000003",
                                    "student_name": "Jane Smith",
                                    "course_name": "Introduction to Law",
                                    "enrollment_date": "2022-09-01",
                                    "grade": "NULL"
                                },
                                {
                                    "student_id": "10000003",
                                    "student_name": "Jane Smith",
                                    "course_name": "Introduction to Economics",
                                    "enrollment_date": "2022-09-01",
                                    "grade": "NULL"
                                },
                                {
                                    "student_id": "10000003",
                                    "student_name": "Jane Smith",
                                    "course_name": "Introduction to Management",
                                    "enrollment_date": "2022-09-01",
                                    "grade": "NULL"
                                },
                                {
                                    "student_id": "10000003",
                                    "student_name": "Jane Smith",
                                    "course_name": "Introduction to Marketing",
                                    "enrollment_date": "2022-09-01",
                                    "grade": "NULL"
                                },
                                {
                                    "student_id": "10000003",
                                    "student_name": "Jane Smith",
                                    "course_name": "Introduction to Psychology",
                                    "enrollment_date": "2022-09-01",
                                    "grade": "NULL"
                                },
                                {
                                    "student_id": "10000003",
                                    "student_name": "Jane Smith",
                                    "course_name": "Introduction to Sociology",
                                    "enrollment_date": "2022-09-01",
                                    "grade": "NULL"
                                },
                                {
                                    "student_id": "10000003",
                                    "student_name": "Jane Smith",
                                    "course_name": "Introduction to Philosophy",
                                    "enrollment_date": "2022-09-01",
                                    "grade": "NULL"
                                },
                                {
                                    "student_id": "10000004",
                                    "student_name": "Robert Jones",
                                    "course_name": "Introduction to Programming",
                                    "enrollment_date": "2022-09-01",
                                    "grade": "NULL"
                                },
                                {
                                    "student_id": "10000004",
                                    "student_name": "Robert Jones",
                                    "course_name": "Introduction to Databases",
                                    "enrollment_date": "2022-09-01",
                                    "grade": "NULL"
                                },
                                {
                                    "student_id": "10000004",
                                    "student_name": "Robert Jones",
                                    "course_name": "Introduction to Web",
                                    "enrollment_date": "2022-09-01",
                                    "grade": "NULL"
                                },
                                {
                                    "student_id": "10000004",
                                    "student_name": "Robert Jones",
                                    "course_name": "Introduction to Mobile",
                                    "enrollment_date": "2022-09-01",
                                    "grade": "NULL"
                                },
                                {
                                    "student_id": "10000004",
                                    "student_name": "Robert Jones",
                                    "course_name": "Molecular Biology",
                                    "enrollment_date": "2022-09-01",
                                    "grade": "NULL"
                                },
                                {
                                    "student_id": "10000004",
                                    "student_name": "Robert Jones",
                                    "course_name": "Genetics",
                                    "enrollment_date": "2022-09-01",
                                    "grade": "NULL"
                                },
                                {
                                    "student_id": "10000004",
                                    "student_name": "Robert Jones",
                                    "course_name": "Biochemistry",
                                    "enrollment_date": "2022-09-01",
                                    "grade": "NULL"
                                },
                                {
                                    "student_id": "10000004",
                                    "student_name": "Robert Jones",
                                    "course_name": "Microbiology",
                                    "enrollment_date": "2022-09-01",
                                    "grade": "NULL"
                                },
                                {
                                    "student_id": "10000004",
                                    "student_name": "Robert Jones",
                                    "course_name": "Introduction to Law",
                                    "enrollment_date": "2022-09-01",
                                    "grade": "NULL"
                                },
                                {
                                    "student_id": "10000004",
                                    "student_name": "Robert Jones",
                                    "course_name": "Introduction to Economics",
                                    "enrollment_date": "2022-09-01",
                                    "grade": "NULL"
                                },
                                {
                                    "student_id": "10000004",
                                    "student_name": "Robert Jones",
                                    "course_name": "Introduction to Management",
                                    "enrollment_date": "2022-09-01",
                                    "grade": "NULL"
                                },
                                {
                                    "student_id": "10000004",
                                    "student_name": "Robert Jones",
                                    "course_name": "Introduction to Marketing",
                                    "enrollment_date": "2022-09-01",
                                    "grade": "NULL"
                                },
                                {
                                    "student_id": "10000004",
                                    "student_name": "Robert Jones",
                                    "course_name": "Introduction to Psychology",
                                    "enrollment_date": "2022-09-01",
                                    "grade": "NULL"
                                },
                                {
                                    "student_id": "10000004",
                                    "student_name": "Robert Jones",
                                    "course_name": "Introduction to Sociology",
                                    "enrollment_date": "2022-09-01",
                                    "grade": "NULL"
                                },
                                {
                                    "student_id": "10000004",
                                    "student_name": "Robert Jones",
                                    "course_name": "Introduction to Philosophy",
                                    "enrollment_date": "2022-09-01",
                                    "grade": "NULL"
                                },
                                {
                                    "student_id": "10000007",
                                    "student_name": "Alice White",
                                    "course_name": "Introduction to Programming",
                                    "enrollment_date": "2022-09-01",
                                    "grade": "NULL"
                                },
                                {
                                    "student_id": "10000007",
                                    "student_name": "Alice White",
                                    "course_name": "Introduction to Databases",
                                    "enrollment_date": "2022-09-01",
                                    "grade": "NULL"
                                },
                                {
                                    "student_id": "10000007",
                                    "student_name": "Alice White",
                                    "course_name": "Introduction to Web",
                                    "enrollment_date": "2022-09-01",
                                    "grade": "NULL"
                                },
                                {
                                    "student_id": "10000007",
                                    "student_name": "Alice White",
                                    "course_name": "Introduction to Mobile",
                                    "enrollment_date": "2022-09-01",
                                    "grade": "NULL"
                                },
                                {
                                    "student_id": "10000007",
                                    "student_name": "Alice White",
                                    "course_name": "Molecular Biology",
                                    "enrollment_date": "2022-09-01",
                                    "grade": "NULL"
                                },
                                {
                                    "student_id": "10000007",
                                    "student_name": "Alice White",
                                    "course_name": "Genetics",
                                    "enrollment_date": "2022-09-01",
                                    "grade": "NULL"
                                },
                                {
                                    "student_id": "10000007",
                                    "student_name": "Alice White",
                                    "course_name": "Biochemistry",
                                    "enrollment_date": "2022-09-01",
                                    "grade": "NULL"
                                },
                                {
                                    "student_id": "10000007",
                                    "student_name": "Alice White",
                                    "course_name": "Microbiology",
                                    "enrollment_date": "2022-09-01",
                                    "grade": "NULL"
                                },
                                {
                                    "student_id": "10000007",
                                    "student_name": "Alice White",
                                    "course_name": "Introduction to Law",
                                    "enrollment_date": "2022-09-01",
                                    "grade": "NULL"
                                },
                                {
                                    "student_id": "10000007",
                                    "student_name": "Alice White",
                                    "course_name": "Introduction to Economics",
                                    "enrollment_date": "2022-09-01",
                                    "grade": "NULL"
                                },
                                {
                                    "student_id": "10000007",
                                    "student_name": "Alice White",
                                    "course_name": "Introduction to Management",
                                    "enrollment_date": "2022-09-01",
                                    "grade": "NULL"
                                },
                                {
                                    "student_id": "10000007",
                                    "student_name": "Alice White",
                                    "course_name": "Introduction to Marketing",
                                    "enrollment_date": "2022-09-01",
                                    "grade": "NULL"
                                },
                                {
                                    "student_id": "10000007",
                                    "student_name": "Alice White",
                                    "course_name": "Introduction to Psychology",
                                    "enrollment_date": "2022-09-01",
                                    "grade": "NULL"
                                },
                                {
                                    "student_id": "10000007",
                                    "student_name": "Alice White",
                                    "course_name": "Introduction to Sociology",
                                    "enrollment_date": "2022-09-01",
                                    "grade": "NULL"
                                },
                                {
                                    "student_id": "10000007",
                                    "student_name": "Alice White",
                                    "course_name": "Introduction to Philosophy",
                                    "enrollment_date": "2022-09-01",
                                    "grade": "NULL"
                                },
                                {
                                    "student_id": "10000008",
                                    "student_name": "Mike Johnson",
                                    "course_name": "Introduction to Programming",
                                    "enrollment_date": "2022-09-01",
                                    "grade": "NULL"
                                },
                                {
                                    "student_id": "10000008",
                                    "student_name": "Mike Johnson",
                                    "course_name": "Introduction to Databases",
                                    "enrollment_date": "2022-09-01",
                                    "grade": "NULL"
                                },
                                {
                                    "student_id": "10000008",
                                    "student_name": "Mike Johnson",
                                    "course_name": "Introduction to Web",
                                    "enrollment_date": "2022-09-01",
                                    "grade": "NULL"
                                },
                                {
                                    "student_id": "10000008",
                                    "student_name": "Mike Johnson",
                                    "course_name": "Introduction to Mobile",
                                    "enrollment_date": "2022-09-01",
                                    "grade": "NULL"
                                },
                                {
                                    "student_id": "10000008",
                                    "student_name": "Mike Johnson",
                                    "course_name": "Molecular Biology",
                                    "enrollment_date": "2022-09-01",
                                    "grade": "NULL"
                                },
                                {
                                    "student_id": "10000008",
                                    "student_name": "Mike Johnson",
                                    "course_name": "Genetics",
                                    "enrollment_date": "2022-09-01",
                                    "grade": "NULL"
                                },
                                {
                                    "student_id": "10000008",
                                    "student_name": "Mike Johnson",
                                    "course_name": "Biochemistry",
                                    "enrollment_date": "2022-09-01",
                                    "grade": "NULL"
                                },
                                {
                                    "student_id": "10000008",
                                    "student_name": "Mike Johnson",
                                    "course_name": "Microbiology",
                                    "enrollment_date": "2022-09-01",
                                    "grade": "NULL"
                                },
                                {
                                    "student_id": "10000008",
                                    "student_name": "Mike Johnson",
                                    "course_name": "Introduction to Law",
                                    "enrollment_date": "2022-09-01",
                                    "grade": "NULL"
                                },
                                {
                                    "student_id": "10000008",
                                    "student_name": "Mike Johnson",
                                    "course_name": "Introduction to Economics",
                                    "enrollment_date": "2022-09-01",
                                    "grade": "NULL"
                                },
                                {
                                    "student_id": "10000008",
                                    "student_name": "Mike Johnson",
                                    "course_name": "Introduction to Management",
                                    "enrollment_date": "2022-09-01",
                                    "grade": "NULL"
                                },
                                {
                                    "student_id": "10000008",
                                    "student_name": "Mike Johnson",
                                    "course_name": "Introduction to Marketing",
                                    "enrollment_date": "2022-09-01",
                                    "grade": "NULL"
                                },
                                {
                                    "student_id": "10000008",
                                    "student_name": "Mike Johnson",
                                    "course_name": "Introduction to Psychology",
                                    "enrollment_date": "2022-09-01",
                                    "grade": "NULL"
                                },
                                {
                                    "student_id": "10000008",
                                    "student_name": "Mike Johnson",
                                    "course_name": "Introduction to Sociology",
                                    "enrollment_date": "2022-09-01",
                                    "grade": "NULL"
                                },
                                {
                                    "student_id": "10000008",
                                    "student_name": "Mike Johnson",
                                    "course_name": "Introduction to Philosophy",
                                    "enrollment_date": "2022-09-01",
                                    "grade": "NULL"
                                },
                                {
                                    "student_id": "10000026",
                                    "student_name": "Andrew Wood",
                                    "course_name": "Introduction to Programming",
                                    "enrollment_date": "2022-09-01",
                                    "grade": "NULL"
                                },
                                {
                                    "student_id": "10000026",
                                    "student_name": "Andrew Wood",
                                    "course_name": "Introduction to Databases",
                                    "enrollment_date": "2022-09-01",
                                    "grade": "NULL"
                                },
                                {
                                    "student_id": "10000026",
                                    "student_name": "Andrew Wood",
                                    "course_name": "Introduction to Web",
                                    "enrollment_date": "2022-09-01",
                                    "grade": "NULL"
                                },
                                {
                                    "student_id": "10000026",
                                    "student_name": "Andrew Wood",
                                    "course_name": "Introduction to Mobile",
                                    "enrollment_date": "2022-09-01",
                                    "grade": "NULL"
                                },
                                {
                                    "student_id": "10000026",
                                    "student_name": "Andrew Wood",
                                    "course_name": "Molecular Biology",
                                    "enrollment_date": "2022-09-01",
                                    "grade": "NULL"
                                },
                                {
                                    "student_id": "10000026",
                                    "student_name": "Andrew Wood",
                                    "course_name": "Genetics",
                                    "enrollment_date": "2022-09-01",
                                    "grade": "NULL"
                                },
                                {
                                    "student_id": "10000026",
                                    "student_name": "Andrew Wood",
                                    "course_name": "Biochemistry",
                                    "enrollment_date": "2022-09-01",
                                    "grade": "NULL"
                                },
                                {
                                    "student_id": "10000026",
                                    "student_name": "Andrew Wood",
                                    "course_name": "Microbiology",
                                    "enrollment_date": "2022-09-01",
                                    "grade": "NULL"
                                },
                                {
                                    "student_id": "10000026",
                                    "student_name": "Andrew Wood",
                                    "course_name": "Introduction to Law",
                                    "enrollment_date": "2022-09-01",
                                    "grade": "NULL"
                                },
                                {
                                    "student_id": "10000026",
                                    "student_name": "Andrew Wood",
                                    "course_name": "Introduction to Economics",
                                    "enrollment_date": "2022-09-01",
                                    "grade": "NULL"
                                },
                                {
                                    "student_id": "10000026",
                                    "student_name": "Andrew Wood",
                                    "course_name": "Introduction to Management",
                                    "enrollment_date": "2022-09-01",
                                    "grade": "NULL"
                                },
                                {
                                    "student_id": "10000026",
                                    "student_name": "Andrew Wood",
                                    "course_name": "Introduction to Marketing",
                                    "enrollment_date": "2022-09-01",
                                    "grade": "NULL"
                                },
                                {
                                    "student_id": "10000026",
                                    "student_name": "Andrew Wood",
                                    "course_name": "Introduction to Psychology",
                                    "enrollment_date": "2022-09-01",
                                    "grade": "NULL"
                                },
                                {
                                    "student_id": "10000026",
                                    "student_name": "Andrew Wood",
                                    "course_name": "Introduction to Sociology",
                                    "enrollment_date": "2022-09-01",
                                    "grade": "NULL"
                                },
                                {
                                    "student_id": "10000026",
                                    "student_name": "Andrew Wood",
                                    "course_name": "Introduction to Philosophy",
                                    "enrollment_date": "2022-09-01",
                                    "grade": "NULL"
                                },
                                {
                                    "student_id": "10000027",
                                    "student_name": "Violet Becker",
                                    "course_name": "Introduction to Programming",
                                    "enrollment_date": "2022-09-01",
                                    "grade": "NULL"
                                },
                                {
                                    "student_id": "10000027",
                                    "student_name": "Violet Becker",
                                    "course_name": "Introduction to Databases",
                                    "enrollment_date": "2022-09-01",
                                    "grade": "NULL"
                                },
                                {
                                    "student_id": "10000027",
                                    "student_name": "Violet Becker",
                                    "course_name": "Introduction to Web",
                                    "enrollment_date": "2022-09-01",
                                    "grade": "NULL"
                                },
                                {
                                    "student_id": "10000027",
                                    "student_name": "Violet Becker",
                                    "course_name": "Introduction to Mobile",
                                    "enrollment_date": "2022-09-01",
                                    "grade": "NULL"
                                },
                                {
                                    "student_id": "10000027",
                                    "student_name": "Violet Becker",
                                    "course_name": "Molecular Biology",
                                    "enrollment_date": "2022-09-01",
                                    "grade": "NULL"
                                },
                                {
                                    "student_id": "10000027",
                                    "student_name": "Violet Becker",
                                    "course_name": "Genetics",
                                    "enrollment_date": "2022-09-01",
                                    "grade": "NULL"
                                },
                                {
                                    "student_id": "10000027",
                                    "student_name": "Violet Becker",
                                    "course_name": "Biochemistry",
                                    "enrollment_date": "2022-09-01",
                                    "grade": "NULL"
                                },
                                {
                                    "student_id": "10000027",
                                    "student_name": "Violet Becker",
                                    "course_name": "Microbiology",
                                    "enrollment_date": "2022-09-01",
                                    "grade": "NULL"
                                },
                                {
                                    "student_id": "10000027",
                                    "student_name": "Violet Becker",
                                    "course_name": "Introduction to Law",
                                    "enrollment_date": "2022-09-01",
                                    "grade": "NULL"
                                },
                                {
                                    "student_id": "10000027",
                                    "student_name": "Violet Becker",
                                    "course_name": "Introduction to Economics",
                                    "enrollment_date": "2022-09-01",
                                    "grade": "NULL"
                                },
                                {
                                    "student_id": "10000027",
                                    "student_name": "Violet Becker",
                                    "course_name": "Introduction to Management",
                                    "enrollment_date": "2022-09-01",
                                    "grade": "NULL"
                                },
                                {
                                    "student_id": "10000027",
                                    "student_name": "Violet Becker",
                                    "course_name": "Introduction to Marketing",
                                    "enrollment_date": "2022-09-01",
                                    "grade": "NULL"
                                },
                                {
                                    "student_id": "10000027",
                                    "student_name": "Violet Becker",
                                    "course_name": "Introduction to Psychology",
                                    "enrollment_date": "2022-09-01",
                                    "grade": "NULL"
                                },
                                {
                                    "student_id": "10000027",
                                    "student_name": "Violet Becker",
                                    "course_name": "Introduction to Sociology",
                                    "enrollment_date": "2022-09-01",
                                    "grade": "NULL"
                                },
                                {
                                    "student_id": "10000027",
                                    "student_name": "Violet Becker",
                                    "course_name": "Introduction to Philosophy",
                                    "enrollment_date": "2022-09-01",
                                    "grade": "NULL"
                                },
                                {
                                    "student_id": "10000028",
                                    "student_name": "Octavius Holland",
                                    "course_name": "Introduction to Programming",
                                    "enrollment_date": "2022-09-01",
                                    "grade": "NULL"
                                },
                                {
                                    "student_id": "10000028",
                                    "student_name": "Octavius Holland",
                                    "course_name": "Introduction to Databases",
                                    "enrollment_date": "2022-09-01",
                                    "grade": "NULL"
                                },
                                {
                                    "student_id": "10000028",
                                    "student_name": "Octavius Holland",
                                    "course_name": "Introduction to Web",
                                    "enrollment_date": "2022-09-01",
                                    "grade": "NULL"
                                },
                                {
                                    "student_id": "10000028",
                                    "student_name": "Octavius Holland",
                                    "course_name": "Introduction to Mobile",
                                    "enrollment_date": "2022-09-01",
                                    "grade": "NULL"
                                },
                                {
                                    "student_id": "10000028",
                                    "student_name": "Octavius Holland",
                                    "course_name": "Molecular Biology",
                                    "enrollment_date": "2022-09-01",
                                    "grade": "NULL"
                                },
                                {
                                    "student_id": "10000028",
                                    "student_name": "Octavius Holland",
                                    "course_name": "Genetics",
                                    "enrollment_date": "2022-09-01",
                                    "grade": "NULL"
                                },
                                {
                                    "student_id": "10000028",
                                    "student_name": "Octavius Holland",
                                    "course_name": "Biochemistry",
                                    "enrollment_date": "2022-09-01",
                                    "grade": "NULL"
                                },
                                {
                                    "student_id": "10000028",
                                    "student_name": "Octavius Holland",
                                    "course_name": "Microbiology",
                                    "enrollment_date": "2022-09-01",
                                    "grade": "NULL"
                                },
                                {
                                    "student_id": "10000028",
                                    "student_name": "Octavius Holland",
                                    "course_name": "Introduction to Law",
                                    "enrollment_date": "2022-09-01",
                                    "grade": "NULL"
                                },
                                {
                                    "student_id": "10000028",
                                    "student_name": "Octavius Holland",
                                    "course_name": "Introduction to Economics",
                                    "enrollment_date": "2022-09-01",
                                    "grade": "NULL"
                                },
                                {
                                    "student_id": "10000028",
                                    "student_name": "Octavius Holland",
                                    "course_name": "Introduction to Management",
                                    "enrollment_date": "2022-09-01",
                                    "grade": "NULL"
                                },
                                {
                                    "student_id": "10000028",
                                    "student_name": "Octavius Holland",
                                    "course_name": "Introduction to Marketing",
                                    "enrollment_date": "2022-09-01",
                                    "grade": "NULL"
                                },
                                {
                                    "student_id": "10000028",
                                    "student_name": "Octavius Holland",
                                    "course_name": "Introduction to Psychology",
                                    "enrollment_date": "2022-09-01",
                                    "grade": "NULL"
                                },
                                {
                                    "student_id": "10000028",
                                    "student_name": "Octavius Holland",
                                    "course_name": "Introduction to Sociology",
                                    "enrollment_date": "2022-09-01",
                                    "grade": "NULL"
                                },
                                {
                                    "student_id": "10000028",
                                    "student_name": "Octavius Holland",
                                    "course_name": "Introduction to Philosophy",
                                    "enrollment_date": "2022-09-01",
                                    "grade": "NULL"
                                },
                                {
                                    "student_id": "10000029",
                                    "student_name": "Zeph Simon",
                                    "course_name": "Introduction to Programming",
                                    "enrollment_date": "2022-09-01",
                                    "grade": "NULL"
                                },
                                {
                                    "student_id": "10000029",
                                    "student_name": "Zeph Simon",
                                    "course_name": "Introduction to Databases",
                                    "enrollment_date": "2022-09-01",
                                    "grade": "NULL"
                                },
                                {
                                    "student_id": "10000029",
                                    "student_name": "Zeph Simon",
                                    "course_name": "Introduction to Web",
                                    "enrollment_date": "2022-09-01",
                                    "grade": "NULL"
                                },
                                {
                                    "student_id": "10000029",
                                    "student_name": "Zeph Simon",
                                    "course_name": "Introduction to Mobile",
                                    "enrollment_date": "2022-09-01",
                                    "grade": "NULL"
                                },
                                {
                                    "student_id": "10000029",
                                    "student_name": "Zeph Simon",
                                    "course_name": "Molecular Biology",
                                    "enrollment_date": "2022-09-01",
                                    "grade": "NULL"
                                }
                            ]
                        },
                        "text/html": "<table><tr><th>student_id</th><th>student_name</th><th>course_name</th><th>enrollment_date</th><th>grade</th></tr><tr><td>10000003</td><td>Jane Smith</td><td>Introduction to Programming</td><td>2022-09-01</td><td>NULL</td></tr><tr><td>10000003</td><td>Jane Smith</td><td>Introduction to Databases</td><td>2022-09-01</td><td>NULL</td></tr><tr><td>10000003</td><td>Jane Smith</td><td>Introduction to Web</td><td>2022-09-01</td><td>NULL</td></tr><tr><td>10000003</td><td>Jane Smith</td><td>Introduction to Mobile</td><td>2022-09-01</td><td>NULL</td></tr><tr><td>10000003</td><td>Jane Smith</td><td>Molecular Biology</td><td>2022-09-01</td><td>NULL</td></tr><tr><td>10000003</td><td>Jane Smith</td><td>Genetics</td><td>2022-09-01</td><td>NULL</td></tr><tr><td>10000003</td><td>Jane Smith</td><td>Biochemistry</td><td>2022-09-01</td><td>NULL</td></tr><tr><td>10000003</td><td>Jane Smith</td><td>Microbiology</td><td>2022-09-01</td><td>NULL</td></tr><tr><td>10000003</td><td>Jane Smith</td><td>Introduction to Law</td><td>2022-09-01</td><td>NULL</td></tr><tr><td>10000003</td><td>Jane Smith</td><td>Introduction to Economics</td><td>2022-09-01</td><td>NULL</td></tr><tr><td>10000003</td><td>Jane Smith</td><td>Introduction to Management</td><td>2022-09-01</td><td>NULL</td></tr><tr><td>10000003</td><td>Jane Smith</td><td>Introduction to Marketing</td><td>2022-09-01</td><td>NULL</td></tr><tr><td>10000003</td><td>Jane Smith</td><td>Introduction to Psychology</td><td>2022-09-01</td><td>NULL</td></tr><tr><td>10000003</td><td>Jane Smith</td><td>Introduction to Sociology</td><td>2022-09-01</td><td>NULL</td></tr><tr><td>10000003</td><td>Jane Smith</td><td>Introduction to Philosophy</td><td>2022-09-01</td><td>NULL</td></tr><tr><td>10000004</td><td>Robert Jones</td><td>Introduction to Programming</td><td>2022-09-01</td><td>NULL</td></tr><tr><td>10000004</td><td>Robert Jones</td><td>Introduction to Databases</td><td>2022-09-01</td><td>NULL</td></tr><tr><td>10000004</td><td>Robert Jones</td><td>Introduction to Web</td><td>2022-09-01</td><td>NULL</td></tr><tr><td>10000004</td><td>Robert Jones</td><td>Introduction to Mobile</td><td>2022-09-01</td><td>NULL</td></tr><tr><td>10000004</td><td>Robert Jones</td><td>Molecular Biology</td><td>2022-09-01</td><td>NULL</td></tr><tr><td>10000004</td><td>Robert Jones</td><td>Genetics</td><td>2022-09-01</td><td>NULL</td></tr><tr><td>10000004</td><td>Robert Jones</td><td>Biochemistry</td><td>2022-09-01</td><td>NULL</td></tr><tr><td>10000004</td><td>Robert Jones</td><td>Microbiology</td><td>2022-09-01</td><td>NULL</td></tr><tr><td>10000004</td><td>Robert Jones</td><td>Introduction to Law</td><td>2022-09-01</td><td>NULL</td></tr><tr><td>10000004</td><td>Robert Jones</td><td>Introduction to Economics</td><td>2022-09-01</td><td>NULL</td></tr><tr><td>10000004</td><td>Robert Jones</td><td>Introduction to Management</td><td>2022-09-01</td><td>NULL</td></tr><tr><td>10000004</td><td>Robert Jones</td><td>Introduction to Marketing</td><td>2022-09-01</td><td>NULL</td></tr><tr><td>10000004</td><td>Robert Jones</td><td>Introduction to Psychology</td><td>2022-09-01</td><td>NULL</td></tr><tr><td>10000004</td><td>Robert Jones</td><td>Introduction to Sociology</td><td>2022-09-01</td><td>NULL</td></tr><tr><td>10000004</td><td>Robert Jones</td><td>Introduction to Philosophy</td><td>2022-09-01</td><td>NULL</td></tr><tr><td>10000007</td><td>Alice White</td><td>Introduction to Programming</td><td>2022-09-01</td><td>NULL</td></tr><tr><td>10000007</td><td>Alice White</td><td>Introduction to Databases</td><td>2022-09-01</td><td>NULL</td></tr><tr><td>10000007</td><td>Alice White</td><td>Introduction to Web</td><td>2022-09-01</td><td>NULL</td></tr><tr><td>10000007</td><td>Alice White</td><td>Introduction to Mobile</td><td>2022-09-01</td><td>NULL</td></tr><tr><td>10000007</td><td>Alice White</td><td>Molecular Biology</td><td>2022-09-01</td><td>NULL</td></tr><tr><td>10000007</td><td>Alice White</td><td>Genetics</td><td>2022-09-01</td><td>NULL</td></tr><tr><td>10000007</td><td>Alice White</td><td>Biochemistry</td><td>2022-09-01</td><td>NULL</td></tr><tr><td>10000007</td><td>Alice White</td><td>Microbiology</td><td>2022-09-01</td><td>NULL</td></tr><tr><td>10000007</td><td>Alice White</td><td>Introduction to Law</td><td>2022-09-01</td><td>NULL</td></tr><tr><td>10000007</td><td>Alice White</td><td>Introduction to Economics</td><td>2022-09-01</td><td>NULL</td></tr><tr><td>10000007</td><td>Alice White</td><td>Introduction to Management</td><td>2022-09-01</td><td>NULL</td></tr><tr><td>10000007</td><td>Alice White</td><td>Introduction to Marketing</td><td>2022-09-01</td><td>NULL</td></tr><tr><td>10000007</td><td>Alice White</td><td>Introduction to Psychology</td><td>2022-09-01</td><td>NULL</td></tr><tr><td>10000007</td><td>Alice White</td><td>Introduction to Sociology</td><td>2022-09-01</td><td>NULL</td></tr><tr><td>10000007</td><td>Alice White</td><td>Introduction to Philosophy</td><td>2022-09-01</td><td>NULL</td></tr><tr><td>10000008</td><td>Mike Johnson</td><td>Introduction to Programming</td><td>2022-09-01</td><td>NULL</td></tr><tr><td>10000008</td><td>Mike Johnson</td><td>Introduction to Databases</td><td>2022-09-01</td><td>NULL</td></tr><tr><td>10000008</td><td>Mike Johnson</td><td>Introduction to Web</td><td>2022-09-01</td><td>NULL</td></tr><tr><td>10000008</td><td>Mike Johnson</td><td>Introduction to Mobile</td><td>2022-09-01</td><td>NULL</td></tr><tr><td>10000008</td><td>Mike Johnson</td><td>Molecular Biology</td><td>2022-09-01</td><td>NULL</td></tr><tr><td>10000008</td><td>Mike Johnson</td><td>Genetics</td><td>2022-09-01</td><td>NULL</td></tr><tr><td>10000008</td><td>Mike Johnson</td><td>Biochemistry</td><td>2022-09-01</td><td>NULL</td></tr><tr><td>10000008</td><td>Mike Johnson</td><td>Microbiology</td><td>2022-09-01</td><td>NULL</td></tr><tr><td>10000008</td><td>Mike Johnson</td><td>Introduction to Law</td><td>2022-09-01</td><td>NULL</td></tr><tr><td>10000008</td><td>Mike Johnson</td><td>Introduction to Economics</td><td>2022-09-01</td><td>NULL</td></tr><tr><td>10000008</td><td>Mike Johnson</td><td>Introduction to Management</td><td>2022-09-01</td><td>NULL</td></tr><tr><td>10000008</td><td>Mike Johnson</td><td>Introduction to Marketing</td><td>2022-09-01</td><td>NULL</td></tr><tr><td>10000008</td><td>Mike Johnson</td><td>Introduction to Psychology</td><td>2022-09-01</td><td>NULL</td></tr><tr><td>10000008</td><td>Mike Johnson</td><td>Introduction to Sociology</td><td>2022-09-01</td><td>NULL</td></tr><tr><td>10000008</td><td>Mike Johnson</td><td>Introduction to Philosophy</td><td>2022-09-01</td><td>NULL</td></tr><tr><td>10000026</td><td>Andrew Wood</td><td>Introduction to Programming</td><td>2022-09-01</td><td>NULL</td></tr><tr><td>10000026</td><td>Andrew Wood</td><td>Introduction to Databases</td><td>2022-09-01</td><td>NULL</td></tr><tr><td>10000026</td><td>Andrew Wood</td><td>Introduction to Web</td><td>2022-09-01</td><td>NULL</td></tr><tr><td>10000026</td><td>Andrew Wood</td><td>Introduction to Mobile</td><td>2022-09-01</td><td>NULL</td></tr><tr><td>10000026</td><td>Andrew Wood</td><td>Molecular Biology</td><td>2022-09-01</td><td>NULL</td></tr><tr><td>10000026</td><td>Andrew Wood</td><td>Genetics</td><td>2022-09-01</td><td>NULL</td></tr><tr><td>10000026</td><td>Andrew Wood</td><td>Biochemistry</td><td>2022-09-01</td><td>NULL</td></tr><tr><td>10000026</td><td>Andrew Wood</td><td>Microbiology</td><td>2022-09-01</td><td>NULL</td></tr><tr><td>10000026</td><td>Andrew Wood</td><td>Introduction to Law</td><td>2022-09-01</td><td>NULL</td></tr><tr><td>10000026</td><td>Andrew Wood</td><td>Introduction to Economics</td><td>2022-09-01</td><td>NULL</td></tr><tr><td>10000026</td><td>Andrew Wood</td><td>Introduction to Management</td><td>2022-09-01</td><td>NULL</td></tr><tr><td>10000026</td><td>Andrew Wood</td><td>Introduction to Marketing</td><td>2022-09-01</td><td>NULL</td></tr><tr><td>10000026</td><td>Andrew Wood</td><td>Introduction to Psychology</td><td>2022-09-01</td><td>NULL</td></tr><tr><td>10000026</td><td>Andrew Wood</td><td>Introduction to Sociology</td><td>2022-09-01</td><td>NULL</td></tr><tr><td>10000026</td><td>Andrew Wood</td><td>Introduction to Philosophy</td><td>2022-09-01</td><td>NULL</td></tr><tr><td>10000027</td><td>Violet Becker</td><td>Introduction to Programming</td><td>2022-09-01</td><td>NULL</td></tr><tr><td>10000027</td><td>Violet Becker</td><td>Introduction to Databases</td><td>2022-09-01</td><td>NULL</td></tr><tr><td>10000027</td><td>Violet Becker</td><td>Introduction to Web</td><td>2022-09-01</td><td>NULL</td></tr><tr><td>10000027</td><td>Violet Becker</td><td>Introduction to Mobile</td><td>2022-09-01</td><td>NULL</td></tr><tr><td>10000027</td><td>Violet Becker</td><td>Molecular Biology</td><td>2022-09-01</td><td>NULL</td></tr><tr><td>10000027</td><td>Violet Becker</td><td>Genetics</td><td>2022-09-01</td><td>NULL</td></tr><tr><td>10000027</td><td>Violet Becker</td><td>Biochemistry</td><td>2022-09-01</td><td>NULL</td></tr><tr><td>10000027</td><td>Violet Becker</td><td>Microbiology</td><td>2022-09-01</td><td>NULL</td></tr><tr><td>10000027</td><td>Violet Becker</td><td>Introduction to Law</td><td>2022-09-01</td><td>NULL</td></tr><tr><td>10000027</td><td>Violet Becker</td><td>Introduction to Economics</td><td>2022-09-01</td><td>NULL</td></tr><tr><td>10000027</td><td>Violet Becker</td><td>Introduction to Management</td><td>2022-09-01</td><td>NULL</td></tr><tr><td>10000027</td><td>Violet Becker</td><td>Introduction to Marketing</td><td>2022-09-01</td><td>NULL</td></tr><tr><td>10000027</td><td>Violet Becker</td><td>Introduction to Psychology</td><td>2022-09-01</td><td>NULL</td></tr><tr><td>10000027</td><td>Violet Becker</td><td>Introduction to Sociology</td><td>2022-09-01</td><td>NULL</td></tr><tr><td>10000027</td><td>Violet Becker</td><td>Introduction to Philosophy</td><td>2022-09-01</td><td>NULL</td></tr><tr><td>10000028</td><td>Octavius Holland</td><td>Introduction to Programming</td><td>2022-09-01</td><td>NULL</td></tr><tr><td>10000028</td><td>Octavius Holland</td><td>Introduction to Databases</td><td>2022-09-01</td><td>NULL</td></tr><tr><td>10000028</td><td>Octavius Holland</td><td>Introduction to Web</td><td>2022-09-01</td><td>NULL</td></tr><tr><td>10000028</td><td>Octavius Holland</td><td>Introduction to Mobile</td><td>2022-09-01</td><td>NULL</td></tr><tr><td>10000028</td><td>Octavius Holland</td><td>Molecular Biology</td><td>2022-09-01</td><td>NULL</td></tr><tr><td>10000028</td><td>Octavius Holland</td><td>Genetics</td><td>2022-09-01</td><td>NULL</td></tr><tr><td>10000028</td><td>Octavius Holland</td><td>Biochemistry</td><td>2022-09-01</td><td>NULL</td></tr><tr><td>10000028</td><td>Octavius Holland</td><td>Microbiology</td><td>2022-09-01</td><td>NULL</td></tr><tr><td>10000028</td><td>Octavius Holland</td><td>Introduction to Law</td><td>2022-09-01</td><td>NULL</td></tr><tr><td>10000028</td><td>Octavius Holland</td><td>Introduction to Economics</td><td>2022-09-01</td><td>NULL</td></tr><tr><td>10000028</td><td>Octavius Holland</td><td>Introduction to Management</td><td>2022-09-01</td><td>NULL</td></tr><tr><td>10000028</td><td>Octavius Holland</td><td>Introduction to Marketing</td><td>2022-09-01</td><td>NULL</td></tr><tr><td>10000028</td><td>Octavius Holland</td><td>Introduction to Psychology</td><td>2022-09-01</td><td>NULL</td></tr><tr><td>10000028</td><td>Octavius Holland</td><td>Introduction to Sociology</td><td>2022-09-01</td><td>NULL</td></tr><tr><td>10000028</td><td>Octavius Holland</td><td>Introduction to Philosophy</td><td>2022-09-01</td><td>NULL</td></tr><tr><td>10000029</td><td>Zeph Simon</td><td>Introduction to Programming</td><td>2022-09-01</td><td>NULL</td></tr><tr><td>10000029</td><td>Zeph Simon</td><td>Introduction to Databases</td><td>2022-09-01</td><td>NULL</td></tr><tr><td>10000029</td><td>Zeph Simon</td><td>Introduction to Web</td><td>2022-09-01</td><td>NULL</td></tr><tr><td>10000029</td><td>Zeph Simon</td><td>Introduction to Mobile</td><td>2022-09-01</td><td>NULL</td></tr><tr><td>10000029</td><td>Zeph Simon</td><td>Molecular Biology</td><td>2022-09-01</td><td>NULL</td></tr></table>"
                    },
                    "metadata": {}
                }
            ],
            "execution_count": 1
        },
        {
            "cell_type": "code",
            "source": [
                "SELECT * FROM vw_Teacher_Courses_Details;"
            ],
            "metadata": {
                "azdata_cell_guid": "51ddf598-89ba-4089-a646-b528a76f8a32",
                "language": "sql"
            },
            "outputs": [
                {
                    "output_type": "display_data",
                    "data": {
                        "text/html": "(15 rows affected)"
                    },
                    "metadata": {}
                },
                {
                    "output_type": "display_data",
                    "data": {
                        "text/html": "Total execution time: 00:00:00.073"
                    },
                    "metadata": {}
                },
                {
                    "output_type": "execute_result",
                    "execution_count": 2,
                    "data": {
                        "application/vnd.dataresource+json": {
                            "schema": {
                                "fields": [
                                    {
                                        "name": "teacher_id"
                                    },
                                    {
                                        "name": "teacher_name"
                                    },
                                    {
                                        "name": "course_name"
                                    },
                                    {
                                        "name": "semester"
                                    },
                                    {
                                        "name": "num_of_students"
                                    }
                                ]
                            },
                            "data": [
                                {
                                    "teacher_id": "10000001",
                                    "teacher_name": "John Doe",
                                    "course_name": "Introduction to Programming",
                                    "semester": "0",
                                    "num_of_students": "8"
                                },
                                {
                                    "teacher_id": "10000002",
                                    "teacher_name": "Mary Doe",
                                    "course_name": "Introduction to Databases",
                                    "semester": "0",
                                    "num_of_students": "8"
                                },
                                {
                                    "teacher_id": "10000005",
                                    "teacher_name": "Laura Smith",
                                    "course_name": "Introduction to Web",
                                    "semester": "1",
                                    "num_of_students": "8"
                                },
                                {
                                    "teacher_id": "10000006",
                                    "teacher_name": "Jack Thompson",
                                    "course_name": "Introduction to Mobile",
                                    "semester": "1",
                                    "num_of_students": "8"
                                },
                                {
                                    "teacher_id": "10000009",
                                    "teacher_name": "Linda Sabina",
                                    "course_name": "Molecular Biology",
                                    "semester": "0",
                                    "num_of_students": "8"
                                },
                                {
                                    "teacher_id": "10000010",
                                    "teacher_name": "Adena Figueroa",
                                    "course_name": "Introduction to Economics",
                                    "semester": "0",
                                    "num_of_students": "7"
                                },
                                {
                                    "teacher_id": "10000011",
                                    "teacher_name": "Orlando Collins",
                                    "course_name": "Introduction to Management",
                                    "semester": "1",
                                    "num_of_students": "7"
                                },
                                {
                                    "teacher_id": "10000012",
                                    "teacher_name": "Reese Robertson",
                                    "course_name": "Introduction to Marketing",
                                    "semester": "1",
                                    "num_of_students": "7"
                                },
                                {
                                    "teacher_id": "10000013",
                                    "teacher_name": "Medge Cabrera",
                                    "course_name": "Introduction to Psychology",
                                    "semester": "0",
                                    "num_of_students": "7"
                                },
                                {
                                    "teacher_id": "10000014",
                                    "teacher_name": "Dominique Matthews",
                                    "course_name": "Introduction to Sociology",
                                    "semester": "0",
                                    "num_of_students": "7"
                                },
                                {
                                    "teacher_id": "10000015",
                                    "teacher_name": "Hamilton Daniel",
                                    "course_name": "Introduction to Philosophy",
                                    "semester": "1",
                                    "num_of_students": "7"
                                },
                                {
                                    "teacher_id": "10000016",
                                    "teacher_name": "Cadman Black",
                                    "course_name": "Genetics",
                                    "semester": "0",
                                    "num_of_students": "7"
                                },
                                {
                                    "teacher_id": "10000017",
                                    "teacher_name": "Lani Heath",
                                    "course_name": "Biochemistry",
                                    "semester": "1",
                                    "num_of_students": "7"
                                },
                                {
                                    "teacher_id": "10000018",
                                    "teacher_name": "Adena Barrett",
                                    "course_name": "Microbiology",
                                    "semester": "1",
                                    "num_of_students": "7"
                                },
                                {
                                    "teacher_id": "10000019",
                                    "teacher_name": "Medge Roberts",
                                    "course_name": "Introduction to Law",
                                    "semester": "0",
                                    "num_of_students": "7"
                                }
                            ]
                        },
                        "text/html": "<table><tr><th>teacher_id</th><th>teacher_name</th><th>course_name</th><th>semester</th><th>num_of_students</th></tr><tr><td>10000001</td><td>John Doe</td><td>Introduction to Programming</td><td>0</td><td>8</td></tr><tr><td>10000002</td><td>Mary Doe</td><td>Introduction to Databases</td><td>0</td><td>8</td></tr><tr><td>10000005</td><td>Laura Smith</td><td>Introduction to Web</td><td>1</td><td>8</td></tr><tr><td>10000006</td><td>Jack Thompson</td><td>Introduction to Mobile</td><td>1</td><td>8</td></tr><tr><td>10000009</td><td>Linda Sabina</td><td>Molecular Biology</td><td>0</td><td>8</td></tr><tr><td>10000010</td><td>Adena Figueroa</td><td>Introduction to Economics</td><td>0</td><td>7</td></tr><tr><td>10000011</td><td>Orlando Collins</td><td>Introduction to Management</td><td>1</td><td>7</td></tr><tr><td>10000012</td><td>Reese Robertson</td><td>Introduction to Marketing</td><td>1</td><td>7</td></tr><tr><td>10000013</td><td>Medge Cabrera</td><td>Introduction to Psychology</td><td>0</td><td>7</td></tr><tr><td>10000014</td><td>Dominique Matthews</td><td>Introduction to Sociology</td><td>0</td><td>7</td></tr><tr><td>10000015</td><td>Hamilton Daniel</td><td>Introduction to Philosophy</td><td>1</td><td>7</td></tr><tr><td>10000016</td><td>Cadman Black</td><td>Genetics</td><td>0</td><td>7</td></tr><tr><td>10000017</td><td>Lani Heath</td><td>Biochemistry</td><td>1</td><td>7</td></tr><tr><td>10000018</td><td>Adena Barrett</td><td>Microbiology</td><td>1</td><td>7</td></tr><tr><td>10000019</td><td>Medge Roberts</td><td>Introduction to Law</td><td>0</td><td>7</td></tr></table>"
                    },
                    "metadata": {}
                }
            ],
            "execution_count": 2
        },
        {
            "cell_type": "code",
            "source": [
                "SELECT * FROM vw_Faculty_Programs_Details;"
            ],
            "metadata": {
                "azdata_cell_guid": "47580c92-fa6f-4c00-b1f2-00497b190eb0",
                "language": "sql"
            },
            "outputs": [
                {
                    "output_type": "display_data",
                    "data": {
                        "text/html": "(14 rows affected)"
                    },
                    "metadata": {}
                },
                {
                    "output_type": "display_data",
                    "data": {
                        "text/html": "Total execution time: 00:00:00.081"
                    },
                    "metadata": {}
                },
                {
                    "output_type": "execute_result",
                    "execution_count": 3,
                    "data": {
                        "application/vnd.dataresource+json": {
                            "schema": {
                                "fields": [
                                    {
                                        "name": "faculty_id"
                                    },
                                    {
                                        "name": "faculty_name"
                                    },
                                    {
                                        "name": "program_name"
                                    },
                                    {
                                        "name": "duration_years"
                                    },
                                    {
                                        "name": "num_of_students"
                                    }
                                ]
                            },
                            "data": [
                                {
                                    "faculty_id": "1",
                                    "faculty_name": "Medicine",
                                    "program_name": "Medicine",
                                    "duration_years": "6",
                                    "num_of_students": "3"
                                },
                                {
                                    "faculty_id": "2",
                                    "faculty_name": "Law",
                                    "program_name": "Law",
                                    "duration_years": "5",
                                    "num_of_students": "3"
                                },
                                {
                                    "faculty_id": "3",
                                    "faculty_name": "Arts",
                                    "program_name": "History",
                                    "duration_years": "3",
                                    "num_of_students": "3"
                                },
                                {
                                    "faculty_id": "4",
                                    "faculty_name": "Natural Sciences",
                                    "program_name": "Biology",
                                    "duration_years": "3",
                                    "num_of_students": "3"
                                },
                                {
                                    "faculty_id": "4",
                                    "faculty_name": "Natural Sciences",
                                    "program_name": "Chemistry",
                                    "duration_years": "3",
                                    "num_of_students": "2"
                                },
                                {
                                    "faculty_id": "5",
                                    "faculty_name": "Education",
                                    "program_name": "Education",
                                    "duration_years": "3",
                                    "num_of_students": "2"
                                },
                                {
                                    "faculty_id": "6",
                                    "faculty_name": "Pharmacy",
                                    "program_name": "Pharmacy",
                                    "duration_years": "5",
                                    "num_of_students": "2"
                                },
                                {
                                    "faculty_id": "7",
                                    "faculty_name": "Physical Education and Sport",
                                    "program_name": "Physical Education",
                                    "duration_years": "3",
                                    "num_of_students": "2"
                                },
                                {
                                    "faculty_id": "7",
                                    "faculty_name": "Physical Education and Sport",
                                    "program_name": "Sport",
                                    "duration_years": "3",
                                    "num_of_students": "2"
                                },
                                {
                                    "faculty_id": "8",
                                    "faculty_name": "Mathematics, Physics and Informatics",
                                    "program_name": "Informatics",
                                    "duration_years": "3",
                                    "num_of_students": "3"
                                },
                                {
                                    "faculty_id": "8",
                                    "faculty_name": "Mathematics, Physics and Informatics",
                                    "program_name": "Mathematics",
                                    "duration_years": "3",
                                    "num_of_students": "3"
                                },
                                {
                                    "faculty_id": "8",
                                    "faculty_name": "Mathematics, Physics and Informatics",
                                    "program_name": "Physics",
                                    "duration_years": "3",
                                    "num_of_students": "2"
                                },
                                {
                                    "faculty_id": "9",
                                    "faculty_name": "Social and Economic Sciences",
                                    "program_name": "Business Administration",
                                    "duration_years": "3",
                                    "num_of_students": "2"
                                },
                                {
                                    "faculty_id": "9",
                                    "faculty_name": "Social and Economic Sciences",
                                    "program_name": "Economics",
                                    "duration_years": "3",
                                    "num_of_students": "4"
                                }
                            ]
                        },
                        "text/html": "<table><tr><th>faculty_id</th><th>faculty_name</th><th>program_name</th><th>duration_years</th><th>num_of_students</th></tr><tr><td>1</td><td>Medicine</td><td>Medicine</td><td>6</td><td>3</td></tr><tr><td>2</td><td>Law</td><td>Law</td><td>5</td><td>3</td></tr><tr><td>3</td><td>Arts</td><td>History</td><td>3</td><td>3</td></tr><tr><td>4</td><td>Natural Sciences</td><td>Biology</td><td>3</td><td>3</td></tr><tr><td>4</td><td>Natural Sciences</td><td>Chemistry</td><td>3</td><td>2</td></tr><tr><td>5</td><td>Education</td><td>Education</td><td>3</td><td>2</td></tr><tr><td>6</td><td>Pharmacy</td><td>Pharmacy</td><td>5</td><td>2</td></tr><tr><td>7</td><td>Physical Education and Sport</td><td>Physical Education</td><td>3</td><td>2</td></tr><tr><td>7</td><td>Physical Education and Sport</td><td>Sport</td><td>3</td><td>2</td></tr><tr><td>8</td><td>Mathematics, Physics and Informatics</td><td>Informatics</td><td>3</td><td>3</td></tr><tr><td>8</td><td>Mathematics, Physics and Informatics</td><td>Mathematics</td><td>3</td><td>3</td></tr><tr><td>8</td><td>Mathematics, Physics and Informatics</td><td>Physics</td><td>3</td><td>2</td></tr><tr><td>9</td><td>Social and Economic Sciences</td><td>Business Administration</td><td>3</td><td>2</td></tr><tr><td>9</td><td>Social and Economic Sciences</td><td>Economics</td><td>3</td><td>4</td></tr></table>"
                    },
                    "metadata": {}
                }
            ],
            "execution_count": 3
        },
        {
            "cell_type": "code",
            "source": [
                "SELECT course_id, SUM(1) AS total_enrollments\r\n",
                "            FROM Enrollment\r\n",
                "            GROUP BY course_id"
            ],
            "metadata": {
                "azdata_cell_guid": "70664334-46fa-4ba9-be4e-7833bca17b6e",
                "language": "sql"
            },
            "outputs": [
                {
                    "output_type": "display_data",
                    "data": {
                        "text/html": "(15 rows affected)"
                    },
                    "metadata": {}
                },
                {
                    "output_type": "display_data",
                    "data": {
                        "text/html": "Total execution time: 00:00:00.023"
                    },
                    "metadata": {}
                },
                {
                    "output_type": "execute_result",
                    "execution_count": 4,
                    "data": {
                        "application/vnd.dataresource+json": {
                            "schema": {
                                "fields": [
                                    {
                                        "name": "course_id"
                                    },
                                    {
                                        "name": "total_enrollments"
                                    }
                                ]
                            },
                            "data": [
                                {
                                    "course_id": "1",
                                    "total_enrollments": "8"
                                },
                                {
                                    "course_id": "2",
                                    "total_enrollments": "8"
                                },
                                {
                                    "course_id": "3",
                                    "total_enrollments": "8"
                                },
                                {
                                    "course_id": "4",
                                    "total_enrollments": "8"
                                },
                                {
                                    "course_id": "5",
                                    "total_enrollments": "8"
                                },
                                {
                                    "course_id": "6",
                                    "total_enrollments": "7"
                                },
                                {
                                    "course_id": "7",
                                    "total_enrollments": "7"
                                },
                                {
                                    "course_id": "8",
                                    "total_enrollments": "7"
                                },
                                {
                                    "course_id": "9",
                                    "total_enrollments": "7"
                                },
                                {
                                    "course_id": "10",
                                    "total_enrollments": "7"
                                },
                                {
                                    "course_id": "11",
                                    "total_enrollments": "7"
                                },
                                {
                                    "course_id": "12",
                                    "total_enrollments": "7"
                                },
                                {
                                    "course_id": "13",
                                    "total_enrollments": "7"
                                },
                                {
                                    "course_id": "14",
                                    "total_enrollments": "7"
                                },
                                {
                                    "course_id": "15",
                                    "total_enrollments": "7"
                                }
                            ]
                        },
                        "text/html": "<table><tr><th>course_id</th><th>total_enrollments</th></tr><tr><td>1</td><td>8</td></tr><tr><td>2</td><td>8</td></tr><tr><td>3</td><td>8</td></tr><tr><td>4</td><td>8</td></tr><tr><td>5</td><td>8</td></tr><tr><td>6</td><td>7</td></tr><tr><td>7</td><td>7</td></tr><tr><td>8</td><td>7</td></tr><tr><td>9</td><td>7</td></tr><tr><td>10</td><td>7</td></tr><tr><td>11</td><td>7</td></tr><tr><td>12</td><td>7</td></tr><tr><td>13</td><td>7</td></tr><tr><td>14</td><td>7</td></tr><tr><td>15</td><td>7</td></tr></table>"
                    },
                    "metadata": {}
                }
            ],
            "execution_count": 4
        },
        {
            "cell_type": "code",
            "source": [
                "SELECT * FROM Student;"
            ],
            "metadata": {
                "azdata_cell_guid": "3bc2f9ce-c560-4f50-9a5b-c35dfe6ca432",
                "language": "sql"
            },
            "outputs": [
                {
                    "output_type": "display_data",
                    "data": {
                        "text/html": "(36 rows affected)"
                    },
                    "metadata": {}
                },
                {
                    "output_type": "display_data",
                    "data": {
                        "text/html": "Total execution time: 00:00:00.050"
                    },
                    "metadata": {}
                },
                {
                    "output_type": "execute_result",
                    "execution_count": 13,
                    "data": {
                        "application/vnd.dataresource+json": {
                            "schema": {
                                "fields": [
                                    {
                                        "name": "student_id"
                                    },
                                    {
                                        "name": "program_id"
                                    },
                                    {
                                        "name": "study_year"
                                    },
                                    {
                                        "name": "admission_date"
                                    },
                                    {
                                        "name": "graduation_date"
                                    },
                                    {
                                        "name": "gpa"
                                    },
                                    {
                                        "name": "status"
                                    },
                                    {
                                        "name": "honor_status"
                                    }
                                ]
                            },
                            "data": [
                                {
                                    "student_id": "10000003",
                                    "program_id": "1",
                                    "study_year": "1",
                                    "admission_date": "2022-09-01",
                                    "graduation_date": "NULL",
                                    "gpa": "2.00",
                                    "status": "active",
                                    "honor_status": "Good standing"
                                },
                                {
                                    "student_id": "10000004",
                                    "program_id": "2",
                                    "study_year": "1",
                                    "admission_date": "2022-09-01",
                                    "graduation_date": "NULL",
                                    "gpa": "NULL",
                                    "status": "active",
                                    "honor_status": "NULL"
                                },
                                {
                                    "student_id": "10000007",
                                    "program_id": "3",
                                    "study_year": "1",
                                    "admission_date": "2022-09-01",
                                    "graduation_date": "NULL",
                                    "gpa": "NULL",
                                    "status": "active",
                                    "honor_status": "NULL"
                                },
                                {
                                    "student_id": "10000008",
                                    "program_id": "4",
                                    "study_year": "1",
                                    "admission_date": "2022-09-01",
                                    "graduation_date": "NULL",
                                    "gpa": "NULL",
                                    "status": "active",
                                    "honor_status": "NULL"
                                },
                                {
                                    "student_id": "10000026",
                                    "program_id": "7",
                                    "study_year": "2",
                                    "admission_date": "2021-09-01",
                                    "graduation_date": "NULL",
                                    "gpa": "NULL",
                                    "status": "active",
                                    "honor_status": "NULL"
                                },
                                {
                                    "student_id": "10000027",
                                    "program_id": "8",
                                    "study_year": "2",
                                    "admission_date": "2021-09-01",
                                    "graduation_date": "NULL",
                                    "gpa": "NULL",
                                    "status": "active",
                                    "honor_status": "NULL"
                                },
                                {
                                    "student_id": "10000028",
                                    "program_id": "9",
                                    "study_year": "2",
                                    "admission_date": "2021-09-01",
                                    "graduation_date": "NULL",
                                    "gpa": "NULL",
                                    "status": "active",
                                    "honor_status": "NULL"
                                },
                                {
                                    "student_id": "10000029",
                                    "program_id": "10",
                                    "study_year": "2",
                                    "admission_date": "2021-09-01",
                                    "graduation_date": "NULL",
                                    "gpa": "NULL",
                                    "status": "expelled",
                                    "honor_status": "NULL"
                                },
                                {
                                    "student_id": "10000030",
                                    "program_id": "11",
                                    "study_year": "2",
                                    "admission_date": "2021-09-01",
                                    "graduation_date": "NULL",
                                    "gpa": "NULL",
                                    "status": "active",
                                    "honor_status": "NULL"
                                },
                                {
                                    "student_id": "10000031",
                                    "program_id": "12",
                                    "study_year": "2",
                                    "admission_date": "2021-09-01",
                                    "graduation_date": "NULL",
                                    "gpa": "NULL",
                                    "status": "active",
                                    "honor_status": "NULL"
                                },
                                {
                                    "student_id": "10000032",
                                    "program_id": "13",
                                    "study_year": "2",
                                    "admission_date": "2021-09-01",
                                    "graduation_date": "NULL",
                                    "gpa": "NULL",
                                    "status": "active",
                                    "honor_status": "NULL"
                                },
                                {
                                    "student_id": "10000033",
                                    "program_id": "14",
                                    "study_year": "2",
                                    "admission_date": "2021-09-01",
                                    "graduation_date": "NULL",
                                    "gpa": "NULL",
                                    "status": "active",
                                    "honor_status": "NULL"
                                },
                                {
                                    "student_id": "10000034",
                                    "program_id": "15",
                                    "study_year": "2",
                                    "admission_date": "2021-09-01",
                                    "graduation_date": "NULL",
                                    "gpa": "NULL",
                                    "status": "active",
                                    "honor_status": "NULL"
                                },
                                {
                                    "student_id": "10000035",
                                    "program_id": "1",
                                    "study_year": "3",
                                    "admission_date": "2020-09-01",
                                    "graduation_date": "NULL",
                                    "gpa": "NULL",
                                    "status": "active",
                                    "honor_status": "NULL"
                                },
                                {
                                    "student_id": "10000036",
                                    "program_id": "2",
                                    "study_year": "3",
                                    "admission_date": "2020-09-01",
                                    "graduation_date": "NULL",
                                    "gpa": "NULL",
                                    "status": "active",
                                    "honor_status": "NULL"
                                },
                                {
                                    "student_id": "10000037",
                                    "program_id": "3",
                                    "study_year": "3",
                                    "admission_date": "2020-09-01",
                                    "graduation_date": "NULL",
                                    "gpa": "NULL",
                                    "status": "active",
                                    "honor_status": "NULL"
                                },
                                {
                                    "student_id": "10000038",
                                    "program_id": "4",
                                    "study_year": "3",
                                    "admission_date": "2020-09-01",
                                    "graduation_date": "NULL",
                                    "gpa": "NULL",
                                    "status": "active",
                                    "honor_status": "NULL"
                                },
                                {
                                    "student_id": "10000039",
                                    "program_id": "5",
                                    "study_year": "3",
                                    "admission_date": "2020-09-01",
                                    "graduation_date": "NULL",
                                    "gpa": "NULL",
                                    "status": "active",
                                    "honor_status": "NULL"
                                },
                                {
                                    "student_id": "10000040",
                                    "program_id": "6",
                                    "study_year": "3",
                                    "admission_date": "2020-09-01",
                                    "graduation_date": "NULL",
                                    "gpa": "NULL",
                                    "status": "suspended",
                                    "honor_status": "NULL"
                                },
                                {
                                    "student_id": "10000041",
                                    "program_id": "7",
                                    "study_year": "3",
                                    "admission_date": "2020-09-01",
                                    "graduation_date": "NULL",
                                    "gpa": "NULL",
                                    "status": "active",
                                    "honor_status": "NULL"
                                },
                                {
                                    "student_id": "10000042",
                                    "program_id": "8",
                                    "study_year": "3",
                                    "admission_date": "2020-09-01",
                                    "graduation_date": "NULL",
                                    "gpa": "NULL",
                                    "status": "active",
                                    "honor_status": "NULL"
                                },
                                {
                                    "student_id": "10000043",
                                    "program_id": "9",
                                    "study_year": "3",
                                    "admission_date": "2020-09-01",
                                    "graduation_date": "NULL",
                                    "gpa": "NULL",
                                    "status": "active",
                                    "honor_status": "NULL"
                                },
                                {
                                    "student_id": "10000044",
                                    "program_id": "10",
                                    "study_year": "3",
                                    "admission_date": "2020-09-01",
                                    "graduation_date": "NULL",
                                    "gpa": "NULL",
                                    "status": "active",
                                    "honor_status": "NULL"
                                },
                                {
                                    "student_id": "10000045",
                                    "program_id": "11",
                                    "study_year": "3",
                                    "admission_date": "2020-09-01",
                                    "graduation_date": "NULL",
                                    "gpa": "NULL",
                                    "status": "active",
                                    "honor_status": "NULL"
                                },
                                {
                                    "student_id": "10000046",
                                    "program_id": "12",
                                    "study_year": "3",
                                    "admission_date": "2020-09-01",
                                    "graduation_date": "NULL",
                                    "gpa": "NULL",
                                    "status": "active",
                                    "honor_status": "NULL"
                                },
                                {
                                    "student_id": "10000047",
                                    "program_id": "13",
                                    "study_year": "3",
                                    "admission_date": "2020-09-01",
                                    "graduation_date": "NULL",
                                    "gpa": "NULL",
                                    "status": "expelled",
                                    "honor_status": "NULL"
                                },
                                {
                                    "student_id": "10000048",
                                    "program_id": "14",
                                    "study_year": "3",
                                    "admission_date": "2020-09-01",
                                    "graduation_date": "NULL",
                                    "gpa": "NULL",
                                    "status": "active",
                                    "honor_status": "NULL"
                                },
                                {
                                    "student_id": "10000049",
                                    "program_id": "15",
                                    "study_year": "3",
                                    "admission_date": "2020-09-01",
                                    "graduation_date": "NULL",
                                    "gpa": "NULL",
                                    "status": "active",
                                    "honor_status": "NULL"
                                },
                                {
                                    "student_id": "10000050",
                                    "program_id": "1",
                                    "study_year": "4",
                                    "admission_date": "2019-09-01",
                                    "graduation_date": "NULL",
                                    "gpa": "NULL",
                                    "status": "active",
                                    "honor_status": "NULL"
                                },
                                {
                                    "student_id": "10000051",
                                    "program_id": "2",
                                    "study_year": "4",
                                    "admission_date": "2019-09-01",
                                    "graduation_date": "NULL",
                                    "gpa": "NULL",
                                    "status": "active",
                                    "honor_status": "NULL"
                                },
                                {
                                    "student_id": "10000052",
                                    "program_id": "3",
                                    "study_year": "3",
                                    "admission_date": "2020-09-01",
                                    "graduation_date": "NULL",
                                    "gpa": "NULL",
                                    "status": "active",
                                    "honor_status": "NULL"
                                },
                                {
                                    "student_id": "10000053",
                                    "program_id": "4",
                                    "study_year": "3",
                                    "admission_date": "2020-09-01",
                                    "graduation_date": "NULL",
                                    "gpa": "NULL",
                                    "status": "active",
                                    "honor_status": "NULL"
                                },
                                {
                                    "student_id": "10000054",
                                    "program_id": "5",
                                    "study_year": "3",
                                    "admission_date": "2020-09-01",
                                    "graduation_date": "NULL",
                                    "gpa": "NULL",
                                    "status": "active",
                                    "honor_status": "NULL"
                                },
                                {
                                    "student_id": "10000055",
                                    "program_id": "6",
                                    "study_year": "3",
                                    "admission_date": "2020-09-01",
                                    "graduation_date": "NULL",
                                    "gpa": "NULL",
                                    "status": "active",
                                    "honor_status": "NULL"
                                },
                                {
                                    "student_id": "10000056",
                                    "program_id": "7",
                                    "study_year": "3",
                                    "admission_date": "2020-09-01",
                                    "graduation_date": "NULL",
                                    "gpa": "NULL",
                                    "status": "active",
                                    "honor_status": "NULL"
                                },
                                {
                                    "student_id": "10000057",
                                    "program_id": "8",
                                    "study_year": "3",
                                    "admission_date": "2020-09-01",
                                    "graduation_date": "NULL",
                                    "gpa": "NULL",
                                    "status": "active",
                                    "honor_status": "NULL"
                                }
                            ]
                        },
                        "text/html": "<table><tr><th>student_id</th><th>program_id</th><th>study_year</th><th>admission_date</th><th>graduation_date</th><th>gpa</th><th>status</th><th>honor_status</th></tr><tr><td>10000003</td><td>1</td><td>1</td><td>2022-09-01</td><td>NULL</td><td>2.00</td><td>active</td><td>Good standing</td></tr><tr><td>10000004</td><td>2</td><td>1</td><td>2022-09-01</td><td>NULL</td><td>NULL</td><td>active</td><td>NULL</td></tr><tr><td>10000007</td><td>3</td><td>1</td><td>2022-09-01</td><td>NULL</td><td>NULL</td><td>active</td><td>NULL</td></tr><tr><td>10000008</td><td>4</td><td>1</td><td>2022-09-01</td><td>NULL</td><td>NULL</td><td>active</td><td>NULL</td></tr><tr><td>10000026</td><td>7</td><td>2</td><td>2021-09-01</td><td>NULL</td><td>NULL</td><td>active</td><td>NULL</td></tr><tr><td>10000027</td><td>8</td><td>2</td><td>2021-09-01</td><td>NULL</td><td>NULL</td><td>active</td><td>NULL</td></tr><tr><td>10000028</td><td>9</td><td>2</td><td>2021-09-01</td><td>NULL</td><td>NULL</td><td>active</td><td>NULL</td></tr><tr><td>10000029</td><td>10</td><td>2</td><td>2021-09-01</td><td>NULL</td><td>NULL</td><td>expelled</td><td>NULL</td></tr><tr><td>10000030</td><td>11</td><td>2</td><td>2021-09-01</td><td>NULL</td><td>NULL</td><td>active</td><td>NULL</td></tr><tr><td>10000031</td><td>12</td><td>2</td><td>2021-09-01</td><td>NULL</td><td>NULL</td><td>active</td><td>NULL</td></tr><tr><td>10000032</td><td>13</td><td>2</td><td>2021-09-01</td><td>NULL</td><td>NULL</td><td>active</td><td>NULL</td></tr><tr><td>10000033</td><td>14</td><td>2</td><td>2021-09-01</td><td>NULL</td><td>NULL</td><td>active</td><td>NULL</td></tr><tr><td>10000034</td><td>15</td><td>2</td><td>2021-09-01</td><td>NULL</td><td>NULL</td><td>active</td><td>NULL</td></tr><tr><td>10000035</td><td>1</td><td>3</td><td>2020-09-01</td><td>NULL</td><td>NULL</td><td>active</td><td>NULL</td></tr><tr><td>10000036</td><td>2</td><td>3</td><td>2020-09-01</td><td>NULL</td><td>NULL</td><td>active</td><td>NULL</td></tr><tr><td>10000037</td><td>3</td><td>3</td><td>2020-09-01</td><td>NULL</td><td>NULL</td><td>active</td><td>NULL</td></tr><tr><td>10000038</td><td>4</td><td>3</td><td>2020-09-01</td><td>NULL</td><td>NULL</td><td>active</td><td>NULL</td></tr><tr><td>10000039</td><td>5</td><td>3</td><td>2020-09-01</td><td>NULL</td><td>NULL</td><td>active</td><td>NULL</td></tr><tr><td>10000040</td><td>6</td><td>3</td><td>2020-09-01</td><td>NULL</td><td>NULL</td><td>suspended</td><td>NULL</td></tr><tr><td>10000041</td><td>7</td><td>3</td><td>2020-09-01</td><td>NULL</td><td>NULL</td><td>active</td><td>NULL</td></tr><tr><td>10000042</td><td>8</td><td>3</td><td>2020-09-01</td><td>NULL</td><td>NULL</td><td>active</td><td>NULL</td></tr><tr><td>10000043</td><td>9</td><td>3</td><td>2020-09-01</td><td>NULL</td><td>NULL</td><td>active</td><td>NULL</td></tr><tr><td>10000044</td><td>10</td><td>3</td><td>2020-09-01</td><td>NULL</td><td>NULL</td><td>active</td><td>NULL</td></tr><tr><td>10000045</td><td>11</td><td>3</td><td>2020-09-01</td><td>NULL</td><td>NULL</td><td>active</td><td>NULL</td></tr><tr><td>10000046</td><td>12</td><td>3</td><td>2020-09-01</td><td>NULL</td><td>NULL</td><td>active</td><td>NULL</td></tr><tr><td>10000047</td><td>13</td><td>3</td><td>2020-09-01</td><td>NULL</td><td>NULL</td><td>expelled</td><td>NULL</td></tr><tr><td>10000048</td><td>14</td><td>3</td><td>2020-09-01</td><td>NULL</td><td>NULL</td><td>active</td><td>NULL</td></tr><tr><td>10000049</td><td>15</td><td>3</td><td>2020-09-01</td><td>NULL</td><td>NULL</td><td>active</td><td>NULL</td></tr><tr><td>10000050</td><td>1</td><td>4</td><td>2019-09-01</td><td>NULL</td><td>NULL</td><td>active</td><td>NULL</td></tr><tr><td>10000051</td><td>2</td><td>4</td><td>2019-09-01</td><td>NULL</td><td>NULL</td><td>active</td><td>NULL</td></tr><tr><td>10000052</td><td>3</td><td>3</td><td>2020-09-01</td><td>NULL</td><td>NULL</td><td>active</td><td>NULL</td></tr><tr><td>10000053</td><td>4</td><td>3</td><td>2020-09-01</td><td>NULL</td><td>NULL</td><td>active</td><td>NULL</td></tr><tr><td>10000054</td><td>5</td><td>3</td><td>2020-09-01</td><td>NULL</td><td>NULL</td><td>active</td><td>NULL</td></tr><tr><td>10000055</td><td>6</td><td>3</td><td>2020-09-01</td><td>NULL</td><td>NULL</td><td>active</td><td>NULL</td></tr><tr><td>10000056</td><td>7</td><td>3</td><td>2020-09-01</td><td>NULL</td><td>NULL</td><td>active</td><td>NULL</td></tr><tr><td>10000057</td><td>8</td><td>3</td><td>2020-09-01</td><td>NULL</td><td>NULL</td><td>active</td><td>NULL</td></tr></table>"
                    },
                    "metadata": {}
                }
            ],
            "execution_count": 13
        },
        {
            "cell_type": "code",
            "source": [
                "SELECT * FROM Enrollment;"
            ],
            "metadata": {
                "azdata_cell_guid": "cf62b1a6-9968-4c80-b3c6-e4300394aef2",
                "language": "sql"
            },
            "outputs": [
                {
                    "output_type": "display_data",
                    "data": {
                        "text/html": "(110 rows affected)"
                    },
                    "metadata": {}
                },
                {
                    "output_type": "display_data",
                    "data": {
                        "text/html": "Total execution time: 00:00:00.049"
                    },
                    "metadata": {}
                },
                {
                    "output_type": "execute_result",
                    "execution_count": 10,
                    "data": {
                        "application/vnd.dataresource+json": {
                            "schema": {
                                "fields": [
                                    {
                                        "name": "student_id"
                                    },
                                    {
                                        "name": "course_id"
                                    },
                                    {
                                        "name": "enrollment_date"
                                    },
                                    {
                                        "name": "grade"
                                    }
                                ]
                            },
                            "data": [
                                {
                                    "student_id": "10000003",
                                    "course_id": "1",
                                    "enrollment_date": "2022-09-01",
                                    "grade": "1"
                                },
                                {
                                    "student_id": "10000003",
                                    "course_id": "2",
                                    "enrollment_date": "2022-09-01",
                                    "grade": "3"
                                },
                                {
                                    "student_id": "10000003",
                                    "course_id": "3",
                                    "enrollment_date": "2022-09-01",
                                    "grade": "NULL"
                                },
                                {
                                    "student_id": "10000003",
                                    "course_id": "4",
                                    "enrollment_date": "2022-09-01",
                                    "grade": "NULL"
                                },
                                {
                                    "student_id": "10000003",
                                    "course_id": "5",
                                    "enrollment_date": "2022-09-01",
                                    "grade": "NULL"
                                },
                                {
                                    "student_id": "10000003",
                                    "course_id": "6",
                                    "enrollment_date": "2022-09-01",
                                    "grade": "NULL"
                                },
                                {
                                    "student_id": "10000003",
                                    "course_id": "7",
                                    "enrollment_date": "2022-09-01",
                                    "grade": "NULL"
                                },
                                {
                                    "student_id": "10000003",
                                    "course_id": "8",
                                    "enrollment_date": "2022-09-01",
                                    "grade": "NULL"
                                },
                                {
                                    "student_id": "10000003",
                                    "course_id": "9",
                                    "enrollment_date": "2022-09-01",
                                    "grade": "NULL"
                                },
                                {
                                    "student_id": "10000003",
                                    "course_id": "10",
                                    "enrollment_date": "2022-09-01",
                                    "grade": "NULL"
                                },
                                {
                                    "student_id": "10000003",
                                    "course_id": "11",
                                    "enrollment_date": "2022-09-01",
                                    "grade": "NULL"
                                },
                                {
                                    "student_id": "10000003",
                                    "course_id": "12",
                                    "enrollment_date": "2022-09-01",
                                    "grade": "NULL"
                                },
                                {
                                    "student_id": "10000003",
                                    "course_id": "13",
                                    "enrollment_date": "2022-09-01",
                                    "grade": "NULL"
                                },
                                {
                                    "student_id": "10000003",
                                    "course_id": "14",
                                    "enrollment_date": "2022-09-01",
                                    "grade": "NULL"
                                },
                                {
                                    "student_id": "10000003",
                                    "course_id": "15",
                                    "enrollment_date": "2022-09-01",
                                    "grade": "NULL"
                                },
                                {
                                    "student_id": "10000004",
                                    "course_id": "1",
                                    "enrollment_date": "2022-09-01",
                                    "grade": "NULL"
                                },
                                {
                                    "student_id": "10000004",
                                    "course_id": "2",
                                    "enrollment_date": "2022-09-01",
                                    "grade": "NULL"
                                },
                                {
                                    "student_id": "10000004",
                                    "course_id": "3",
                                    "enrollment_date": "2022-09-01",
                                    "grade": "NULL"
                                },
                                {
                                    "student_id": "10000004",
                                    "course_id": "4",
                                    "enrollment_date": "2022-09-01",
                                    "grade": "NULL"
                                },
                                {
                                    "student_id": "10000004",
                                    "course_id": "5",
                                    "enrollment_date": "2022-09-01",
                                    "grade": "NULL"
                                },
                                {
                                    "student_id": "10000004",
                                    "course_id": "6",
                                    "enrollment_date": "2022-09-01",
                                    "grade": "NULL"
                                },
                                {
                                    "student_id": "10000004",
                                    "course_id": "7",
                                    "enrollment_date": "2022-09-01",
                                    "grade": "NULL"
                                },
                                {
                                    "student_id": "10000004",
                                    "course_id": "8",
                                    "enrollment_date": "2022-09-01",
                                    "grade": "NULL"
                                },
                                {
                                    "student_id": "10000004",
                                    "course_id": "9",
                                    "enrollment_date": "2022-09-01",
                                    "grade": "NULL"
                                },
                                {
                                    "student_id": "10000004",
                                    "course_id": "10",
                                    "enrollment_date": "2022-09-01",
                                    "grade": "NULL"
                                },
                                {
                                    "student_id": "10000004",
                                    "course_id": "11",
                                    "enrollment_date": "2022-09-01",
                                    "grade": "NULL"
                                },
                                {
                                    "student_id": "10000004",
                                    "course_id": "12",
                                    "enrollment_date": "2022-09-01",
                                    "grade": "NULL"
                                },
                                {
                                    "student_id": "10000004",
                                    "course_id": "13",
                                    "enrollment_date": "2022-09-01",
                                    "grade": "NULL"
                                },
                                {
                                    "student_id": "10000004",
                                    "course_id": "14",
                                    "enrollment_date": "2022-09-01",
                                    "grade": "NULL"
                                },
                                {
                                    "student_id": "10000004",
                                    "course_id": "15",
                                    "enrollment_date": "2022-09-01",
                                    "grade": "NULL"
                                },
                                {
                                    "student_id": "10000007",
                                    "course_id": "1",
                                    "enrollment_date": "2022-09-01",
                                    "grade": "NULL"
                                },
                                {
                                    "student_id": "10000007",
                                    "course_id": "2",
                                    "enrollment_date": "2022-09-01",
                                    "grade": "NULL"
                                },
                                {
                                    "student_id": "10000007",
                                    "course_id": "3",
                                    "enrollment_date": "2022-09-01",
                                    "grade": "NULL"
                                },
                                {
                                    "student_id": "10000007",
                                    "course_id": "4",
                                    "enrollment_date": "2022-09-01",
                                    "grade": "NULL"
                                },
                                {
                                    "student_id": "10000007",
                                    "course_id": "5",
                                    "enrollment_date": "2022-09-01",
                                    "grade": "NULL"
                                },
                                {
                                    "student_id": "10000007",
                                    "course_id": "6",
                                    "enrollment_date": "2022-09-01",
                                    "grade": "NULL"
                                },
                                {
                                    "student_id": "10000007",
                                    "course_id": "7",
                                    "enrollment_date": "2022-09-01",
                                    "grade": "NULL"
                                },
                                {
                                    "student_id": "10000007",
                                    "course_id": "8",
                                    "enrollment_date": "2022-09-01",
                                    "grade": "NULL"
                                },
                                {
                                    "student_id": "10000007",
                                    "course_id": "9",
                                    "enrollment_date": "2022-09-01",
                                    "grade": "NULL"
                                },
                                {
                                    "student_id": "10000007",
                                    "course_id": "10",
                                    "enrollment_date": "2022-09-01",
                                    "grade": "NULL"
                                },
                                {
                                    "student_id": "10000007",
                                    "course_id": "11",
                                    "enrollment_date": "2022-09-01",
                                    "grade": "NULL"
                                },
                                {
                                    "student_id": "10000007",
                                    "course_id": "12",
                                    "enrollment_date": "2022-09-01",
                                    "grade": "NULL"
                                },
                                {
                                    "student_id": "10000007",
                                    "course_id": "13",
                                    "enrollment_date": "2022-09-01",
                                    "grade": "NULL"
                                },
                                {
                                    "student_id": "10000007",
                                    "course_id": "14",
                                    "enrollment_date": "2022-09-01",
                                    "grade": "NULL"
                                },
                                {
                                    "student_id": "10000007",
                                    "course_id": "15",
                                    "enrollment_date": "2022-09-01",
                                    "grade": "NULL"
                                },
                                {
                                    "student_id": "10000008",
                                    "course_id": "1",
                                    "enrollment_date": "2022-09-01",
                                    "grade": "NULL"
                                },
                                {
                                    "student_id": "10000008",
                                    "course_id": "2",
                                    "enrollment_date": "2022-09-01",
                                    "grade": "NULL"
                                },
                                {
                                    "student_id": "10000008",
                                    "course_id": "3",
                                    "enrollment_date": "2022-09-01",
                                    "grade": "NULL"
                                },
                                {
                                    "student_id": "10000008",
                                    "course_id": "4",
                                    "enrollment_date": "2022-09-01",
                                    "grade": "NULL"
                                },
                                {
                                    "student_id": "10000008",
                                    "course_id": "5",
                                    "enrollment_date": "2022-09-01",
                                    "grade": "NULL"
                                },
                                {
                                    "student_id": "10000008",
                                    "course_id": "6",
                                    "enrollment_date": "2022-09-01",
                                    "grade": "NULL"
                                },
                                {
                                    "student_id": "10000008",
                                    "course_id": "7",
                                    "enrollment_date": "2022-09-01",
                                    "grade": "NULL"
                                },
                                {
                                    "student_id": "10000008",
                                    "course_id": "8",
                                    "enrollment_date": "2022-09-01",
                                    "grade": "NULL"
                                },
                                {
                                    "student_id": "10000008",
                                    "course_id": "9",
                                    "enrollment_date": "2022-09-01",
                                    "grade": "NULL"
                                },
                                {
                                    "student_id": "10000008",
                                    "course_id": "10",
                                    "enrollment_date": "2022-09-01",
                                    "grade": "NULL"
                                },
                                {
                                    "student_id": "10000008",
                                    "course_id": "11",
                                    "enrollment_date": "2022-09-01",
                                    "grade": "NULL"
                                },
                                {
                                    "student_id": "10000008",
                                    "course_id": "12",
                                    "enrollment_date": "2022-09-01",
                                    "grade": "NULL"
                                },
                                {
                                    "student_id": "10000008",
                                    "course_id": "13",
                                    "enrollment_date": "2022-09-01",
                                    "grade": "NULL"
                                },
                                {
                                    "student_id": "10000008",
                                    "course_id": "14",
                                    "enrollment_date": "2022-09-01",
                                    "grade": "NULL"
                                },
                                {
                                    "student_id": "10000008",
                                    "course_id": "15",
                                    "enrollment_date": "2022-09-01",
                                    "grade": "NULL"
                                },
                                {
                                    "student_id": "10000026",
                                    "course_id": "1",
                                    "enrollment_date": "2022-09-01",
                                    "grade": "NULL"
                                },
                                {
                                    "student_id": "10000026",
                                    "course_id": "2",
                                    "enrollment_date": "2022-09-01",
                                    "grade": "NULL"
                                },
                                {
                                    "student_id": "10000026",
                                    "course_id": "3",
                                    "enrollment_date": "2022-09-01",
                                    "grade": "NULL"
                                },
                                {
                                    "student_id": "10000026",
                                    "course_id": "4",
                                    "enrollment_date": "2022-09-01",
                                    "grade": "NULL"
                                },
                                {
                                    "student_id": "10000026",
                                    "course_id": "5",
                                    "enrollment_date": "2022-09-01",
                                    "grade": "NULL"
                                },
                                {
                                    "student_id": "10000026",
                                    "course_id": "6",
                                    "enrollment_date": "2022-09-01",
                                    "grade": "NULL"
                                },
                                {
                                    "student_id": "10000026",
                                    "course_id": "7",
                                    "enrollment_date": "2022-09-01",
                                    "grade": "NULL"
                                },
                                {
                                    "student_id": "10000026",
                                    "course_id": "8",
                                    "enrollment_date": "2022-09-01",
                                    "grade": "NULL"
                                },
                                {
                                    "student_id": "10000026",
                                    "course_id": "9",
                                    "enrollment_date": "2022-09-01",
                                    "grade": "NULL"
                                },
                                {
                                    "student_id": "10000026",
                                    "course_id": "10",
                                    "enrollment_date": "2022-09-01",
                                    "grade": "NULL"
                                },
                                {
                                    "student_id": "10000026",
                                    "course_id": "11",
                                    "enrollment_date": "2022-09-01",
                                    "grade": "NULL"
                                },
                                {
                                    "student_id": "10000026",
                                    "course_id": "12",
                                    "enrollment_date": "2022-09-01",
                                    "grade": "NULL"
                                },
                                {
                                    "student_id": "10000026",
                                    "course_id": "13",
                                    "enrollment_date": "2022-09-01",
                                    "grade": "NULL"
                                },
                                {
                                    "student_id": "10000026",
                                    "course_id": "14",
                                    "enrollment_date": "2022-09-01",
                                    "grade": "NULL"
                                },
                                {
                                    "student_id": "10000026",
                                    "course_id": "15",
                                    "enrollment_date": "2022-09-01",
                                    "grade": "NULL"
                                },
                                {
                                    "student_id": "10000027",
                                    "course_id": "1",
                                    "enrollment_date": "2022-09-01",
                                    "grade": "NULL"
                                },
                                {
                                    "student_id": "10000027",
                                    "course_id": "2",
                                    "enrollment_date": "2022-09-01",
                                    "grade": "NULL"
                                },
                                {
                                    "student_id": "10000027",
                                    "course_id": "3",
                                    "enrollment_date": "2022-09-01",
                                    "grade": "NULL"
                                },
                                {
                                    "student_id": "10000027",
                                    "course_id": "4",
                                    "enrollment_date": "2022-09-01",
                                    "grade": "NULL"
                                },
                                {
                                    "student_id": "10000027",
                                    "course_id": "5",
                                    "enrollment_date": "2022-09-01",
                                    "grade": "NULL"
                                },
                                {
                                    "student_id": "10000027",
                                    "course_id": "6",
                                    "enrollment_date": "2022-09-01",
                                    "grade": "NULL"
                                },
                                {
                                    "student_id": "10000027",
                                    "course_id": "7",
                                    "enrollment_date": "2022-09-01",
                                    "grade": "NULL"
                                },
                                {
                                    "student_id": "10000027",
                                    "course_id": "8",
                                    "enrollment_date": "2022-09-01",
                                    "grade": "NULL"
                                },
                                {
                                    "student_id": "10000027",
                                    "course_id": "9",
                                    "enrollment_date": "2022-09-01",
                                    "grade": "NULL"
                                },
                                {
                                    "student_id": "10000027",
                                    "course_id": "10",
                                    "enrollment_date": "2022-09-01",
                                    "grade": "NULL"
                                },
                                {
                                    "student_id": "10000027",
                                    "course_id": "11",
                                    "enrollment_date": "2022-09-01",
                                    "grade": "NULL"
                                },
                                {
                                    "student_id": "10000027",
                                    "course_id": "12",
                                    "enrollment_date": "2022-09-01",
                                    "grade": "NULL"
                                },
                                {
                                    "student_id": "10000027",
                                    "course_id": "13",
                                    "enrollment_date": "2022-09-01",
                                    "grade": "NULL"
                                },
                                {
                                    "student_id": "10000027",
                                    "course_id": "14",
                                    "enrollment_date": "2022-09-01",
                                    "grade": "NULL"
                                },
                                {
                                    "student_id": "10000027",
                                    "course_id": "15",
                                    "enrollment_date": "2022-09-01",
                                    "grade": "NULL"
                                },
                                {
                                    "student_id": "10000028",
                                    "course_id": "1",
                                    "enrollment_date": "2022-09-01",
                                    "grade": "NULL"
                                },
                                {
                                    "student_id": "10000028",
                                    "course_id": "2",
                                    "enrollment_date": "2022-09-01",
                                    "grade": "NULL"
                                },
                                {
                                    "student_id": "10000028",
                                    "course_id": "3",
                                    "enrollment_date": "2022-09-01",
                                    "grade": "NULL"
                                },
                                {
                                    "student_id": "10000028",
                                    "course_id": "4",
                                    "enrollment_date": "2022-09-01",
                                    "grade": "NULL"
                                },
                                {
                                    "student_id": "10000028",
                                    "course_id": "5",
                                    "enrollment_date": "2022-09-01",
                                    "grade": "NULL"
                                },
                                {
                                    "student_id": "10000028",
                                    "course_id": "6",
                                    "enrollment_date": "2022-09-01",
                                    "grade": "NULL"
                                },
                                {
                                    "student_id": "10000028",
                                    "course_id": "7",
                                    "enrollment_date": "2022-09-01",
                                    "grade": "NULL"
                                },
                                {
                                    "student_id": "10000028",
                                    "course_id": "8",
                                    "enrollment_date": "2022-09-01",
                                    "grade": "NULL"
                                },
                                {
                                    "student_id": "10000028",
                                    "course_id": "9",
                                    "enrollment_date": "2022-09-01",
                                    "grade": "NULL"
                                },
                                {
                                    "student_id": "10000028",
                                    "course_id": "10",
                                    "enrollment_date": "2022-09-01",
                                    "grade": "NULL"
                                },
                                {
                                    "student_id": "10000028",
                                    "course_id": "11",
                                    "enrollment_date": "2022-09-01",
                                    "grade": "NULL"
                                },
                                {
                                    "student_id": "10000028",
                                    "course_id": "12",
                                    "enrollment_date": "2022-09-01",
                                    "grade": "NULL"
                                },
                                {
                                    "student_id": "10000028",
                                    "course_id": "13",
                                    "enrollment_date": "2022-09-01",
                                    "grade": "NULL"
                                },
                                {
                                    "student_id": "10000028",
                                    "course_id": "14",
                                    "enrollment_date": "2022-09-01",
                                    "grade": "NULL"
                                },
                                {
                                    "student_id": "10000028",
                                    "course_id": "15",
                                    "enrollment_date": "2022-09-01",
                                    "grade": "NULL"
                                },
                                {
                                    "student_id": "10000029",
                                    "course_id": "1",
                                    "enrollment_date": "2022-09-01",
                                    "grade": "NULL"
                                },
                                {
                                    "student_id": "10000029",
                                    "course_id": "2",
                                    "enrollment_date": "2022-09-01",
                                    "grade": "NULL"
                                },
                                {
                                    "student_id": "10000029",
                                    "course_id": "3",
                                    "enrollment_date": "2022-09-01",
                                    "grade": "NULL"
                                },
                                {
                                    "student_id": "10000029",
                                    "course_id": "4",
                                    "enrollment_date": "2022-09-01",
                                    "grade": "NULL"
                                },
                                {
                                    "student_id": "10000029",
                                    "course_id": "5",
                                    "enrollment_date": "2022-09-01",
                                    "grade": "NULL"
                                }
                            ]
                        },
                        "text/html": "<table><tr><th>student_id</th><th>course_id</th><th>enrollment_date</th><th>grade</th></tr><tr><td>10000003</td><td>1</td><td>2022-09-01</td><td>1</td></tr><tr><td>10000003</td><td>2</td><td>2022-09-01</td><td>3</td></tr><tr><td>10000003</td><td>3</td><td>2022-09-01</td><td>NULL</td></tr><tr><td>10000003</td><td>4</td><td>2022-09-01</td><td>NULL</td></tr><tr><td>10000003</td><td>5</td><td>2022-09-01</td><td>NULL</td></tr><tr><td>10000003</td><td>6</td><td>2022-09-01</td><td>NULL</td></tr><tr><td>10000003</td><td>7</td><td>2022-09-01</td><td>NULL</td></tr><tr><td>10000003</td><td>8</td><td>2022-09-01</td><td>NULL</td></tr><tr><td>10000003</td><td>9</td><td>2022-09-01</td><td>NULL</td></tr><tr><td>10000003</td><td>10</td><td>2022-09-01</td><td>NULL</td></tr><tr><td>10000003</td><td>11</td><td>2022-09-01</td><td>NULL</td></tr><tr><td>10000003</td><td>12</td><td>2022-09-01</td><td>NULL</td></tr><tr><td>10000003</td><td>13</td><td>2022-09-01</td><td>NULL</td></tr><tr><td>10000003</td><td>14</td><td>2022-09-01</td><td>NULL</td></tr><tr><td>10000003</td><td>15</td><td>2022-09-01</td><td>NULL</td></tr><tr><td>10000004</td><td>1</td><td>2022-09-01</td><td>NULL</td></tr><tr><td>10000004</td><td>2</td><td>2022-09-01</td><td>NULL</td></tr><tr><td>10000004</td><td>3</td><td>2022-09-01</td><td>NULL</td></tr><tr><td>10000004</td><td>4</td><td>2022-09-01</td><td>NULL</td></tr><tr><td>10000004</td><td>5</td><td>2022-09-01</td><td>NULL</td></tr><tr><td>10000004</td><td>6</td><td>2022-09-01</td><td>NULL</td></tr><tr><td>10000004</td><td>7</td><td>2022-09-01</td><td>NULL</td></tr><tr><td>10000004</td><td>8</td><td>2022-09-01</td><td>NULL</td></tr><tr><td>10000004</td><td>9</td><td>2022-09-01</td><td>NULL</td></tr><tr><td>10000004</td><td>10</td><td>2022-09-01</td><td>NULL</td></tr><tr><td>10000004</td><td>11</td><td>2022-09-01</td><td>NULL</td></tr><tr><td>10000004</td><td>12</td><td>2022-09-01</td><td>NULL</td></tr><tr><td>10000004</td><td>13</td><td>2022-09-01</td><td>NULL</td></tr><tr><td>10000004</td><td>14</td><td>2022-09-01</td><td>NULL</td></tr><tr><td>10000004</td><td>15</td><td>2022-09-01</td><td>NULL</td></tr><tr><td>10000007</td><td>1</td><td>2022-09-01</td><td>NULL</td></tr><tr><td>10000007</td><td>2</td><td>2022-09-01</td><td>NULL</td></tr><tr><td>10000007</td><td>3</td><td>2022-09-01</td><td>NULL</td></tr><tr><td>10000007</td><td>4</td><td>2022-09-01</td><td>NULL</td></tr><tr><td>10000007</td><td>5</td><td>2022-09-01</td><td>NULL</td></tr><tr><td>10000007</td><td>6</td><td>2022-09-01</td><td>NULL</td></tr><tr><td>10000007</td><td>7</td><td>2022-09-01</td><td>NULL</td></tr><tr><td>10000007</td><td>8</td><td>2022-09-01</td><td>NULL</td></tr><tr><td>10000007</td><td>9</td><td>2022-09-01</td><td>NULL</td></tr><tr><td>10000007</td><td>10</td><td>2022-09-01</td><td>NULL</td></tr><tr><td>10000007</td><td>11</td><td>2022-09-01</td><td>NULL</td></tr><tr><td>10000007</td><td>12</td><td>2022-09-01</td><td>NULL</td></tr><tr><td>10000007</td><td>13</td><td>2022-09-01</td><td>NULL</td></tr><tr><td>10000007</td><td>14</td><td>2022-09-01</td><td>NULL</td></tr><tr><td>10000007</td><td>15</td><td>2022-09-01</td><td>NULL</td></tr><tr><td>10000008</td><td>1</td><td>2022-09-01</td><td>NULL</td></tr><tr><td>10000008</td><td>2</td><td>2022-09-01</td><td>NULL</td></tr><tr><td>10000008</td><td>3</td><td>2022-09-01</td><td>NULL</td></tr><tr><td>10000008</td><td>4</td><td>2022-09-01</td><td>NULL</td></tr><tr><td>10000008</td><td>5</td><td>2022-09-01</td><td>NULL</td></tr><tr><td>10000008</td><td>6</td><td>2022-09-01</td><td>NULL</td></tr><tr><td>10000008</td><td>7</td><td>2022-09-01</td><td>NULL</td></tr><tr><td>10000008</td><td>8</td><td>2022-09-01</td><td>NULL</td></tr><tr><td>10000008</td><td>9</td><td>2022-09-01</td><td>NULL</td></tr><tr><td>10000008</td><td>10</td><td>2022-09-01</td><td>NULL</td></tr><tr><td>10000008</td><td>11</td><td>2022-09-01</td><td>NULL</td></tr><tr><td>10000008</td><td>12</td><td>2022-09-01</td><td>NULL</td></tr><tr><td>10000008</td><td>13</td><td>2022-09-01</td><td>NULL</td></tr><tr><td>10000008</td><td>14</td><td>2022-09-01</td><td>NULL</td></tr><tr><td>10000008</td><td>15</td><td>2022-09-01</td><td>NULL</td></tr><tr><td>10000026</td><td>1</td><td>2022-09-01</td><td>NULL</td></tr><tr><td>10000026</td><td>2</td><td>2022-09-01</td><td>NULL</td></tr><tr><td>10000026</td><td>3</td><td>2022-09-01</td><td>NULL</td></tr><tr><td>10000026</td><td>4</td><td>2022-09-01</td><td>NULL</td></tr><tr><td>10000026</td><td>5</td><td>2022-09-01</td><td>NULL</td></tr><tr><td>10000026</td><td>6</td><td>2022-09-01</td><td>NULL</td></tr><tr><td>10000026</td><td>7</td><td>2022-09-01</td><td>NULL</td></tr><tr><td>10000026</td><td>8</td><td>2022-09-01</td><td>NULL</td></tr><tr><td>10000026</td><td>9</td><td>2022-09-01</td><td>NULL</td></tr><tr><td>10000026</td><td>10</td><td>2022-09-01</td><td>NULL</td></tr><tr><td>10000026</td><td>11</td><td>2022-09-01</td><td>NULL</td></tr><tr><td>10000026</td><td>12</td><td>2022-09-01</td><td>NULL</td></tr><tr><td>10000026</td><td>13</td><td>2022-09-01</td><td>NULL</td></tr><tr><td>10000026</td><td>14</td><td>2022-09-01</td><td>NULL</td></tr><tr><td>10000026</td><td>15</td><td>2022-09-01</td><td>NULL</td></tr><tr><td>10000027</td><td>1</td><td>2022-09-01</td><td>NULL</td></tr><tr><td>10000027</td><td>2</td><td>2022-09-01</td><td>NULL</td></tr><tr><td>10000027</td><td>3</td><td>2022-09-01</td><td>NULL</td></tr><tr><td>10000027</td><td>4</td><td>2022-09-01</td><td>NULL</td></tr><tr><td>10000027</td><td>5</td><td>2022-09-01</td><td>NULL</td></tr><tr><td>10000027</td><td>6</td><td>2022-09-01</td><td>NULL</td></tr><tr><td>10000027</td><td>7</td><td>2022-09-01</td><td>NULL</td></tr><tr><td>10000027</td><td>8</td><td>2022-09-01</td><td>NULL</td></tr><tr><td>10000027</td><td>9</td><td>2022-09-01</td><td>NULL</td></tr><tr><td>10000027</td><td>10</td><td>2022-09-01</td><td>NULL</td></tr><tr><td>10000027</td><td>11</td><td>2022-09-01</td><td>NULL</td></tr><tr><td>10000027</td><td>12</td><td>2022-09-01</td><td>NULL</td></tr><tr><td>10000027</td><td>13</td><td>2022-09-01</td><td>NULL</td></tr><tr><td>10000027</td><td>14</td><td>2022-09-01</td><td>NULL</td></tr><tr><td>10000027</td><td>15</td><td>2022-09-01</td><td>NULL</td></tr><tr><td>10000028</td><td>1</td><td>2022-09-01</td><td>NULL</td></tr><tr><td>10000028</td><td>2</td><td>2022-09-01</td><td>NULL</td></tr><tr><td>10000028</td><td>3</td><td>2022-09-01</td><td>NULL</td></tr><tr><td>10000028</td><td>4</td><td>2022-09-01</td><td>NULL</td></tr><tr><td>10000028</td><td>5</td><td>2022-09-01</td><td>NULL</td></tr><tr><td>10000028</td><td>6</td><td>2022-09-01</td><td>NULL</td></tr><tr><td>10000028</td><td>7</td><td>2022-09-01</td><td>NULL</td></tr><tr><td>10000028</td><td>8</td><td>2022-09-01</td><td>NULL</td></tr><tr><td>10000028</td><td>9</td><td>2022-09-01</td><td>NULL</td></tr><tr><td>10000028</td><td>10</td><td>2022-09-01</td><td>NULL</td></tr><tr><td>10000028</td><td>11</td><td>2022-09-01</td><td>NULL</td></tr><tr><td>10000028</td><td>12</td><td>2022-09-01</td><td>NULL</td></tr><tr><td>10000028</td><td>13</td><td>2022-09-01</td><td>NULL</td></tr><tr><td>10000028</td><td>14</td><td>2022-09-01</td><td>NULL</td></tr><tr><td>10000028</td><td>15</td><td>2022-09-01</td><td>NULL</td></tr><tr><td>10000029</td><td>1</td><td>2022-09-01</td><td>NULL</td></tr><tr><td>10000029</td><td>2</td><td>2022-09-01</td><td>NULL</td></tr><tr><td>10000029</td><td>3</td><td>2022-09-01</td><td>NULL</td></tr><tr><td>10000029</td><td>4</td><td>2022-09-01</td><td>NULL</td></tr><tr><td>10000029</td><td>5</td><td>2022-09-01</td><td>NULL</td></tr></table>"
                    },
                    "metadata": {}
                }
            ],
            "execution_count": 10
        },
        {
            "cell_type": "code",
            "source": [
                "SELECT * FROM Course_Schedule;"
            ],
            "metadata": {
                "azdata_cell_guid": "55ac1f36-5729-490a-8784-f35ebfc2e7b1",
                "language": "sql"
            },
            "outputs": [
                {
                    "output_type": "display_data",
                    "data": {
                        "text/html": "(61 rows affected)"
                    },
                    "metadata": {}
                },
                {
                    "output_type": "display_data",
                    "data": {
                        "text/html": "Total execution time: 00:00:00.051"
                    },
                    "metadata": {}
                },
                {
                    "output_type": "execute_result",
                    "metadata": {},
                    "execution_count": 2,
                    "data": {
                        "application/vnd.dataresource+json": {
                            "schema": {
                                "fields": [
                                    {
                                        "name": "course_id"
                                    },
                                    {
                                        "name": "start_time"
                                    },
                                    {
                                        "name": "end_time"
                                    },
                                    {
                                        "name": "day_of_week"
                                    },
                                    {
                                        "name": "location"
                                    }
                                ]
                            },
                            "data": [
                                {
                                    "course_id": "1",
                                    "start_time": "08:00:00",
                                    "end_time": "09:30:00",
                                    "day_of_week": "0",
                                    "location": "Room 1A"
                                },
                                {
                                    "course_id": "1",
                                    "start_time": "09:00:00",
                                    "end_time": "10:30:00",
                                    "day_of_week": "2",
                                    "location": "Room 2A"
                                },
                                {
                                    "course_id": "1",
                                    "start_time": "10:00:00",
                                    "end_time": "11:30:00",
                                    "day_of_week": "4",
                                    "location": "Room 3C"
                                },
                                {
                                    "course_id": "1",
                                    "start_time": "12:00:00",
                                    "end_time": "12:30:00",
                                    "day_of_week": "6",
                                    "location": "Room 4D"
                                },
                                {
                                    "course_id": "1",
                                    "start_time": "20:00:00",
                                    "end_time": "21:30:00",
                                    "day_of_week": "1",
                                    "location": "Room 101"
                                },
                                {
                                    "course_id": "2",
                                    "start_time": "15:00:00",
                                    "end_time": "15:30:00",
                                    "day_of_week": "0",
                                    "location": "Room 1A"
                                },
                                {
                                    "course_id": "2",
                                    "start_time": "15:00:00",
                                    "end_time": "15:30:00",
                                    "day_of_week": "2",
                                    "location": "Room 2A"
                                },
                                {
                                    "course_id": "2",
                                    "start_time": "16:00:00",
                                    "end_time": "16:30:00",
                                    "day_of_week": "4",
                                    "location": "Room 3C"
                                },
                                {
                                    "course_id": "2",
                                    "start_time": "17:00:00",
                                    "end_time": "17:30:00",
                                    "day_of_week": "6",
                                    "location": "Room 4D"
                                },
                                {
                                    "course_id": "3",
                                    "start_time": "08:00:00",
                                    "end_time": "09:30:00",
                                    "day_of_week": "1",
                                    "location": "Room 1A"
                                },
                                {
                                    "course_id": "3",
                                    "start_time": "08:00:00",
                                    "end_time": "09:30:00",
                                    "day_of_week": "3",
                                    "location": "Room 2A"
                                },
                                {
                                    "course_id": "3",
                                    "start_time": "10:00:00",
                                    "end_time": "11:30:00",
                                    "day_of_week": "5",
                                    "location": "Room 3C"
                                },
                                {
                                    "course_id": "3",
                                    "start_time": "12:00:00",
                                    "end_time": "12:30:00",
                                    "day_of_week": "0",
                                    "location": "Room 4D"
                                },
                                {
                                    "course_id": "4",
                                    "start_time": "15:00:00",
                                    "end_time": "15:30:00",
                                    "day_of_week": "1",
                                    "location": "Room 1A"
                                },
                                {
                                    "course_id": "4",
                                    "start_time": "15:00:00",
                                    "end_time": "15:30:00",
                                    "day_of_week": "3",
                                    "location": "Room 2A"
                                },
                                {
                                    "course_id": "4",
                                    "start_time": "16:00:00",
                                    "end_time": "16:30:00",
                                    "day_of_week": "5",
                                    "location": "Room 3C"
                                },
                                {
                                    "course_id": "4",
                                    "start_time": "17:00:00",
                                    "end_time": "17:30:00",
                                    "day_of_week": "0",
                                    "location": "Room 4D"
                                },
                                {
                                    "course_id": "5",
                                    "start_time": "08:00:00",
                                    "end_time": "09:30:00",
                                    "day_of_week": "2",
                                    "location": "Room 1A"
                                },
                                {
                                    "course_id": "5",
                                    "start_time": "08:00:00",
                                    "end_time": "09:30:00",
                                    "day_of_week": "4",
                                    "location": "Room 2A"
                                },
                                {
                                    "course_id": "5",
                                    "start_time": "10:00:00",
                                    "end_time": "11:30:00",
                                    "day_of_week": "6",
                                    "location": "Room 3C"
                                },
                                {
                                    "course_id": "5",
                                    "start_time": "12:00:00",
                                    "end_time": "12:30:00",
                                    "day_of_week": "1",
                                    "location": "Room 4D"
                                },
                                {
                                    "course_id": "6",
                                    "start_time": "15:00:00",
                                    "end_time": "15:30:00",
                                    "day_of_week": "2",
                                    "location": "Room 1A"
                                },
                                {
                                    "course_id": "6",
                                    "start_time": "15:00:00",
                                    "end_time": "15:30:00",
                                    "day_of_week": "4",
                                    "location": "Room 2A"
                                },
                                {
                                    "course_id": "6",
                                    "start_time": "16:00:00",
                                    "end_time": "16:30:00",
                                    "day_of_week": "6",
                                    "location": "Room 3C"
                                },
                                {
                                    "course_id": "6",
                                    "start_time": "17:00:00",
                                    "end_time": "17:30:00",
                                    "day_of_week": "1",
                                    "location": "Room 4D"
                                },
                                {
                                    "course_id": "7",
                                    "start_time": "08:00:00",
                                    "end_time": "09:30:00",
                                    "day_of_week": "3",
                                    "location": "Room 1A"
                                },
                                {
                                    "course_id": "7",
                                    "start_time": "08:00:00",
                                    "end_time": "09:30:00",
                                    "day_of_week": "5",
                                    "location": "Room 2A"
                                },
                                {
                                    "course_id": "7",
                                    "start_time": "10:00:00",
                                    "end_time": "11:30:00",
                                    "day_of_week": "0",
                                    "location": "Room 3C"
                                },
                                {
                                    "course_id": "7",
                                    "start_time": "12:00:00",
                                    "end_time": "12:30:00",
                                    "day_of_week": "2",
                                    "location": "Room 4D"
                                },
                                {
                                    "course_id": "8",
                                    "start_time": "15:00:00",
                                    "end_time": "15:30:00",
                                    "day_of_week": "3",
                                    "location": "Room 1A"
                                },
                                {
                                    "course_id": "8",
                                    "start_time": "15:00:00",
                                    "end_time": "15:30:00",
                                    "day_of_week": "5",
                                    "location": "Room 2A"
                                },
                                {
                                    "course_id": "8",
                                    "start_time": "16:00:00",
                                    "end_time": "16:30:00",
                                    "day_of_week": "0",
                                    "location": "Room 3C"
                                },
                                {
                                    "course_id": "8",
                                    "start_time": "17:00:00",
                                    "end_time": "17:30:00",
                                    "day_of_week": "2",
                                    "location": "Room 4D"
                                },
                                {
                                    "course_id": "9",
                                    "start_time": "08:00:00",
                                    "end_time": "09:30:00",
                                    "day_of_week": "4",
                                    "location": "Room 1A"
                                },
                                {
                                    "course_id": "9",
                                    "start_time": "08:00:00",
                                    "end_time": "09:30:00",
                                    "day_of_week": "6",
                                    "location": "Room 2A"
                                },
                                {
                                    "course_id": "9",
                                    "start_time": "10:00:00",
                                    "end_time": "11:30:00",
                                    "day_of_week": "1",
                                    "location": "Room 3C"
                                },
                                {
                                    "course_id": "9",
                                    "start_time": "12:00:00",
                                    "end_time": "12:30:00",
                                    "day_of_week": "3",
                                    "location": "Room 4D"
                                },
                                {
                                    "course_id": "10",
                                    "start_time": "15:00:00",
                                    "end_time": "15:30:00",
                                    "day_of_week": "4",
                                    "location": "Room 1A"
                                },
                                {
                                    "course_id": "10",
                                    "start_time": "15:00:00",
                                    "end_time": "15:30:00",
                                    "day_of_week": "6",
                                    "location": "Room 2A"
                                },
                                {
                                    "course_id": "10",
                                    "start_time": "16:00:00",
                                    "end_time": "16:30:00",
                                    "day_of_week": "1",
                                    "location": "Room 3C"
                                },
                                {
                                    "course_id": "10",
                                    "start_time": "17:00:00",
                                    "end_time": "17:30:00",
                                    "day_of_week": "3",
                                    "location": "Room 4D"
                                },
                                {
                                    "course_id": "11",
                                    "start_time": "08:00:00",
                                    "end_time": "09:30:00",
                                    "day_of_week": "0",
                                    "location": "Room 2A"
                                },
                                {
                                    "course_id": "11",
                                    "start_time": "08:00:00",
                                    "end_time": "09:30:00",
                                    "day_of_week": "5",
                                    "location": "Room 1A"
                                },
                                {
                                    "course_id": "11",
                                    "start_time": "10:00:00",
                                    "end_time": "11:30:00",
                                    "day_of_week": "2",
                                    "location": "Room 3C"
                                },
                                {
                                    "course_id": "11",
                                    "start_time": "12:00:00",
                                    "end_time": "12:30:00",
                                    "day_of_week": "4",
                                    "location": "Room 4D"
                                },
                                {
                                    "course_id": "12",
                                    "start_time": "15:00:00",
                                    "end_time": "15:30:00",
                                    "day_of_week": "0",
                                    "location": "Room 2A"
                                },
                                {
                                    "course_id": "12",
                                    "start_time": "15:00:00",
                                    "end_time": "15:30:00",
                                    "day_of_week": "5",
                                    "location": "Room 1A"
                                },
                                {
                                    "course_id": "12",
                                    "start_time": "16:00:00",
                                    "end_time": "16:30:00",
                                    "day_of_week": "2",
                                    "location": "Room 3C"
                                },
                                {
                                    "course_id": "12",
                                    "start_time": "17:00:00",
                                    "end_time": "17:30:00",
                                    "day_of_week": "4",
                                    "location": "Room 4D"
                                },
                                {
                                    "course_id": "13",
                                    "start_time": "08:00:00",
                                    "end_time": "09:30:00",
                                    "day_of_week": "1",
                                    "location": "Room 2A"
                                },
                                {
                                    "course_id": "13",
                                    "start_time": "08:00:00",
                                    "end_time": "09:30:00",
                                    "day_of_week": "6",
                                    "location": "Room 1A"
                                },
                                {
                                    "course_id": "13",
                                    "start_time": "10:00:00",
                                    "end_time": "11:30:00",
                                    "day_of_week": "3",
                                    "location": "Room 3C"
                                },
                                {
                                    "course_id": "13",
                                    "start_time": "12:00:00",
                                    "end_time": "12:30:00",
                                    "day_of_week": "5",
                                    "location": "Room 4D"
                                },
                                {
                                    "course_id": "14",
                                    "start_time": "15:00:00",
                                    "end_time": "15:30:00",
                                    "day_of_week": "1",
                                    "location": "Room 2A"
                                },
                                {
                                    "course_id": "14",
                                    "start_time": "15:00:00",
                                    "end_time": "15:30:00",
                                    "day_of_week": "6",
                                    "location": "Room 1A"
                                },
                                {
                                    "course_id": "14",
                                    "start_time": "16:00:00",
                                    "end_time": "16:30:00",
                                    "day_of_week": "3",
                                    "location": "Room 3C"
                                },
                                {
                                    "course_id": "14",
                                    "start_time": "17:00:00",
                                    "end_time": "17:30:00",
                                    "day_of_week": "5",
                                    "location": "Room 4D"
                                },
                                {
                                    "course_id": "15",
                                    "start_time": "08:00:00",
                                    "end_time": "09:30:00",
                                    "day_of_week": "0",
                                    "location": "Room 1A"
                                },
                                {
                                    "course_id": "15",
                                    "start_time": "08:00:00",
                                    "end_time": "09:30:00",
                                    "day_of_week": "2",
                                    "location": "Room 2A"
                                },
                                {
                                    "course_id": "15",
                                    "start_time": "10:00:00",
                                    "end_time": "11:30:00",
                                    "day_of_week": "4",
                                    "location": "Room 3C"
                                },
                                {
                                    "course_id": "15",
                                    "start_time": "12:00:00",
                                    "end_time": "12:30:00",
                                    "day_of_week": "6",
                                    "location": "Room 4D"
                                }
                            ]
                        },
                        "text/html": [
                            "<table>",
                            "<tr><th>course_id</th><th>start_time</th><th>end_time</th><th>day_of_week</th><th>location</th></tr>",
                            "<tr><td>1</td><td>08:00:00</td><td>09:30:00</td><td>0</td><td>Room 1A</td></tr>",
                            "<tr><td>1</td><td>09:00:00</td><td>10:30:00</td><td>2</td><td>Room 2A</td></tr>",
                            "<tr><td>1</td><td>10:00:00</td><td>11:30:00</td><td>4</td><td>Room 3C</td></tr>",
                            "<tr><td>1</td><td>12:00:00</td><td>12:30:00</td><td>6</td><td>Room 4D</td></tr>",
                            "<tr><td>1</td><td>20:00:00</td><td>21:30:00</td><td>1</td><td>Room 101</td></tr>",
                            "<tr><td>2</td><td>15:00:00</td><td>15:30:00</td><td>0</td><td>Room 1A</td></tr>",
                            "<tr><td>2</td><td>15:00:00</td><td>15:30:00</td><td>2</td><td>Room 2A</td></tr>",
                            "<tr><td>2</td><td>16:00:00</td><td>16:30:00</td><td>4</td><td>Room 3C</td></tr>",
                            "<tr><td>2</td><td>17:00:00</td><td>17:30:00</td><td>6</td><td>Room 4D</td></tr>",
                            "<tr><td>3</td><td>08:00:00</td><td>09:30:00</td><td>1</td><td>Room 1A</td></tr>",
                            "<tr><td>3</td><td>08:00:00</td><td>09:30:00</td><td>3</td><td>Room 2A</td></tr>",
                            "<tr><td>3</td><td>10:00:00</td><td>11:30:00</td><td>5</td><td>Room 3C</td></tr>",
                            "<tr><td>3</td><td>12:00:00</td><td>12:30:00</td><td>0</td><td>Room 4D</td></tr>",
                            "<tr><td>4</td><td>15:00:00</td><td>15:30:00</td><td>1</td><td>Room 1A</td></tr>",
                            "<tr><td>4</td><td>15:00:00</td><td>15:30:00</td><td>3</td><td>Room 2A</td></tr>",
                            "<tr><td>4</td><td>16:00:00</td><td>16:30:00</td><td>5</td><td>Room 3C</td></tr>",
                            "<tr><td>4</td><td>17:00:00</td><td>17:30:00</td><td>0</td><td>Room 4D</td></tr>",
                            "<tr><td>5</td><td>08:00:00</td><td>09:30:00</td><td>2</td><td>Room 1A</td></tr>",
                            "<tr><td>5</td><td>08:00:00</td><td>09:30:00</td><td>4</td><td>Room 2A</td></tr>",
                            "<tr><td>5</td><td>10:00:00</td><td>11:30:00</td><td>6</td><td>Room 3C</td></tr>",
                            "<tr><td>5</td><td>12:00:00</td><td>12:30:00</td><td>1</td><td>Room 4D</td></tr>",
                            "<tr><td>6</td><td>15:00:00</td><td>15:30:00</td><td>2</td><td>Room 1A</td></tr>",
                            "<tr><td>6</td><td>15:00:00</td><td>15:30:00</td><td>4</td><td>Room 2A</td></tr>",
                            "<tr><td>6</td><td>16:00:00</td><td>16:30:00</td><td>6</td><td>Room 3C</td></tr>",
                            "<tr><td>6</td><td>17:00:00</td><td>17:30:00</td><td>1</td><td>Room 4D</td></tr>",
                            "<tr><td>7</td><td>08:00:00</td><td>09:30:00</td><td>3</td><td>Room 1A</td></tr>",
                            "<tr><td>7</td><td>08:00:00</td><td>09:30:00</td><td>5</td><td>Room 2A</td></tr>",
                            "<tr><td>7</td><td>10:00:00</td><td>11:30:00</td><td>0</td><td>Room 3C</td></tr>",
                            "<tr><td>7</td><td>12:00:00</td><td>12:30:00</td><td>2</td><td>Room 4D</td></tr>",
                            "<tr><td>8</td><td>15:00:00</td><td>15:30:00</td><td>3</td><td>Room 1A</td></tr>",
                            "<tr><td>8</td><td>15:00:00</td><td>15:30:00</td><td>5</td><td>Room 2A</td></tr>",
                            "<tr><td>8</td><td>16:00:00</td><td>16:30:00</td><td>0</td><td>Room 3C</td></tr>",
                            "<tr><td>8</td><td>17:00:00</td><td>17:30:00</td><td>2</td><td>Room 4D</td></tr>",
                            "<tr><td>9</td><td>08:00:00</td><td>09:30:00</td><td>4</td><td>Room 1A</td></tr>",
                            "<tr><td>9</td><td>08:00:00</td><td>09:30:00</td><td>6</td><td>Room 2A</td></tr>",
                            "<tr><td>9</td><td>10:00:00</td><td>11:30:00</td><td>1</td><td>Room 3C</td></tr>",
                            "<tr><td>9</td><td>12:00:00</td><td>12:30:00</td><td>3</td><td>Room 4D</td></tr>",
                            "<tr><td>10</td><td>15:00:00</td><td>15:30:00</td><td>4</td><td>Room 1A</td></tr>",
                            "<tr><td>10</td><td>15:00:00</td><td>15:30:00</td><td>6</td><td>Room 2A</td></tr>",
                            "<tr><td>10</td><td>16:00:00</td><td>16:30:00</td><td>1</td><td>Room 3C</td></tr>",
                            "<tr><td>10</td><td>17:00:00</td><td>17:30:00</td><td>3</td><td>Room 4D</td></tr>",
                            "<tr><td>11</td><td>08:00:00</td><td>09:30:00</td><td>0</td><td>Room 2A</td></tr>",
                            "<tr><td>11</td><td>08:00:00</td><td>09:30:00</td><td>5</td><td>Room 1A</td></tr>",
                            "<tr><td>11</td><td>10:00:00</td><td>11:30:00</td><td>2</td><td>Room 3C</td></tr>",
                            "<tr><td>11</td><td>12:00:00</td><td>12:30:00</td><td>4</td><td>Room 4D</td></tr>",
                            "<tr><td>12</td><td>15:00:00</td><td>15:30:00</td><td>0</td><td>Room 2A</td></tr>",
                            "<tr><td>12</td><td>15:00:00</td><td>15:30:00</td><td>5</td><td>Room 1A</td></tr>",
                            "<tr><td>12</td><td>16:00:00</td><td>16:30:00</td><td>2</td><td>Room 3C</td></tr>",
                            "<tr><td>12</td><td>17:00:00</td><td>17:30:00</td><td>4</td><td>Room 4D</td></tr>",
                            "<tr><td>13</td><td>08:00:00</td><td>09:30:00</td><td>1</td><td>Room 2A</td></tr>",
                            "<tr><td>13</td><td>08:00:00</td><td>09:30:00</td><td>6</td><td>Room 1A</td></tr>",
                            "<tr><td>13</td><td>10:00:00</td><td>11:30:00</td><td>3</td><td>Room 3C</td></tr>",
                            "<tr><td>13</td><td>12:00:00</td><td>12:30:00</td><td>5</td><td>Room 4D</td></tr>",
                            "<tr><td>14</td><td>15:00:00</td><td>15:30:00</td><td>1</td><td>Room 2A</td></tr>",
                            "<tr><td>14</td><td>15:00:00</td><td>15:30:00</td><td>6</td><td>Room 1A</td></tr>",
                            "<tr><td>14</td><td>16:00:00</td><td>16:30:00</td><td>3</td><td>Room 3C</td></tr>",
                            "<tr><td>14</td><td>17:00:00</td><td>17:30:00</td><td>5</td><td>Room 4D</td></tr>",
                            "<tr><td>15</td><td>08:00:00</td><td>09:30:00</td><td>0</td><td>Room 1A</td></tr>",
                            "<tr><td>15</td><td>08:00:00</td><td>09:30:00</td><td>2</td><td>Room 2A</td></tr>",
                            "<tr><td>15</td><td>10:00:00</td><td>11:30:00</td><td>4</td><td>Room 3C</td></tr>",
                            "<tr><td>15</td><td>12:00:00</td><td>12:30:00</td><td>6</td><td>Room 4D</td></tr>",
                            "</table>"
                        ]
                    }
                }
            ],
            "execution_count": 2
        },
        {
            "cell_type": "code",
            "source": [
                "SELECT *\r\n",
                "FROM Student s\r\n",
                "INNER JOIN Program p ON s.program_id = p.program_id \r\n",
                "WHERE s.study_year > p.duration_years"
            ],
            "metadata": {
                "azdata_cell_guid": "c90308db-9575-4b32-b391-60f8a92cdcc3",
                "language": "sql"
            },
            "outputs": [
                {
                    "output_type": "display_data",
                    "data": {
                        "text/html": "(0 rows affected)"
                    },
                    "metadata": {}
                },
                {
                    "output_type": "display_data",
                    "data": {
                        "text/html": "Total execution time: 00:00:00.035"
                    },
                    "metadata": {}
                },
                {
                    "output_type": "execute_result",
                    "execution_count": 8,
                    "data": {
                        "application/vnd.dataresource+json": {
                            "schema": {
                                "fields": [
                                    {
                                        "name": "student_id"
                                    },
                                    {
                                        "name": "program_id"
                                    },
                                    {
                                        "name": "study_year"
                                    },
                                    {
                                        "name": "admission_date"
                                    },
                                    {
                                        "name": "graduation_date"
                                    },
                                    {
                                        "name": "gpa"
                                    },
                                    {
                                        "name": "status"
                                    },
                                    {
                                        "name": "honor_status"
                                    },
                                    {
                                        "name": "program_id"
                                    },
                                    {
                                        "name": "name"
                                    },
                                    {
                                        "name": "faculty_id"
                                    },
                                    {
                                        "name": "duration_years"
                                    }
                                ]
                            },
                            "data": []
                        },
                        "text/html": "<table><tr><th>student_id</th><th>program_id</th><th>study_year</th><th>admission_date</th><th>graduation_date</th><th>gpa</th><th>status</th><th>honor_status</th><th>program_id</th><th>name</th><th>faculty_id</th><th>duration_years</th></tr></table>"
                    },
                    "metadata": {}
                }
            ],
            "execution_count": 8
        }
    ]
}
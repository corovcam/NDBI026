{
    "metadata": {
        "kernelspec": {
            "name": "SQL",
            "display_name": "SQL",
            "language": "sql"
        },
        "language_info": {
            "name": "sql",
            "version": ""
        }
    },
    "nbformat_minor": 2,
    "nbformat": 4,
    "cells": [
        {
            "cell_type": "markdown",
            "source": [
                "## Data visualisation"
            ],
            "metadata": {
                "language": "sql",
                "azdata_cell_guid": "47dc28bc-9530-4f9a-9d1a-5159f6e053a8"
            },
            "attachments": {}
        },
        {
            "cell_type": "markdown",
            "source": [
                "## Tables"
            ],
            "metadata": {
                "language": "sql",
                "azdata_cell_guid": "7aaa2efa-1fc4-4447-bc58-8d348ba19707"
            },
            "attachments": {}
        },
        {
            "cell_type": "code",
            "source": [
                "SELECT * FROM Person;"
            ],
            "metadata": {
                "azdata_cell_guid": "6b3ae609-90ef-46d0-8016-035dc83bef4c",
                "language": "sql"
            },
            "outputs": [
                {
                    "output_type": "display_data",
                    "data": {
                        "text/html": "(62 rows affected)"
                    },
                    "metadata": {}
                },
                {
                    "output_type": "display_data",
                    "data": {
                        "text/html": "Total execution time: 00:00:00.030"
                    },
                    "metadata": {}
                },
                {
                    "output_type": "execute_result",
                    "metadata": {},
                    "execution_count": 22,
                    "data": {
                        "application/vnd.dataresource+json": {
                            "schema": {
                                "fields": [
                                    {
                                        "name": "person_id"
                                    },
                                    {
                                        "name": "email"
                                    },
                                    {
                                        "name": "name"
                                    },
                                    {
                                        "name": "surname"
                                    }
                                ]
                            },
                            "data": [
                                {
                                    "person_id": "10000000",
                                    "email": "jdoe@example.com",
                                    "name": "John",
                                    "surname": "Doe"
                                },
                                {
                                    "person_id": "10000001",
                                    "email": "mdoe@example.com",
                                    "name": "Mary",
                                    "surname": "Doe"
                                },
                                {
                                    "person_id": "10000002",
                                    "email": "jsmith@example.com",
                                    "name": "Jane",
                                    "surname": "Smith"
                                },
                                {
                                    "person_id": "10000003",
                                    "email": "rjones@example.com",
                                    "name": "Robert",
                                    "surname": "Jones"
                                },
                                {
                                    "person_id": "10000004",
                                    "email": "lsmith@example.com",
                                    "name": "Laura",
                                    "surname": "Smith"
                                },
                                {
                                    "person_id": "10000005",
                                    "email": "jthompson@example.com",
                                    "name": "Jack",
                                    "surname": "Thompson"
                                },
                                {
                                    "person_id": "10000006",
                                    "email": "awhite@example.com",
                                    "name": "Alice",
                                    "surname": "White"
                                },
                                {
                                    "person_id": "10000007",
                                    "email": "mjohnson@example.com",
                                    "name": "Mike",
                                    "surname": "Johnson"
                                },
                                {
                                    "person_id": "10000008",
                                    "email": "lsabina@example.com",
                                    "name": "Linda",
                                    "surname": "Sabina"
                                },
                                {
                                    "person_id": "10000009",
                                    "email": "sed@icloud.com",
                                    "name": "Adena",
                                    "surname": "Figueroa"
                                },
                                {
                                    "person_id": "10000010",
                                    "email": "diam.at@icloud.edu",
                                    "name": "Orlando",
                                    "surname": "Collins"
                                },
                                {
                                    "person_id": "10000011",
                                    "email": "ut@outlook.net",
                                    "name": "Reese",
                                    "surname": "Robertson"
                                },
                                {
                                    "person_id": "10000012",
                                    "email": "ullamcorper.duis@aol.com",
                                    "name": "Medge",
                                    "surname": "Cabrera"
                                },
                                {
                                    "person_id": "10000013",
                                    "email": "a@aol.edu",
                                    "name": "Dominique",
                                    "surname": "Matthews"
                                },
                                {
                                    "person_id": "10000014",
                                    "email": "quis.pede.suspendisse@icloud.net",
                                    "name": "Hamilton",
                                    "surname": "Daniel"
                                },
                                {
                                    "person_id": "10000015",
                                    "email": "massa@google.com",
                                    "name": "Cadman",
                                    "surname": "Black"
                                },
                                {
                                    "person_id": "10000016",
                                    "email": "in.lobortis@aol.ca",
                                    "name": "Lani",
                                    "surname": "Heath"
                                },
                                {
                                    "person_id": "10000017",
                                    "email": "enim@outlook.org",
                                    "name": "Adena",
                                    "surname": "Barrett"
                                },
                                {
                                    "person_id": "10000018",
                                    "email": "morbi@outlook.ca",
                                    "name": "Medge",
                                    "surname": "Roberts"
                                },
                                {
                                    "person_id": "10000019",
                                    "email": "pede.malesuada.vel@outlook.ca",
                                    "name": "Simone",
                                    "surname": "Huffman"
                                },
                                {
                                    "person_id": "10000020",
                                    "email": "ac@protonmail.edu",
                                    "name": "Rafael",
                                    "surname": "Frederick"
                                },
                                {
                                    "person_id": "10000021",
                                    "email": "gravida.praesent@hotmail.couk",
                                    "name": "Bruce",
                                    "surname": "Prince"
                                },
                                {
                                    "person_id": "10000022",
                                    "email": "lacus.etiam@icloud.net",
                                    "name": "Beau",
                                    "surname": "Burt"
                                },
                                {
                                    "person_id": "10000023",
                                    "email": "semper@google.edu",
                                    "name": "Eleanor",
                                    "surname": "Carrillo"
                                },
                                {
                                    "person_id": "10000024",
                                    "email": "lacus.etiam@outlook.org",
                                    "name": "Wayne",
                                    "surname": "Townsend"
                                },
                                {
                                    "person_id": "10000025",
                                    "email": "dolor.donec.fringilla@icloud.edu",
                                    "name": "Andrew",
                                    "surname": "Wood"
                                },
                                {
                                    "person_id": "10000026",
                                    "email": "massa.mauris.vestibulum@google.edu",
                                    "name": "Violet",
                                    "surname": "Becker"
                                },
                                {
                                    "person_id": "10000027",
                                    "email": "nascetur.ridiculus@aol.edu",
                                    "name": "Octavius",
                                    "surname": "Holland"
                                },
                                {
                                    "person_id": "10000028",
                                    "email": "aenean.gravida@google.org",
                                    "name": "Zeph",
                                    "surname": "Simon"
                                },
                                {
                                    "person_id": "10000029",
                                    "email": "non.sapien@hotmail.ca",
                                    "name": "Adena",
                                    "surname": "Vega"
                                },
                                {
                                    "person_id": "10000030",
                                    "email": "mi.felis@hotmail.net",
                                    "name": "Gabriel",
                                    "surname": "Jenkins"
                                },
                                {
                                    "person_id": "10000031",
                                    "email": "sodales.elit@aol.com",
                                    "name": "Ciaran",
                                    "surname": "Vance"
                                },
                                {
                                    "person_id": "10000032",
                                    "email": "ut.lacus@google.com",
                                    "name": "Hayley",
                                    "surname": "Bradford"
                                },
                                {
                                    "person_id": "10000033",
                                    "email": "vestibulum.ante@google.net",
                                    "name": "Galvin",
                                    "surname": "Hebert"
                                },
                                {
                                    "person_id": "10000034",
                                    "email": "tristique.pellentesque@google.couk",
                                    "name": "Damon",
                                    "surname": "Dillard"
                                },
                                {
                                    "person_id": "10000035",
                                    "email": "tellus.imperdiet.non@hotmail.net",
                                    "name": "Charity",
                                    "surname": "Owens"
                                },
                                {
                                    "person_id": "10000036",
                                    "email": "velit@protonmail.couk",
                                    "name": "Luke",
                                    "surname": "Reyes"
                                },
                                {
                                    "person_id": "10000037",
                                    "email": "a.dui@aol.ca",
                                    "name": "Oliver",
                                    "surname": "Baird"
                                },
                                {
                                    "person_id": "10000038",
                                    "email": "torquent.per.conubia@outlook.ca",
                                    "name": "Bryar",
                                    "surname": "Gutierrez"
                                },
                                {
                                    "person_id": "10000039",
                                    "email": "amet.lorem@yahoo.com",
                                    "name": "Beau",
                                    "surname": "Conner"
                                },
                                {
                                    "person_id": "10000040",
                                    "email": "ac.metus@yahoo.couk",
                                    "name": "Dexter",
                                    "surname": "Ferguson"
                                },
                                {
                                    "person_id": "10000041",
                                    "email": "ipsum@google.com",
                                    "name": "Cooper",
                                    "surname": "Wilkerson"
                                },
                                {
                                    "person_id": "10000042",
                                    "email": "est.mauris@aol.org",
                                    "name": "Melinda",
                                    "surname": "Camacho"
                                },
                                {
                                    "person_id": "10000043",
                                    "email": "mauris.molestie@icloud.ca",
                                    "name": "Molly",
                                    "surname": "Lancaster"
                                },
                                {
                                    "person_id": "10000044",
                                    "email": "aptent@aol.edu",
                                    "name": "Stone",
                                    "surname": "Webster"
                                },
                                {
                                    "person_id": "10000045",
                                    "email": "dui.quis.accumsan@aol.com",
                                    "name": "Hedy",
                                    "surname": "Gallegos"
                                },
                                {
                                    "person_id": "10000046",
                                    "email": "ut.pharetra@hotmail.edu",
                                    "name": "Fletcher",
                                    "surname": "Holmes"
                                },
                                {
                                    "person_id": "10000047",
                                    "email": "pede.nunc@icloud.com",
                                    "name": "Summer",
                                    "surname": "Shepherd"
                                },
                                {
                                    "person_id": "10000048",
                                    "email": "donec.at.arcu@hotmail.edu",
                                    "name": "Piper",
                                    "surname": "Winters"
                                },
                                {
                                    "person_id": "10000049",
                                    "email": "accumsan.laoreet.ipsum@outlook.couk",
                                    "name": "Sebastian",
                                    "surname": "Mcdonald"
                                },
                                {
                                    "person_id": "10000050",
                                    "email": "sem.eget@outlook.edu",
                                    "name": "Kaye",
                                    "surname": "Salas"
                                },
                                {
                                    "person_id": "10000051",
                                    "email": "rutrum.fusce@google.ca",
                                    "name": "Callie",
                                    "surname": "Christian"
                                },
                                {
                                    "person_id": "10000052",
                                    "email": "a.malesuada@aol.couk",
                                    "name": "Janna",
                                    "surname": "Swanson"
                                },
                                {
                                    "person_id": "10000053",
                                    "email": "donec.elementum.lorem@icloud.edu",
                                    "name": "Stephanie",
                                    "surname": "Johns"
                                },
                                {
                                    "person_id": "10000054",
                                    "email": "venenatis.a@outlook.edu",
                                    "name": "Barrett",
                                    "surname": "Foreman"
                                },
                                {
                                    "person_id": "10000055",
                                    "email": "vehicula.et.rutrum@hotmail.com",
                                    "name": "Lev",
                                    "surname": "Myers"
                                },
                                {
                                    "person_id": "10000056",
                                    "email": "nibh.vulputate@google.edu",
                                    "name": "Camden",
                                    "surname": "Olson"
                                },
                                {
                                    "person_id": "10000057",
                                    "email": "elit.fermentum.risus@icloud.net",
                                    "name": "Fritz",
                                    "surname": "Oneal"
                                },
                                {
                                    "person_id": "10000058",
                                    "email": "id.ante@protonmail.net",
                                    "name": "Vance",
                                    "surname": "Mendoza"
                                },
                                {
                                    "person_id": "10000059",
                                    "email": "amarie@examplee.com",
                                    "name": "Anna",
                                    "surname": "Marie"
                                },
                                {
                                    "person_id": "10000060",
                                    "email": "martin1@example.com",
                                    "name": "Martin",
                                    "surname": "Corovcak"
                                },
                                {
                                    "person_id": "10000061",
                                    "email": "johndoe1234@example.com",
                                    "name": "John",
                                    "surname": "Doe"
                                }
                            ]
                        },
                        "text/html": [
                            "<table>",
                            "<tr><th>person_id</th><th>email</th><th>name</th><th>surname</th></tr>",
                            "<tr><td>10000000</td><td>jdoe@example.com</td><td>John</td><td>Doe</td></tr>",
                            "<tr><td>10000001</td><td>mdoe@example.com</td><td>Mary</td><td>Doe</td></tr>",
                            "<tr><td>10000002</td><td>jsmith@example.com</td><td>Jane</td><td>Smith</td></tr>",
                            "<tr><td>10000003</td><td>rjones@example.com</td><td>Robert</td><td>Jones</td></tr>",
                            "<tr><td>10000004</td><td>lsmith@example.com</td><td>Laura</td><td>Smith</td></tr>",
                            "<tr><td>10000005</td><td>jthompson@example.com</td><td>Jack</td><td>Thompson</td></tr>",
                            "<tr><td>10000006</td><td>awhite@example.com</td><td>Alice</td><td>White</td></tr>",
                            "<tr><td>10000007</td><td>mjohnson@example.com</td><td>Mike</td><td>Johnson</td></tr>",
                            "<tr><td>10000008</td><td>lsabina@example.com</td><td>Linda</td><td>Sabina</td></tr>",
                            "<tr><td>10000009</td><td>sed@icloud.com</td><td>Adena</td><td>Figueroa</td></tr>",
                            "<tr><td>10000010</td><td>diam.at@icloud.edu</td><td>Orlando</td><td>Collins</td></tr>",
                            "<tr><td>10000011</td><td>ut@outlook.net</td><td>Reese</td><td>Robertson</td></tr>",
                            "<tr><td>10000012</td><td>ullamcorper.duis@aol.com</td><td>Medge</td><td>Cabrera</td></tr>",
                            "<tr><td>10000013</td><td>a@aol.edu</td><td>Dominique</td><td>Matthews</td></tr>",
                            "<tr><td>10000014</td><td>quis.pede.suspendisse@icloud.net</td><td>Hamilton</td><td>Daniel</td></tr>",
                            "<tr><td>10000015</td><td>massa@google.com</td><td>Cadman</td><td>Black</td></tr>",
                            "<tr><td>10000016</td><td>in.lobortis@aol.ca</td><td>Lani</td><td>Heath</td></tr>",
                            "<tr><td>10000017</td><td>enim@outlook.org</td><td>Adena</td><td>Barrett</td></tr>",
                            "<tr><td>10000018</td><td>morbi@outlook.ca</td><td>Medge</td><td>Roberts</td></tr>",
                            "<tr><td>10000019</td><td>pede.malesuada.vel@outlook.ca</td><td>Simone</td><td>Huffman</td></tr>",
                            "<tr><td>10000020</td><td>ac@protonmail.edu</td><td>Rafael</td><td>Frederick</td></tr>",
                            "<tr><td>10000021</td><td>gravida.praesent@hotmail.couk</td><td>Bruce</td><td>Prince</td></tr>",
                            "<tr><td>10000022</td><td>lacus.etiam@icloud.net</td><td>Beau</td><td>Burt</td></tr>",
                            "<tr><td>10000023</td><td>semper@google.edu</td><td>Eleanor</td><td>Carrillo</td></tr>",
                            "<tr><td>10000024</td><td>lacus.etiam@outlook.org</td><td>Wayne</td><td>Townsend</td></tr>",
                            "<tr><td>10000025</td><td>dolor.donec.fringilla@icloud.edu</td><td>Andrew</td><td>Wood</td></tr>",
                            "<tr><td>10000026</td><td>massa.mauris.vestibulum@google.edu</td><td>Violet</td><td>Becker</td></tr>",
                            "<tr><td>10000027</td><td>nascetur.ridiculus@aol.edu</td><td>Octavius</td><td>Holland</td></tr>",
                            "<tr><td>10000028</td><td>aenean.gravida@google.org</td><td>Zeph</td><td>Simon</td></tr>",
                            "<tr><td>10000029</td><td>non.sapien@hotmail.ca</td><td>Adena</td><td>Vega</td></tr>",
                            "<tr><td>10000030</td><td>mi.felis@hotmail.net</td><td>Gabriel</td><td>Jenkins</td></tr>",
                            "<tr><td>10000031</td><td>sodales.elit@aol.com</td><td>Ciaran</td><td>Vance</td></tr>",
                            "<tr><td>10000032</td><td>ut.lacus@google.com</td><td>Hayley</td><td>Bradford</td></tr>",
                            "<tr><td>10000033</td><td>vestibulum.ante@google.net</td><td>Galvin</td><td>Hebert</td></tr>",
                            "<tr><td>10000034</td><td>tristique.pellentesque@google.couk</td><td>Damon</td><td>Dillard</td></tr>",
                            "<tr><td>10000035</td><td>tellus.imperdiet.non@hotmail.net</td><td>Charity</td><td>Owens</td></tr>",
                            "<tr><td>10000036</td><td>velit@protonmail.couk</td><td>Luke</td><td>Reyes</td></tr>",
                            "<tr><td>10000037</td><td>a.dui@aol.ca</td><td>Oliver</td><td>Baird</td></tr>",
                            "<tr><td>10000038</td><td>torquent.per.conubia@outlook.ca</td><td>Bryar</td><td>Gutierrez</td></tr>",
                            "<tr><td>10000039</td><td>amet.lorem@yahoo.com</td><td>Beau</td><td>Conner</td></tr>",
                            "<tr><td>10000040</td><td>ac.metus@yahoo.couk</td><td>Dexter</td><td>Ferguson</td></tr>",
                            "<tr><td>10000041</td><td>ipsum@google.com</td><td>Cooper</td><td>Wilkerson</td></tr>",
                            "<tr><td>10000042</td><td>est.mauris@aol.org</td><td>Melinda</td><td>Camacho</td></tr>",
                            "<tr><td>10000043</td><td>mauris.molestie@icloud.ca</td><td>Molly</td><td>Lancaster</td></tr>",
                            "<tr><td>10000044</td><td>aptent@aol.edu</td><td>Stone</td><td>Webster</td></tr>",
                            "<tr><td>10000045</td><td>dui.quis.accumsan@aol.com</td><td>Hedy</td><td>Gallegos</td></tr>",
                            "<tr><td>10000046</td><td>ut.pharetra@hotmail.edu</td><td>Fletcher</td><td>Holmes</td></tr>",
                            "<tr><td>10000047</td><td>pede.nunc@icloud.com</td><td>Summer</td><td>Shepherd</td></tr>",
                            "<tr><td>10000048</td><td>donec.at.arcu@hotmail.edu</td><td>Piper</td><td>Winters</td></tr>",
                            "<tr><td>10000049</td><td>accumsan.laoreet.ipsum@outlook.couk</td><td>Sebastian</td><td>Mcdonald</td></tr>",
                            "<tr><td>10000050</td><td>sem.eget@outlook.edu</td><td>Kaye</td><td>Salas</td></tr>",
                            "<tr><td>10000051</td><td>rutrum.fusce@google.ca</td><td>Callie</td><td>Christian</td></tr>",
                            "<tr><td>10000052</td><td>a.malesuada@aol.couk</td><td>Janna</td><td>Swanson</td></tr>",
                            "<tr><td>10000053</td><td>donec.elementum.lorem@icloud.edu</td><td>Stephanie</td><td>Johns</td></tr>",
                            "<tr><td>10000054</td><td>venenatis.a@outlook.edu</td><td>Barrett</td><td>Foreman</td></tr>",
                            "<tr><td>10000055</td><td>vehicula.et.rutrum@hotmail.com</td><td>Lev</td><td>Myers</td></tr>",
                            "<tr><td>10000056</td><td>nibh.vulputate@google.edu</td><td>Camden</td><td>Olson</td></tr>",
                            "<tr><td>10000057</td><td>elit.fermentum.risus@icloud.net</td><td>Fritz</td><td>Oneal</td></tr>",
                            "<tr><td>10000058</td><td>id.ante@protonmail.net</td><td>Vance</td><td>Mendoza</td></tr>",
                            "<tr><td>10000059</td><td>amarie@examplee.com</td><td>Anna</td><td>Marie</td></tr>",
                            "<tr><td>10000060</td><td>martin1@example.com</td><td>Martin</td><td>Corovcak</td></tr>",
                            "<tr><td>10000061</td><td>johndoe1234@example.com</td><td>John</td><td>Doe</td></tr>",
                            "</table>"
                        ]
                    }
                }
            ],
            "execution_count": 22
        },
        {
            "cell_type": "code",
            "source": [
                "SELECT * FROM Student;"
            ],
            "metadata": {
                "azdata_cell_guid": "3bc2f9ce-c560-4f50-9a5b-c35dfe6ca432",
                "language": "sql"
            },
            "outputs": [
                {
                    "output_type": "display_data",
                    "data": {
                        "text/html": "(37 rows affected)"
                    },
                    "metadata": {}
                },
                {
                    "output_type": "display_data",
                    "data": {
                        "text/html": "Total execution time: 00:00:00.042"
                    },
                    "metadata": {}
                },
                {
                    "output_type": "execute_result",
                    "metadata": {},
                    "execution_count": 23,
                    "data": {
                        "application/vnd.dataresource+json": {
                            "schema": {
                                "fields": [
                                    {
                                        "name": "student_id"
                                    },
                                    {
                                        "name": "program_id"
                                    },
                                    {
                                        "name": "study_year"
                                    },
                                    {
                                        "name": "admission_date"
                                    },
                                    {
                                        "name": "graduation_date"
                                    },
                                    {
                                        "name": "gpa"
                                    },
                                    {
                                        "name": "status"
                                    },
                                    {
                                        "name": "honor_status"
                                    }
                                ]
                            },
                            "data": [
                                {
                                    "student_id": "10000003",
                                    "program_id": "101",
                                    "study_year": "1",
                                    "admission_date": "2022-09-01",
                                    "graduation_date": "NULL",
                                    "gpa": "2.00",
                                    "status": "active",
                                    "honor_status": "Good Standing"
                                },
                                {
                                    "student_id": "10000004",
                                    "program_id": "102",
                                    "study_year": "1",
                                    "admission_date": "2022-09-01",
                                    "graduation_date": "NULL",
                                    "gpa": "NULL",
                                    "status": "active",
                                    "honor_status": "NULL"
                                },
                                {
                                    "student_id": "10000007",
                                    "program_id": "103",
                                    "study_year": "1",
                                    "admission_date": "2022-09-01",
                                    "graduation_date": "NULL",
                                    "gpa": "NULL",
                                    "status": "active",
                                    "honor_status": "NULL"
                                },
                                {
                                    "student_id": "10000008",
                                    "program_id": "104",
                                    "study_year": "1",
                                    "admission_date": "2022-09-01",
                                    "graduation_date": "NULL",
                                    "gpa": "NULL",
                                    "status": "active",
                                    "honor_status": "NULL"
                                },
                                {
                                    "student_id": "10000026",
                                    "program_id": "107",
                                    "study_year": "2",
                                    "admission_date": "2021-09-01",
                                    "graduation_date": "NULL",
                                    "gpa": "NULL",
                                    "status": "active",
                                    "honor_status": "NULL"
                                },
                                {
                                    "student_id": "10000027",
                                    "program_id": "108",
                                    "study_year": "2",
                                    "admission_date": "2021-09-01",
                                    "graduation_date": "NULL",
                                    "gpa": "NULL",
                                    "status": "active",
                                    "honor_status": "NULL"
                                },
                                {
                                    "student_id": "10000028",
                                    "program_id": "109",
                                    "study_year": "2",
                                    "admission_date": "2021-09-01",
                                    "graduation_date": "NULL",
                                    "gpa": "NULL",
                                    "status": "active",
                                    "honor_status": "NULL"
                                },
                                {
                                    "student_id": "10000029",
                                    "program_id": "110",
                                    "study_year": "2",
                                    "admission_date": "2021-09-01",
                                    "graduation_date": "NULL",
                                    "gpa": "NULL",
                                    "status": "expelled",
                                    "honor_status": "NULL"
                                },
                                {
                                    "student_id": "10000030",
                                    "program_id": "111",
                                    "study_year": "2",
                                    "admission_date": "2021-09-01",
                                    "graduation_date": "NULL",
                                    "gpa": "NULL",
                                    "status": "active",
                                    "honor_status": "NULL"
                                },
                                {
                                    "student_id": "10000031",
                                    "program_id": "112",
                                    "study_year": "2",
                                    "admission_date": "2021-09-01",
                                    "graduation_date": "NULL",
                                    "gpa": "NULL",
                                    "status": "active",
                                    "honor_status": "NULL"
                                },
                                {
                                    "student_id": "10000032",
                                    "program_id": "113",
                                    "study_year": "2",
                                    "admission_date": "2021-09-01",
                                    "graduation_date": "NULL",
                                    "gpa": "NULL",
                                    "status": "active",
                                    "honor_status": "NULL"
                                },
                                {
                                    "student_id": "10000033",
                                    "program_id": "114",
                                    "study_year": "2",
                                    "admission_date": "2021-09-01",
                                    "graduation_date": "NULL",
                                    "gpa": "NULL",
                                    "status": "active",
                                    "honor_status": "NULL"
                                },
                                {
                                    "student_id": "10000034",
                                    "program_id": "115",
                                    "study_year": "2",
                                    "admission_date": "2021-09-01",
                                    "graduation_date": "NULL",
                                    "gpa": "NULL",
                                    "status": "active",
                                    "honor_status": "NULL"
                                },
                                {
                                    "student_id": "10000035",
                                    "program_id": "101",
                                    "study_year": "3",
                                    "admission_date": "2020-09-01",
                                    "graduation_date": "NULL",
                                    "gpa": "NULL",
                                    "status": "active",
                                    "honor_status": "NULL"
                                },
                                {
                                    "student_id": "10000036",
                                    "program_id": "102",
                                    "study_year": "3",
                                    "admission_date": "2020-09-01",
                                    "graduation_date": "NULL",
                                    "gpa": "NULL",
                                    "status": "active",
                                    "honor_status": "NULL"
                                },
                                {
                                    "student_id": "10000037",
                                    "program_id": "103",
                                    "study_year": "3",
                                    "admission_date": "2020-09-01",
                                    "graduation_date": "NULL",
                                    "gpa": "NULL",
                                    "status": "active",
                                    "honor_status": "NULL"
                                },
                                {
                                    "student_id": "10000038",
                                    "program_id": "104",
                                    "study_year": "3",
                                    "admission_date": "2020-09-01",
                                    "graduation_date": "NULL",
                                    "gpa": "NULL",
                                    "status": "active",
                                    "honor_status": "NULL"
                                },
                                {
                                    "student_id": "10000039",
                                    "program_id": "105",
                                    "study_year": "3",
                                    "admission_date": "2020-09-01",
                                    "graduation_date": "NULL",
                                    "gpa": "NULL",
                                    "status": "active",
                                    "honor_status": "NULL"
                                },
                                {
                                    "student_id": "10000040",
                                    "program_id": "106",
                                    "study_year": "3",
                                    "admission_date": "2020-09-01",
                                    "graduation_date": "NULL",
                                    "gpa": "NULL",
                                    "status": "suspended",
                                    "honor_status": "NULL"
                                },
                                {
                                    "student_id": "10000041",
                                    "program_id": "107",
                                    "study_year": "3",
                                    "admission_date": "2020-09-01",
                                    "graduation_date": "NULL",
                                    "gpa": "NULL",
                                    "status": "active",
                                    "honor_status": "NULL"
                                },
                                {
                                    "student_id": "10000042",
                                    "program_id": "108",
                                    "study_year": "3",
                                    "admission_date": "2020-09-01",
                                    "graduation_date": "NULL",
                                    "gpa": "NULL",
                                    "status": "active",
                                    "honor_status": "NULL"
                                },
                                {
                                    "student_id": "10000043",
                                    "program_id": "109",
                                    "study_year": "3",
                                    "admission_date": "2020-09-01",
                                    "graduation_date": "NULL",
                                    "gpa": "NULL",
                                    "status": "active",
                                    "honor_status": "NULL"
                                },
                                {
                                    "student_id": "10000044",
                                    "program_id": "110",
                                    "study_year": "3",
                                    "admission_date": "2020-09-01",
                                    "graduation_date": "NULL",
                                    "gpa": "NULL",
                                    "status": "active",
                                    "honor_status": "NULL"
                                },
                                {
                                    "student_id": "10000045",
                                    "program_id": "111",
                                    "study_year": "3",
                                    "admission_date": "2020-09-01",
                                    "graduation_date": "NULL",
                                    "gpa": "NULL",
                                    "status": "active",
                                    "honor_status": "NULL"
                                },
                                {
                                    "student_id": "10000046",
                                    "program_id": "112",
                                    "study_year": "3",
                                    "admission_date": "2020-09-01",
                                    "graduation_date": "NULL",
                                    "gpa": "NULL",
                                    "status": "active",
                                    "honor_status": "NULL"
                                },
                                {
                                    "student_id": "10000047",
                                    "program_id": "113",
                                    "study_year": "3",
                                    "admission_date": "2020-09-01",
                                    "graduation_date": "NULL",
                                    "gpa": "NULL",
                                    "status": "expelled",
                                    "honor_status": "NULL"
                                },
                                {
                                    "student_id": "10000048",
                                    "program_id": "114",
                                    "study_year": "3",
                                    "admission_date": "2020-09-01",
                                    "graduation_date": "NULL",
                                    "gpa": "NULL",
                                    "status": "active",
                                    "honor_status": "NULL"
                                },
                                {
                                    "student_id": "10000049",
                                    "program_id": "115",
                                    "study_year": "3",
                                    "admission_date": "2020-09-01",
                                    "graduation_date": "NULL",
                                    "gpa": "NULL",
                                    "status": "active",
                                    "honor_status": "NULL"
                                },
                                {
                                    "student_id": "10000050",
                                    "program_id": "101",
                                    "study_year": "4",
                                    "admission_date": "2019-09-01",
                                    "graduation_date": "NULL",
                                    "gpa": "NULL",
                                    "status": "active",
                                    "honor_status": "NULL"
                                },
                                {
                                    "student_id": "10000051",
                                    "program_id": "102",
                                    "study_year": "4",
                                    "admission_date": "2019-09-01",
                                    "graduation_date": "NULL",
                                    "gpa": "NULL",
                                    "status": "active",
                                    "honor_status": "NULL"
                                },
                                {
                                    "student_id": "10000052",
                                    "program_id": "103",
                                    "study_year": "3",
                                    "admission_date": "2020-09-01",
                                    "graduation_date": "NULL",
                                    "gpa": "NULL",
                                    "status": "active",
                                    "honor_status": "NULL"
                                },
                                {
                                    "student_id": "10000053",
                                    "program_id": "104",
                                    "study_year": "3",
                                    "admission_date": "2020-09-01",
                                    "graduation_date": "NULL",
                                    "gpa": "NULL",
                                    "status": "active",
                                    "honor_status": "NULL"
                                },
                                {
                                    "student_id": "10000054",
                                    "program_id": "105",
                                    "study_year": "3",
                                    "admission_date": "2020-09-01",
                                    "graduation_date": "NULL",
                                    "gpa": "NULL",
                                    "status": "active",
                                    "honor_status": "NULL"
                                },
                                {
                                    "student_id": "10000055",
                                    "program_id": "106",
                                    "study_year": "3",
                                    "admission_date": "2020-09-01",
                                    "graduation_date": "NULL",
                                    "gpa": "NULL",
                                    "status": "active",
                                    "honor_status": "NULL"
                                },
                                {
                                    "student_id": "10000056",
                                    "program_id": "107",
                                    "study_year": "3",
                                    "admission_date": "2020-09-01",
                                    "graduation_date": "NULL",
                                    "gpa": "NULL",
                                    "status": "active",
                                    "honor_status": "NULL"
                                },
                                {
                                    "student_id": "10000057",
                                    "program_id": "108",
                                    "study_year": "3",
                                    "admission_date": "2020-09-01",
                                    "graduation_date": "NULL",
                                    "gpa": "NULL",
                                    "status": "active",
                                    "honor_status": "NULL"
                                },
                                {
                                    "student_id": "10000060",
                                    "program_id": "101",
                                    "study_year": "1",
                                    "admission_date": "2022-09-01",
                                    "graduation_date": "NULL",
                                    "gpa": "NULL",
                                    "status": "active",
                                    "honor_status": "NULL"
                                }
                            ]
                        },
                        "text/html": [
                            "<table>",
                            "<tr><th>student_id</th><th>program_id</th><th>study_year</th><th>admission_date</th><th>graduation_date</th><th>gpa</th><th>status</th><th>honor_status</th></tr>",
                            "<tr><td>10000003</td><td>101</td><td>1</td><td>2022-09-01</td><td>NULL</td><td>2.00</td><td>active</td><td>Good Standing</td></tr>",
                            "<tr><td>10000004</td><td>102</td><td>1</td><td>2022-09-01</td><td>NULL</td><td>NULL</td><td>active</td><td>NULL</td></tr>",
                            "<tr><td>10000007</td><td>103</td><td>1</td><td>2022-09-01</td><td>NULL</td><td>NULL</td><td>active</td><td>NULL</td></tr>",
                            "<tr><td>10000008</td><td>104</td><td>1</td><td>2022-09-01</td><td>NULL</td><td>NULL</td><td>active</td><td>NULL</td></tr>",
                            "<tr><td>10000026</td><td>107</td><td>2</td><td>2021-09-01</td><td>NULL</td><td>NULL</td><td>active</td><td>NULL</td></tr>",
                            "<tr><td>10000027</td><td>108</td><td>2</td><td>2021-09-01</td><td>NULL</td><td>NULL</td><td>active</td><td>NULL</td></tr>",
                            "<tr><td>10000028</td><td>109</td><td>2</td><td>2021-09-01</td><td>NULL</td><td>NULL</td><td>active</td><td>NULL</td></tr>",
                            "<tr><td>10000029</td><td>110</td><td>2</td><td>2021-09-01</td><td>NULL</td><td>NULL</td><td>expelled</td><td>NULL</td></tr>",
                            "<tr><td>10000030</td><td>111</td><td>2</td><td>2021-09-01</td><td>NULL</td><td>NULL</td><td>active</td><td>NULL</td></tr>",
                            "<tr><td>10000031</td><td>112</td><td>2</td><td>2021-09-01</td><td>NULL</td><td>NULL</td><td>active</td><td>NULL</td></tr>",
                            "<tr><td>10000032</td><td>113</td><td>2</td><td>2021-09-01</td><td>NULL</td><td>NULL</td><td>active</td><td>NULL</td></tr>",
                            "<tr><td>10000033</td><td>114</td><td>2</td><td>2021-09-01</td><td>NULL</td><td>NULL</td><td>active</td><td>NULL</td></tr>",
                            "<tr><td>10000034</td><td>115</td><td>2</td><td>2021-09-01</td><td>NULL</td><td>NULL</td><td>active</td><td>NULL</td></tr>",
                            "<tr><td>10000035</td><td>101</td><td>3</td><td>2020-09-01</td><td>NULL</td><td>NULL</td><td>active</td><td>NULL</td></tr>",
                            "<tr><td>10000036</td><td>102</td><td>3</td><td>2020-09-01</td><td>NULL</td><td>NULL</td><td>active</td><td>NULL</td></tr>",
                            "<tr><td>10000037</td><td>103</td><td>3</td><td>2020-09-01</td><td>NULL</td><td>NULL</td><td>active</td><td>NULL</td></tr>",
                            "<tr><td>10000038</td><td>104</td><td>3</td><td>2020-09-01</td><td>NULL</td><td>NULL</td><td>active</td><td>NULL</td></tr>",
                            "<tr><td>10000039</td><td>105</td><td>3</td><td>2020-09-01</td><td>NULL</td><td>NULL</td><td>active</td><td>NULL</td></tr>",
                            "<tr><td>10000040</td><td>106</td><td>3</td><td>2020-09-01</td><td>NULL</td><td>NULL</td><td>suspended</td><td>NULL</td></tr>",
                            "<tr><td>10000041</td><td>107</td><td>3</td><td>2020-09-01</td><td>NULL</td><td>NULL</td><td>active</td><td>NULL</td></tr>",
                            "<tr><td>10000042</td><td>108</td><td>3</td><td>2020-09-01</td><td>NULL</td><td>NULL</td><td>active</td><td>NULL</td></tr>",
                            "<tr><td>10000043</td><td>109</td><td>3</td><td>2020-09-01</td><td>NULL</td><td>NULL</td><td>active</td><td>NULL</td></tr>",
                            "<tr><td>10000044</td><td>110</td><td>3</td><td>2020-09-01</td><td>NULL</td><td>NULL</td><td>active</td><td>NULL</td></tr>",
                            "<tr><td>10000045</td><td>111</td><td>3</td><td>2020-09-01</td><td>NULL</td><td>NULL</td><td>active</td><td>NULL</td></tr>",
                            "<tr><td>10000046</td><td>112</td><td>3</td><td>2020-09-01</td><td>NULL</td><td>NULL</td><td>active</td><td>NULL</td></tr>",
                            "<tr><td>10000047</td><td>113</td><td>3</td><td>2020-09-01</td><td>NULL</td><td>NULL</td><td>expelled</td><td>NULL</td></tr>",
                            "<tr><td>10000048</td><td>114</td><td>3</td><td>2020-09-01</td><td>NULL</td><td>NULL</td><td>active</td><td>NULL</td></tr>",
                            "<tr><td>10000049</td><td>115</td><td>3</td><td>2020-09-01</td><td>NULL</td><td>NULL</td><td>active</td><td>NULL</td></tr>",
                            "<tr><td>10000050</td><td>101</td><td>4</td><td>2019-09-01</td><td>NULL</td><td>NULL</td><td>active</td><td>NULL</td></tr>",
                            "<tr><td>10000051</td><td>102</td><td>4</td><td>2019-09-01</td><td>NULL</td><td>NULL</td><td>active</td><td>NULL</td></tr>",
                            "<tr><td>10000052</td><td>103</td><td>3</td><td>2020-09-01</td><td>NULL</td><td>NULL</td><td>active</td><td>NULL</td></tr>",
                            "<tr><td>10000053</td><td>104</td><td>3</td><td>2020-09-01</td><td>NULL</td><td>NULL</td><td>active</td><td>NULL</td></tr>",
                            "<tr><td>10000054</td><td>105</td><td>3</td><td>2020-09-01</td><td>NULL</td><td>NULL</td><td>active</td><td>NULL</td></tr>",
                            "<tr><td>10000055</td><td>106</td><td>3</td><td>2020-09-01</td><td>NULL</td><td>NULL</td><td>active</td><td>NULL</td></tr>",
                            "<tr><td>10000056</td><td>107</td><td>3</td><td>2020-09-01</td><td>NULL</td><td>NULL</td><td>active</td><td>NULL</td></tr>",
                            "<tr><td>10000057</td><td>108</td><td>3</td><td>2020-09-01</td><td>NULL</td><td>NULL</td><td>active</td><td>NULL</td></tr>",
                            "<tr><td>10000060</td><td>101</td><td>1</td><td>2022-09-01</td><td>NULL</td><td>NULL</td><td>active</td><td>NULL</td></tr>",
                            "</table>"
                        ]
                    }
                }
            ],
            "execution_count": 23
        },
        {
            "cell_type": "code",
            "source": [
                "SELECT * FROM Program;"
            ],
            "metadata": {
                "azdata_cell_guid": "9ac0d8d7-e044-4018-a417-630520000156",
                "language": "sql"
            },
            "outputs": [
                {
                    "output_type": "display_data",
                    "data": {
                        "text/html": "(16 rows affected)"
                    },
                    "metadata": {}
                },
                {
                    "output_type": "display_data",
                    "data": {
                        "text/html": "Total execution time: 00:00:00.054"
                    },
                    "metadata": {}
                },
                {
                    "output_type": "execute_result",
                    "metadata": {},
                    "execution_count": 24,
                    "data": {
                        "application/vnd.dataresource+json": {
                            "schema": {
                                "fields": [
                                    {
                                        "name": "program_id"
                                    },
                                    {
                                        "name": "name"
                                    },
                                    {
                                        "name": "duration_years"
                                    }
                                ]
                            },
                            "data": [
                                {
                                    "program_id": "101",
                                    "name": "Medicine",
                                    "duration_years": "6"
                                },
                                {
                                    "program_id": "102",
                                    "name": "Law",
                                    "duration_years": "5"
                                },
                                {
                                    "program_id": "103",
                                    "name": "History",
                                    "duration_years": "3"
                                },
                                {
                                    "program_id": "104",
                                    "name": "Biology",
                                    "duration_years": "3"
                                },
                                {
                                    "program_id": "105",
                                    "name": "Chemistry",
                                    "duration_years": "3"
                                },
                                {
                                    "program_id": "106",
                                    "name": "Physics",
                                    "duration_years": "3"
                                },
                                {
                                    "program_id": "107",
                                    "name": "Mathematics",
                                    "duration_years": "3"
                                },
                                {
                                    "program_id": "108",
                                    "name": "Informatics",
                                    "duration_years": "3"
                                },
                                {
                                    "program_id": "109",
                                    "name": "Economics",
                                    "duration_years": "3"
                                },
                                {
                                    "program_id": "110",
                                    "name": "Pharmacy",
                                    "duration_years": "5"
                                },
                                {
                                    "program_id": "111",
                                    "name": "Education",
                                    "duration_years": "3"
                                },
                                {
                                    "program_id": "112",
                                    "name": "Physical Education",
                                    "duration_years": "3"
                                },
                                {
                                    "program_id": "113",
                                    "name": "Sport",
                                    "duration_years": "3"
                                },
                                {
                                    "program_id": "114",
                                    "name": "Psychology",
                                    "duration_years": "3"
                                },
                                {
                                    "program_id": "115",
                                    "name": "Business Administration",
                                    "duration_years": "3"
                                },
                                {
                                    "program_id": "116",
                                    "name": "Software Engineering",
                                    "duration_years": "3"
                                }
                            ]
                        },
                        "text/html": [
                            "<table>",
                            "<tr><th>program_id</th><th>name</th><th>duration_years</th></tr>",
                            "<tr><td>101</td><td>Medicine</td><td>6</td></tr>",
                            "<tr><td>102</td><td>Law</td><td>5</td></tr>",
                            "<tr><td>103</td><td>History</td><td>3</td></tr>",
                            "<tr><td>104</td><td>Biology</td><td>3</td></tr>",
                            "<tr><td>105</td><td>Chemistry</td><td>3</td></tr>",
                            "<tr><td>106</td><td>Physics</td><td>3</td></tr>",
                            "<tr><td>107</td><td>Mathematics</td><td>3</td></tr>",
                            "<tr><td>108</td><td>Informatics</td><td>3</td></tr>",
                            "<tr><td>109</td><td>Economics</td><td>3</td></tr>",
                            "<tr><td>110</td><td>Pharmacy</td><td>5</td></tr>",
                            "<tr><td>111</td><td>Education</td><td>3</td></tr>",
                            "<tr><td>112</td><td>Physical Education</td><td>3</td></tr>",
                            "<tr><td>113</td><td>Sport</td><td>3</td></tr>",
                            "<tr><td>114</td><td>Psychology</td><td>3</td></tr>",
                            "<tr><td>115</td><td>Business Administration</td><td>3</td></tr>",
                            "<tr><td>116</td><td>Software Engineering</td><td>3</td></tr>",
                            "</table>"
                        ]
                    }
                }
            ],
            "execution_count": 24
        },
        {
            "cell_type": "code",
            "source": [
                "SELECT * FROM Enrollment;"
            ],
            "metadata": {
                "azdata_cell_guid": "cf62b1a6-9968-4c80-b3c6-e4300394aef2",
                "language": "sql"
            },
            "outputs": [
                {
                    "output_type": "display_data",
                    "data": {
                        "text/html": "(111 rows affected)"
                    },
                    "metadata": {}
                },
                {
                    "output_type": "display_data",
                    "data": {
                        "text/html": "Total execution time: 00:00:00.023"
                    },
                    "metadata": {}
                },
                {
                    "output_type": "execute_result",
                    "metadata": {},
                    "execution_count": 25,
                    "data": {
                        "application/vnd.dataresource+json": {
                            "schema": {
                                "fields": [
                                    {
                                        "name": "student_id"
                                    },
                                    {
                                        "name": "course_id"
                                    },
                                    {
                                        "name": "enrollment_date"
                                    },
                                    {
                                        "name": "grade"
                                    }
                                ]
                            },
                            "data": [
                                {
                                    "student_id": "10000003",
                                    "course_id": "1",
                                    "enrollment_date": "2022-09-01",
                                    "grade": "1"
                                },
                                {
                                    "student_id": "10000003",
                                    "course_id": "2",
                                    "enrollment_date": "2022-09-01",
                                    "grade": "3"
                                },
                                {
                                    "student_id": "10000003",
                                    "course_id": "3",
                                    "enrollment_date": "2022-09-01",
                                    "grade": "NULL"
                                },
                                {
                                    "student_id": "10000003",
                                    "course_id": "4",
                                    "enrollment_date": "2022-09-01",
                                    "grade": "NULL"
                                },
                                {
                                    "student_id": "10000003",
                                    "course_id": "5",
                                    "enrollment_date": "2022-09-01",
                                    "grade": "NULL"
                                },
                                {
                                    "student_id": "10000003",
                                    "course_id": "6",
                                    "enrollment_date": "2022-09-01",
                                    "grade": "NULL"
                                },
                                {
                                    "student_id": "10000003",
                                    "course_id": "7",
                                    "enrollment_date": "2022-09-01",
                                    "grade": "NULL"
                                },
                                {
                                    "student_id": "10000003",
                                    "course_id": "8",
                                    "enrollment_date": "2022-09-01",
                                    "grade": "NULL"
                                },
                                {
                                    "student_id": "10000003",
                                    "course_id": "9",
                                    "enrollment_date": "2022-09-01",
                                    "grade": "NULL"
                                },
                                {
                                    "student_id": "10000003",
                                    "course_id": "10",
                                    "enrollment_date": "2022-09-01",
                                    "grade": "NULL"
                                },
                                {
                                    "student_id": "10000003",
                                    "course_id": "11",
                                    "enrollment_date": "2022-09-01",
                                    "grade": "NULL"
                                },
                                {
                                    "student_id": "10000003",
                                    "course_id": "12",
                                    "enrollment_date": "2022-09-01",
                                    "grade": "NULL"
                                },
                                {
                                    "student_id": "10000003",
                                    "course_id": "13",
                                    "enrollment_date": "2022-09-01",
                                    "grade": "NULL"
                                },
                                {
                                    "student_id": "10000003",
                                    "course_id": "14",
                                    "enrollment_date": "2022-09-01",
                                    "grade": "NULL"
                                },
                                {
                                    "student_id": "10000003",
                                    "course_id": "15",
                                    "enrollment_date": "2022-09-01",
                                    "grade": "NULL"
                                },
                                {
                                    "student_id": "10000004",
                                    "course_id": "1",
                                    "enrollment_date": "2022-09-01",
                                    "grade": "NULL"
                                },
                                {
                                    "student_id": "10000004",
                                    "course_id": "2",
                                    "enrollment_date": "2022-09-01",
                                    "grade": "NULL"
                                },
                                {
                                    "student_id": "10000004",
                                    "course_id": "3",
                                    "enrollment_date": "2022-09-01",
                                    "grade": "NULL"
                                },
                                {
                                    "student_id": "10000004",
                                    "course_id": "4",
                                    "enrollment_date": "2022-09-01",
                                    "grade": "NULL"
                                },
                                {
                                    "student_id": "10000004",
                                    "course_id": "5",
                                    "enrollment_date": "2022-09-01",
                                    "grade": "NULL"
                                },
                                {
                                    "student_id": "10000004",
                                    "course_id": "6",
                                    "enrollment_date": "2022-09-01",
                                    "grade": "NULL"
                                },
                                {
                                    "student_id": "10000004",
                                    "course_id": "7",
                                    "enrollment_date": "2022-09-01",
                                    "grade": "NULL"
                                },
                                {
                                    "student_id": "10000004",
                                    "course_id": "8",
                                    "enrollment_date": "2022-09-01",
                                    "grade": "NULL"
                                },
                                {
                                    "student_id": "10000004",
                                    "course_id": "9",
                                    "enrollment_date": "2022-09-01",
                                    "grade": "NULL"
                                },
                                {
                                    "student_id": "10000004",
                                    "course_id": "10",
                                    "enrollment_date": "2022-09-01",
                                    "grade": "NULL"
                                },
                                {
                                    "student_id": "10000004",
                                    "course_id": "11",
                                    "enrollment_date": "2022-09-01",
                                    "grade": "NULL"
                                },
                                {
                                    "student_id": "10000004",
                                    "course_id": "12",
                                    "enrollment_date": "2022-09-01",
                                    "grade": "NULL"
                                },
                                {
                                    "student_id": "10000004",
                                    "course_id": "13",
                                    "enrollment_date": "2022-09-01",
                                    "grade": "NULL"
                                },
                                {
                                    "student_id": "10000004",
                                    "course_id": "14",
                                    "enrollment_date": "2022-09-01",
                                    "grade": "NULL"
                                },
                                {
                                    "student_id": "10000004",
                                    "course_id": "15",
                                    "enrollment_date": "2022-09-01",
                                    "grade": "NULL"
                                },
                                {
                                    "student_id": "10000007",
                                    "course_id": "1",
                                    "enrollment_date": "2022-09-01",
                                    "grade": "NULL"
                                },
                                {
                                    "student_id": "10000007",
                                    "course_id": "2",
                                    "enrollment_date": "2022-09-01",
                                    "grade": "NULL"
                                },
                                {
                                    "student_id": "10000007",
                                    "course_id": "3",
                                    "enrollment_date": "2022-09-01",
                                    "grade": "NULL"
                                },
                                {
                                    "student_id": "10000007",
                                    "course_id": "4",
                                    "enrollment_date": "2022-09-01",
                                    "grade": "NULL"
                                },
                                {
                                    "student_id": "10000007",
                                    "course_id": "5",
                                    "enrollment_date": "2022-09-01",
                                    "grade": "NULL"
                                },
                                {
                                    "student_id": "10000007",
                                    "course_id": "6",
                                    "enrollment_date": "2022-09-01",
                                    "grade": "NULL"
                                },
                                {
                                    "student_id": "10000007",
                                    "course_id": "7",
                                    "enrollment_date": "2022-09-01",
                                    "grade": "NULL"
                                },
                                {
                                    "student_id": "10000007",
                                    "course_id": "8",
                                    "enrollment_date": "2022-09-01",
                                    "grade": "NULL"
                                },
                                {
                                    "student_id": "10000007",
                                    "course_id": "9",
                                    "enrollment_date": "2022-09-01",
                                    "grade": "NULL"
                                },
                                {
                                    "student_id": "10000007",
                                    "course_id": "10",
                                    "enrollment_date": "2022-09-01",
                                    "grade": "NULL"
                                },
                                {
                                    "student_id": "10000007",
                                    "course_id": "11",
                                    "enrollment_date": "2022-09-01",
                                    "grade": "NULL"
                                },
                                {
                                    "student_id": "10000007",
                                    "course_id": "12",
                                    "enrollment_date": "2022-09-01",
                                    "grade": "NULL"
                                },
                                {
                                    "student_id": "10000007",
                                    "course_id": "13",
                                    "enrollment_date": "2022-09-01",
                                    "grade": "NULL"
                                },
                                {
                                    "student_id": "10000007",
                                    "course_id": "14",
                                    "enrollment_date": "2022-09-01",
                                    "grade": "NULL"
                                },
                                {
                                    "student_id": "10000007",
                                    "course_id": "15",
                                    "enrollment_date": "2022-09-01",
                                    "grade": "NULL"
                                },
                                {
                                    "student_id": "10000008",
                                    "course_id": "1",
                                    "enrollment_date": "2022-09-01",
                                    "grade": "NULL"
                                },
                                {
                                    "student_id": "10000008",
                                    "course_id": "2",
                                    "enrollment_date": "2022-09-01",
                                    "grade": "NULL"
                                },
                                {
                                    "student_id": "10000008",
                                    "course_id": "3",
                                    "enrollment_date": "2022-09-01",
                                    "grade": "NULL"
                                },
                                {
                                    "student_id": "10000008",
                                    "course_id": "4",
                                    "enrollment_date": "2022-09-01",
                                    "grade": "NULL"
                                },
                                {
                                    "student_id": "10000008",
                                    "course_id": "5",
                                    "enrollment_date": "2022-09-01",
                                    "grade": "NULL"
                                },
                                {
                                    "student_id": "10000008",
                                    "course_id": "6",
                                    "enrollment_date": "2022-09-01",
                                    "grade": "NULL"
                                },
                                {
                                    "student_id": "10000008",
                                    "course_id": "7",
                                    "enrollment_date": "2022-09-01",
                                    "grade": "NULL"
                                },
                                {
                                    "student_id": "10000008",
                                    "course_id": "8",
                                    "enrollment_date": "2022-09-01",
                                    "grade": "NULL"
                                },
                                {
                                    "student_id": "10000008",
                                    "course_id": "9",
                                    "enrollment_date": "2022-09-01",
                                    "grade": "NULL"
                                },
                                {
                                    "student_id": "10000008",
                                    "course_id": "10",
                                    "enrollment_date": "2022-09-01",
                                    "grade": "NULL"
                                },
                                {
                                    "student_id": "10000008",
                                    "course_id": "11",
                                    "enrollment_date": "2022-09-01",
                                    "grade": "NULL"
                                },
                                {
                                    "student_id": "10000008",
                                    "course_id": "12",
                                    "enrollment_date": "2022-09-01",
                                    "grade": "NULL"
                                },
                                {
                                    "student_id": "10000008",
                                    "course_id": "13",
                                    "enrollment_date": "2022-09-01",
                                    "grade": "NULL"
                                },
                                {
                                    "student_id": "10000008",
                                    "course_id": "14",
                                    "enrollment_date": "2022-09-01",
                                    "grade": "NULL"
                                },
                                {
                                    "student_id": "10000008",
                                    "course_id": "15",
                                    "enrollment_date": "2022-09-01",
                                    "grade": "NULL"
                                },
                                {
                                    "student_id": "10000026",
                                    "course_id": "1",
                                    "enrollment_date": "2022-09-01",
                                    "grade": "NULL"
                                },
                                {
                                    "student_id": "10000026",
                                    "course_id": "2",
                                    "enrollment_date": "2022-09-01",
                                    "grade": "NULL"
                                },
                                {
                                    "student_id": "10000026",
                                    "course_id": "3",
                                    "enrollment_date": "2022-09-01",
                                    "grade": "NULL"
                                },
                                {
                                    "student_id": "10000026",
                                    "course_id": "4",
                                    "enrollment_date": "2022-09-01",
                                    "grade": "NULL"
                                },
                                {
                                    "student_id": "10000026",
                                    "course_id": "5",
                                    "enrollment_date": "2022-09-01",
                                    "grade": "NULL"
                                },
                                {
                                    "student_id": "10000026",
                                    "course_id": "6",
                                    "enrollment_date": "2022-09-01",
                                    "grade": "NULL"
                                },
                                {
                                    "student_id": "10000026",
                                    "course_id": "7",
                                    "enrollment_date": "2022-09-01",
                                    "grade": "NULL"
                                },
                                {
                                    "student_id": "10000026",
                                    "course_id": "8",
                                    "enrollment_date": "2022-09-01",
                                    "grade": "NULL"
                                },
                                {
                                    "student_id": "10000026",
                                    "course_id": "9",
                                    "enrollment_date": "2022-09-01",
                                    "grade": "NULL"
                                },
                                {
                                    "student_id": "10000026",
                                    "course_id": "10",
                                    "enrollment_date": "2022-09-01",
                                    "grade": "NULL"
                                },
                                {
                                    "student_id": "10000026",
                                    "course_id": "11",
                                    "enrollment_date": "2022-09-01",
                                    "grade": "NULL"
                                },
                                {
                                    "student_id": "10000026",
                                    "course_id": "12",
                                    "enrollment_date": "2022-09-01",
                                    "grade": "NULL"
                                },
                                {
                                    "student_id": "10000026",
                                    "course_id": "13",
                                    "enrollment_date": "2022-09-01",
                                    "grade": "NULL"
                                },
                                {
                                    "student_id": "10000026",
                                    "course_id": "14",
                                    "enrollment_date": "2022-09-01",
                                    "grade": "NULL"
                                },
                                {
                                    "student_id": "10000026",
                                    "course_id": "15",
                                    "enrollment_date": "2022-09-01",
                                    "grade": "NULL"
                                },
                                {
                                    "student_id": "10000027",
                                    "course_id": "1",
                                    "enrollment_date": "2022-09-01",
                                    "grade": "NULL"
                                },
                                {
                                    "student_id": "10000027",
                                    "course_id": "2",
                                    "enrollment_date": "2022-09-01",
                                    "grade": "NULL"
                                },
                                {
                                    "student_id": "10000027",
                                    "course_id": "3",
                                    "enrollment_date": "2022-09-01",
                                    "grade": "NULL"
                                },
                                {
                                    "student_id": "10000027",
                                    "course_id": "4",
                                    "enrollment_date": "2022-09-01",
                                    "grade": "NULL"
                                },
                                {
                                    "student_id": "10000027",
                                    "course_id": "5",
                                    "enrollment_date": "2022-09-01",
                                    "grade": "NULL"
                                },
                                {
                                    "student_id": "10000027",
                                    "course_id": "6",
                                    "enrollment_date": "2022-09-01",
                                    "grade": "NULL"
                                },
                                {
                                    "student_id": "10000027",
                                    "course_id": "7",
                                    "enrollment_date": "2022-09-01",
                                    "grade": "NULL"
                                },
                                {
                                    "student_id": "10000027",
                                    "course_id": "8",
                                    "enrollment_date": "2022-09-01",
                                    "grade": "NULL"
                                },
                                {
                                    "student_id": "10000027",
                                    "course_id": "9",
                                    "enrollment_date": "2022-09-01",
                                    "grade": "NULL"
                                },
                                {
                                    "student_id": "10000027",
                                    "course_id": "10",
                                    "enrollment_date": "2022-09-01",
                                    "grade": "NULL"
                                },
                                {
                                    "student_id": "10000027",
                                    "course_id": "11",
                                    "enrollment_date": "2022-09-01",
                                    "grade": "NULL"
                                },
                                {
                                    "student_id": "10000027",
                                    "course_id": "12",
                                    "enrollment_date": "2022-09-01",
                                    "grade": "NULL"
                                },
                                {
                                    "student_id": "10000027",
                                    "course_id": "13",
                                    "enrollment_date": "2022-09-01",
                                    "grade": "NULL"
                                },
                                {
                                    "student_id": "10000027",
                                    "course_id": "14",
                                    "enrollment_date": "2022-09-01",
                                    "grade": "NULL"
                                },
                                {
                                    "student_id": "10000027",
                                    "course_id": "15",
                                    "enrollment_date": "2022-09-01",
                                    "grade": "NULL"
                                },
                                {
                                    "student_id": "10000028",
                                    "course_id": "1",
                                    "enrollment_date": "2022-09-01",
                                    "grade": "NULL"
                                },
                                {
                                    "student_id": "10000028",
                                    "course_id": "2",
                                    "enrollment_date": "2022-09-01",
                                    "grade": "NULL"
                                },
                                {
                                    "student_id": "10000028",
                                    "course_id": "3",
                                    "enrollment_date": "2022-09-01",
                                    "grade": "NULL"
                                },
                                {
                                    "student_id": "10000028",
                                    "course_id": "4",
                                    "enrollment_date": "2022-09-01",
                                    "grade": "NULL"
                                },
                                {
                                    "student_id": "10000028",
                                    "course_id": "5",
                                    "enrollment_date": "2022-09-01",
                                    "grade": "NULL"
                                },
                                {
                                    "student_id": "10000028",
                                    "course_id": "6",
                                    "enrollment_date": "2022-09-01",
                                    "grade": "NULL"
                                },
                                {
                                    "student_id": "10000028",
                                    "course_id": "7",
                                    "enrollment_date": "2022-09-01",
                                    "grade": "NULL"
                                },
                                {
                                    "student_id": "10000028",
                                    "course_id": "8",
                                    "enrollment_date": "2022-09-01",
                                    "grade": "NULL"
                                },
                                {
                                    "student_id": "10000028",
                                    "course_id": "9",
                                    "enrollment_date": "2022-09-01",
                                    "grade": "NULL"
                                },
                                {
                                    "student_id": "10000028",
                                    "course_id": "10",
                                    "enrollment_date": "2022-09-01",
                                    "grade": "NULL"
                                },
                                {
                                    "student_id": "10000028",
                                    "course_id": "11",
                                    "enrollment_date": "2022-09-01",
                                    "grade": "NULL"
                                },
                                {
                                    "student_id": "10000028",
                                    "course_id": "12",
                                    "enrollment_date": "2022-09-01",
                                    "grade": "NULL"
                                },
                                {
                                    "student_id": "10000028",
                                    "course_id": "13",
                                    "enrollment_date": "2022-09-01",
                                    "grade": "NULL"
                                },
                                {
                                    "student_id": "10000028",
                                    "course_id": "14",
                                    "enrollment_date": "2022-09-01",
                                    "grade": "NULL"
                                },
                                {
                                    "student_id": "10000028",
                                    "course_id": "15",
                                    "enrollment_date": "2022-09-01",
                                    "grade": "NULL"
                                },
                                {
                                    "student_id": "10000029",
                                    "course_id": "1",
                                    "enrollment_date": "2022-09-01",
                                    "grade": "NULL"
                                },
                                {
                                    "student_id": "10000029",
                                    "course_id": "2",
                                    "enrollment_date": "2022-09-01",
                                    "grade": "NULL"
                                },
                                {
                                    "student_id": "10000029",
                                    "course_id": "3",
                                    "enrollment_date": "2022-09-01",
                                    "grade": "NULL"
                                },
                                {
                                    "student_id": "10000029",
                                    "course_id": "4",
                                    "enrollment_date": "2022-09-01",
                                    "grade": "NULL"
                                },
                                {
                                    "student_id": "10000029",
                                    "course_id": "5",
                                    "enrollment_date": "2022-09-01",
                                    "grade": "NULL"
                                },
                                {
                                    "student_id": "10000030",
                                    "course_id": "1",
                                    "enrollment_date": "2022-09-01",
                                    "grade": "NULL"
                                }
                            ]
                        },
                        "text/html": [
                            "<table>",
                            "<tr><th>student_id</th><th>course_id</th><th>enrollment_date</th><th>grade</th></tr>",
                            "<tr><td>10000003</td><td>1</td><td>2022-09-01</td><td>1</td></tr>",
                            "<tr><td>10000003</td><td>2</td><td>2022-09-01</td><td>3</td></tr>",
                            "<tr><td>10000003</td><td>3</td><td>2022-09-01</td><td>NULL</td></tr>",
                            "<tr><td>10000003</td><td>4</td><td>2022-09-01</td><td>NULL</td></tr>",
                            "<tr><td>10000003</td><td>5</td><td>2022-09-01</td><td>NULL</td></tr>",
                            "<tr><td>10000003</td><td>6</td><td>2022-09-01</td><td>NULL</td></tr>",
                            "<tr><td>10000003</td><td>7</td><td>2022-09-01</td><td>NULL</td></tr>",
                            "<tr><td>10000003</td><td>8</td><td>2022-09-01</td><td>NULL</td></tr>",
                            "<tr><td>10000003</td><td>9</td><td>2022-09-01</td><td>NULL</td></tr>",
                            "<tr><td>10000003</td><td>10</td><td>2022-09-01</td><td>NULL</td></tr>",
                            "<tr><td>10000003</td><td>11</td><td>2022-09-01</td><td>NULL</td></tr>",
                            "<tr><td>10000003</td><td>12</td><td>2022-09-01</td><td>NULL</td></tr>",
                            "<tr><td>10000003</td><td>13</td><td>2022-09-01</td><td>NULL</td></tr>",
                            "<tr><td>10000003</td><td>14</td><td>2022-09-01</td><td>NULL</td></tr>",
                            "<tr><td>10000003</td><td>15</td><td>2022-09-01</td><td>NULL</td></tr>",
                            "<tr><td>10000004</td><td>1</td><td>2022-09-01</td><td>NULL</td></tr>",
                            "<tr><td>10000004</td><td>2</td><td>2022-09-01</td><td>NULL</td></tr>",
                            "<tr><td>10000004</td><td>3</td><td>2022-09-01</td><td>NULL</td></tr>",
                            "<tr><td>10000004</td><td>4</td><td>2022-09-01</td><td>NULL</td></tr>",
                            "<tr><td>10000004</td><td>5</td><td>2022-09-01</td><td>NULL</td></tr>",
                            "<tr><td>10000004</td><td>6</td><td>2022-09-01</td><td>NULL</td></tr>",
                            "<tr><td>10000004</td><td>7</td><td>2022-09-01</td><td>NULL</td></tr>",
                            "<tr><td>10000004</td><td>8</td><td>2022-09-01</td><td>NULL</td></tr>",
                            "<tr><td>10000004</td><td>9</td><td>2022-09-01</td><td>NULL</td></tr>",
                            "<tr><td>10000004</td><td>10</td><td>2022-09-01</td><td>NULL</td></tr>",
                            "<tr><td>10000004</td><td>11</td><td>2022-09-01</td><td>NULL</td></tr>",
                            "<tr><td>10000004</td><td>12</td><td>2022-09-01</td><td>NULL</td></tr>",
                            "<tr><td>10000004</td><td>13</td><td>2022-09-01</td><td>NULL</td></tr>",
                            "<tr><td>10000004</td><td>14</td><td>2022-09-01</td><td>NULL</td></tr>",
                            "<tr><td>10000004</td><td>15</td><td>2022-09-01</td><td>NULL</td></tr>",
                            "<tr><td>10000007</td><td>1</td><td>2022-09-01</td><td>NULL</td></tr>",
                            "<tr><td>10000007</td><td>2</td><td>2022-09-01</td><td>NULL</td></tr>",
                            "<tr><td>10000007</td><td>3</td><td>2022-09-01</td><td>NULL</td></tr>",
                            "<tr><td>10000007</td><td>4</td><td>2022-09-01</td><td>NULL</td></tr>",
                            "<tr><td>10000007</td><td>5</td><td>2022-09-01</td><td>NULL</td></tr>",
                            "<tr><td>10000007</td><td>6</td><td>2022-09-01</td><td>NULL</td></tr>",
                            "<tr><td>10000007</td><td>7</td><td>2022-09-01</td><td>NULL</td></tr>",
                            "<tr><td>10000007</td><td>8</td><td>2022-09-01</td><td>NULL</td></tr>",
                            "<tr><td>10000007</td><td>9</td><td>2022-09-01</td><td>NULL</td></tr>",
                            "<tr><td>10000007</td><td>10</td><td>2022-09-01</td><td>NULL</td></tr>",
                            "<tr><td>10000007</td><td>11</td><td>2022-09-01</td><td>NULL</td></tr>",
                            "<tr><td>10000007</td><td>12</td><td>2022-09-01</td><td>NULL</td></tr>",
                            "<tr><td>10000007</td><td>13</td><td>2022-09-01</td><td>NULL</td></tr>",
                            "<tr><td>10000007</td><td>14</td><td>2022-09-01</td><td>NULL</td></tr>",
                            "<tr><td>10000007</td><td>15</td><td>2022-09-01</td><td>NULL</td></tr>",
                            "<tr><td>10000008</td><td>1</td><td>2022-09-01</td><td>NULL</td></tr>",
                            "<tr><td>10000008</td><td>2</td><td>2022-09-01</td><td>NULL</td></tr>",
                            "<tr><td>10000008</td><td>3</td><td>2022-09-01</td><td>NULL</td></tr>",
                            "<tr><td>10000008</td><td>4</td><td>2022-09-01</td><td>NULL</td></tr>",
                            "<tr><td>10000008</td><td>5</td><td>2022-09-01</td><td>NULL</td></tr>",
                            "<tr><td>10000008</td><td>6</td><td>2022-09-01</td><td>NULL</td></tr>",
                            "<tr><td>10000008</td><td>7</td><td>2022-09-01</td><td>NULL</td></tr>",
                            "<tr><td>10000008</td><td>8</td><td>2022-09-01</td><td>NULL</td></tr>",
                            "<tr><td>10000008</td><td>9</td><td>2022-09-01</td><td>NULL</td></tr>",
                            "<tr><td>10000008</td><td>10</td><td>2022-09-01</td><td>NULL</td></tr>",
                            "<tr><td>10000008</td><td>11</td><td>2022-09-01</td><td>NULL</td></tr>",
                            "<tr><td>10000008</td><td>12</td><td>2022-09-01</td><td>NULL</td></tr>",
                            "<tr><td>10000008</td><td>13</td><td>2022-09-01</td><td>NULL</td></tr>",
                            "<tr><td>10000008</td><td>14</td><td>2022-09-01</td><td>NULL</td></tr>",
                            "<tr><td>10000008</td><td>15</td><td>2022-09-01</td><td>NULL</td></tr>",
                            "<tr><td>10000026</td><td>1</td><td>2022-09-01</td><td>NULL</td></tr>",
                            "<tr><td>10000026</td><td>2</td><td>2022-09-01</td><td>NULL</td></tr>",
                            "<tr><td>10000026</td><td>3</td><td>2022-09-01</td><td>NULL</td></tr>",
                            "<tr><td>10000026</td><td>4</td><td>2022-09-01</td><td>NULL</td></tr>",
                            "<tr><td>10000026</td><td>5</td><td>2022-09-01</td><td>NULL</td></tr>",
                            "<tr><td>10000026</td><td>6</td><td>2022-09-01</td><td>NULL</td></tr>",
                            "<tr><td>10000026</td><td>7</td><td>2022-09-01</td><td>NULL</td></tr>",
                            "<tr><td>10000026</td><td>8</td><td>2022-09-01</td><td>NULL</td></tr>",
                            "<tr><td>10000026</td><td>9</td><td>2022-09-01</td><td>NULL</td></tr>",
                            "<tr><td>10000026</td><td>10</td><td>2022-09-01</td><td>NULL</td></tr>",
                            "<tr><td>10000026</td><td>11</td><td>2022-09-01</td><td>NULL</td></tr>",
                            "<tr><td>10000026</td><td>12</td><td>2022-09-01</td><td>NULL</td></tr>",
                            "<tr><td>10000026</td><td>13</td><td>2022-09-01</td><td>NULL</td></tr>",
                            "<tr><td>10000026</td><td>14</td><td>2022-09-01</td><td>NULL</td></tr>",
                            "<tr><td>10000026</td><td>15</td><td>2022-09-01</td><td>NULL</td></tr>",
                            "<tr><td>10000027</td><td>1</td><td>2022-09-01</td><td>NULL</td></tr>",
                            "<tr><td>10000027</td><td>2</td><td>2022-09-01</td><td>NULL</td></tr>",
                            "<tr><td>10000027</td><td>3</td><td>2022-09-01</td><td>NULL</td></tr>",
                            "<tr><td>10000027</td><td>4</td><td>2022-09-01</td><td>NULL</td></tr>",
                            "<tr><td>10000027</td><td>5</td><td>2022-09-01</td><td>NULL</td></tr>",
                            "<tr><td>10000027</td><td>6</td><td>2022-09-01</td><td>NULL</td></tr>",
                            "<tr><td>10000027</td><td>7</td><td>2022-09-01</td><td>NULL</td></tr>",
                            "<tr><td>10000027</td><td>8</td><td>2022-09-01</td><td>NULL</td></tr>",
                            "<tr><td>10000027</td><td>9</td><td>2022-09-01</td><td>NULL</td></tr>",
                            "<tr><td>10000027</td><td>10</td><td>2022-09-01</td><td>NULL</td></tr>",
                            "<tr><td>10000027</td><td>11</td><td>2022-09-01</td><td>NULL</td></tr>",
                            "<tr><td>10000027</td><td>12</td><td>2022-09-01</td><td>NULL</td></tr>",
                            "<tr><td>10000027</td><td>13</td><td>2022-09-01</td><td>NULL</td></tr>",
                            "<tr><td>10000027</td><td>14</td><td>2022-09-01</td><td>NULL</td></tr>",
                            "<tr><td>10000027</td><td>15</td><td>2022-09-01</td><td>NULL</td></tr>",
                            "<tr><td>10000028</td><td>1</td><td>2022-09-01</td><td>NULL</td></tr>",
                            "<tr><td>10000028</td><td>2</td><td>2022-09-01</td><td>NULL</td></tr>",
                            "<tr><td>10000028</td><td>3</td><td>2022-09-01</td><td>NULL</td></tr>",
                            "<tr><td>10000028</td><td>4</td><td>2022-09-01</td><td>NULL</td></tr>",
                            "<tr><td>10000028</td><td>5</td><td>2022-09-01</td><td>NULL</td></tr>",
                            "<tr><td>10000028</td><td>6</td><td>2022-09-01</td><td>NULL</td></tr>",
                            "<tr><td>10000028</td><td>7</td><td>2022-09-01</td><td>NULL</td></tr>",
                            "<tr><td>10000028</td><td>8</td><td>2022-09-01</td><td>NULL</td></tr>",
                            "<tr><td>10000028</td><td>9</td><td>2022-09-01</td><td>NULL</td></tr>",
                            "<tr><td>10000028</td><td>10</td><td>2022-09-01</td><td>NULL</td></tr>",
                            "<tr><td>10000028</td><td>11</td><td>2022-09-01</td><td>NULL</td></tr>",
                            "<tr><td>10000028</td><td>12</td><td>2022-09-01</td><td>NULL</td></tr>",
                            "<tr><td>10000028</td><td>13</td><td>2022-09-01</td><td>NULL</td></tr>",
                            "<tr><td>10000028</td><td>14</td><td>2022-09-01</td><td>NULL</td></tr>",
                            "<tr><td>10000028</td><td>15</td><td>2022-09-01</td><td>NULL</td></tr>",
                            "<tr><td>10000029</td><td>1</td><td>2022-09-01</td><td>NULL</td></tr>",
                            "<tr><td>10000029</td><td>2</td><td>2022-09-01</td><td>NULL</td></tr>",
                            "<tr><td>10000029</td><td>3</td><td>2022-09-01</td><td>NULL</td></tr>",
                            "<tr><td>10000029</td><td>4</td><td>2022-09-01</td><td>NULL</td></tr>",
                            "<tr><td>10000029</td><td>5</td><td>2022-09-01</td><td>NULL</td></tr>",
                            "<tr><td>10000030</td><td>1</td><td>2022-09-01</td><td>NULL</td></tr>",
                            "</table>"
                        ]
                    }
                }
            ],
            "execution_count": 25
        },
        {
            "cell_type": "code",
            "source": [
                "SELECT * FROM Course;"
            ],
            "metadata": {
                "azdata_cell_guid": "4fd8713e-8182-41bc-82cc-a0d5ffbc4ed8",
                "language": "sql"
            },
            "outputs": [
                {
                    "output_type": "display_data",
                    "data": {
                        "text/html": "(16 rows affected)"
                    },
                    "metadata": {}
                },
                {
                    "output_type": "display_data",
                    "data": {
                        "text/html": "Total execution time: 00:00:00.052"
                    },
                    "metadata": {}
                },
                {
                    "output_type": "execute_result",
                    "metadata": {},
                    "execution_count": 26,
                    "data": {
                        "application/vnd.dataresource+json": {
                            "schema": {
                                "fields": [
                                    {
                                        "name": "course_id"
                                    },
                                    {
                                        "name": "name"
                                    },
                                    {
                                        "name": "credits"
                                    },
                                    {
                                        "name": "language"
                                    },
                                    {
                                        "name": "description"
                                    },
                                    {
                                        "name": "semester"
                                    },
                                    {
                                        "name": "garant_id"
                                    },
                                    {
                                        "name": "max_capacity"
                                    }
                                ]
                            },
                            "data": [
                                {
                                    "course_id": "1",
                                    "name": "Introduction to Programming",
                                    "credits": "5",
                                    "language": "English",
                                    "description": "Introduction to programming in C#",
                                    "semester": "0",
                                    "garant_id": "10000001",
                                    "max_capacity": "10"
                                },
                                {
                                    "course_id": "2",
                                    "name": "Introduction to Databases",
                                    "credits": "5",
                                    "language": "English",
                                    "description": "Introduction to databases in SQL",
                                    "semester": "0",
                                    "garant_id": "10000002",
                                    "max_capacity": "30"
                                },
                                {
                                    "course_id": "3",
                                    "name": "Introduction to Web",
                                    "credits": "5",
                                    "language": "English",
                                    "description": "Introduction to web development in ASP.NET",
                                    "semester": "1",
                                    "garant_id": "10000005",
                                    "max_capacity": "30"
                                },
                                {
                                    "course_id": "4",
                                    "name": "Introduction to Mobile",
                                    "credits": "5",
                                    "language": "English",
                                    "description": "Introduction to mobile development in Xamarin",
                                    "semester": "1",
                                    "garant_id": "10000006",
                                    "max_capacity": "30"
                                },
                                {
                                    "course_id": "5",
                                    "name": "Molecular Biology",
                                    "credits": "6",
                                    "language": "English",
                                    "description": "Introduction to molecular biology",
                                    "semester": "0",
                                    "garant_id": "10000009",
                                    "max_capacity": "30"
                                },
                                {
                                    "course_id": "6",
                                    "name": "Genetics",
                                    "credits": "6",
                                    "language": "English",
                                    "description": "Introduction to genetics",
                                    "semester": "0",
                                    "garant_id": "10000016",
                                    "max_capacity": "30"
                                },
                                {
                                    "course_id": "7",
                                    "name": "Biochemistry",
                                    "credits": "6",
                                    "language": "English",
                                    "description": "Introduction to biochemistry",
                                    "semester": "1",
                                    "garant_id": "10000017",
                                    "max_capacity": "30"
                                },
                                {
                                    "course_id": "8",
                                    "name": "Microbiology",
                                    "credits": "6",
                                    "language": "English",
                                    "description": "Introduction to microbiology",
                                    "semester": "1",
                                    "garant_id": "10000018",
                                    "max_capacity": "30"
                                },
                                {
                                    "course_id": "9",
                                    "name": "Introduction to Law",
                                    "credits": "6",
                                    "language": "English",
                                    "description": "Introduction to law",
                                    "semester": "0",
                                    "garant_id": "10000019",
                                    "max_capacity": "30"
                                },
                                {
                                    "course_id": "10",
                                    "name": "Introduction to Economics",
                                    "credits": "5",
                                    "language": "English",
                                    "description": "Introduction to economics",
                                    "semester": "0",
                                    "garant_id": "10000010",
                                    "max_capacity": "30"
                                },
                                {
                                    "course_id": "11",
                                    "name": "Introduction to Management",
                                    "credits": "5",
                                    "language": "English",
                                    "description": "Introduction to management",
                                    "semester": "1",
                                    "garant_id": "10000011",
                                    "max_capacity": "30"
                                },
                                {
                                    "course_id": "12",
                                    "name": "Introduction to Marketing",
                                    "credits": "5",
                                    "language": "English",
                                    "description": "Introduction to marketing",
                                    "semester": "1",
                                    "garant_id": "10000012",
                                    "max_capacity": "30"
                                },
                                {
                                    "course_id": "13",
                                    "name": "Introduction to Psychology",
                                    "credits": "5",
                                    "language": "English",
                                    "description": "Introduction to psychology",
                                    "semester": "0",
                                    "garant_id": "10000013",
                                    "max_capacity": "30"
                                },
                                {
                                    "course_id": "14",
                                    "name": "Introduction to Sociology",
                                    "credits": "3",
                                    "language": "English",
                                    "description": "Introduction to sociology",
                                    "semester": "0",
                                    "garant_id": "10000014",
                                    "max_capacity": "30"
                                },
                                {
                                    "course_id": "15",
                                    "name": "Introduction to Philosophy",
                                    "credits": "5",
                                    "language": "English",
                                    "description": "Introduction to philosophy",
                                    "semester": "1",
                                    "garant_id": "10000015",
                                    "max_capacity": "30"
                                },
                                {
                                    "course_id": "16",
                                    "name": "Database Application Development",
                                    "credits": "4",
                                    "language": "Czech",
                                    "description": "This course is about developing database applications.",
                                    "semester": "1",
                                    "garant_id": "10000001",
                                    "max_capacity": "50"
                                }
                            ]
                        },
                        "text/html": [
                            "<table>",
                            "<tr><th>course_id</th><th>name</th><th>credits</th><th>language</th><th>description</th><th>semester</th><th>garant_id</th><th>max_capacity</th></tr>",
                            "<tr><td>1</td><td>Introduction to Programming</td><td>5</td><td>English</td><td>Introduction to programming in C#</td><td>0</td><td>10000001</td><td>10</td></tr>",
                            "<tr><td>2</td><td>Introduction to Databases</td><td>5</td><td>English</td><td>Introduction to databases in SQL</td><td>0</td><td>10000002</td><td>30</td></tr>",
                            "<tr><td>3</td><td>Introduction to Web</td><td>5</td><td>English</td><td>Introduction to web development in ASP.NET</td><td>1</td><td>10000005</td><td>30</td></tr>",
                            "<tr><td>4</td><td>Introduction to Mobile</td><td>5</td><td>English</td><td>Introduction to mobile development in Xamarin</td><td>1</td><td>10000006</td><td>30</td></tr>",
                            "<tr><td>5</td><td>Molecular Biology</td><td>6</td><td>English</td><td>Introduction to molecular biology</td><td>0</td><td>10000009</td><td>30</td></tr>",
                            "<tr><td>6</td><td>Genetics</td><td>6</td><td>English</td><td>Introduction to genetics</td><td>0</td><td>10000016</td><td>30</td></tr>",
                            "<tr><td>7</td><td>Biochemistry</td><td>6</td><td>English</td><td>Introduction to biochemistry</td><td>1</td><td>10000017</td><td>30</td></tr>",
                            "<tr><td>8</td><td>Microbiology</td><td>6</td><td>English</td><td>Introduction to microbiology</td><td>1</td><td>10000018</td><td>30</td></tr>",
                            "<tr><td>9</td><td>Introduction to Law</td><td>6</td><td>English</td><td>Introduction to law</td><td>0</td><td>10000019</td><td>30</td></tr>",
                            "<tr><td>10</td><td>Introduction to Economics</td><td>5</td><td>English</td><td>Introduction to economics</td><td>0</td><td>10000010</td><td>30</td></tr>",
                            "<tr><td>11</td><td>Introduction to Management</td><td>5</td><td>English</td><td>Introduction to management</td><td>1</td><td>10000011</td><td>30</td></tr>",
                            "<tr><td>12</td><td>Introduction to Marketing</td><td>5</td><td>English</td><td>Introduction to marketing</td><td>1</td><td>10000012</td><td>30</td></tr>",
                            "<tr><td>13</td><td>Introduction to Psychology</td><td>5</td><td>English</td><td>Introduction to psychology</td><td>0</td><td>10000013</td><td>30</td></tr>",
                            "<tr><td>14</td><td>Introduction to Sociology</td><td>3</td><td>English</td><td>Introduction to sociology</td><td>0</td><td>10000014</td><td>30</td></tr>",
                            "<tr><td>15</td><td>Introduction to Philosophy</td><td>5</td><td>English</td><td>Introduction to philosophy</td><td>1</td><td>10000015</td><td>30</td></tr>",
                            "<tr><td>16</td><td>Database Application Development</td><td>4</td><td>Czech</td><td>This course is about developing database applications.</td><td>1</td><td>10000001</td><td>50</td></tr>",
                            "</table>"
                        ]
                    }
                }
            ],
            "execution_count": 26
        },
        {
            "cell_type": "code",
            "source": [
                "SELECT * FROM Course_Schedule;"
            ],
            "metadata": {
                "azdata_cell_guid": "55ac1f36-5729-490a-8784-f35ebfc2e7b1",
                "language": "sql"
            },
            "outputs": [
                {
                    "output_type": "display_data",
                    "data": {
                        "text/html": "(61 rows affected)"
                    },
                    "metadata": {}
                },
                {
                    "output_type": "display_data",
                    "data": {
                        "text/html": "Total execution time: 00:00:00.066"
                    },
                    "metadata": {}
                },
                {
                    "output_type": "execute_result",
                    "metadata": {},
                    "execution_count": 27,
                    "data": {
                        "application/vnd.dataresource+json": {
                            "schema": {
                                "fields": [
                                    {
                                        "name": "course_id"
                                    },
                                    {
                                        "name": "start_time"
                                    },
                                    {
                                        "name": "end_time"
                                    },
                                    {
                                        "name": "day_of_week"
                                    },
                                    {
                                        "name": "location"
                                    }
                                ]
                            },
                            "data": [
                                {
                                    "course_id": "1",
                                    "start_time": "08:00:00",
                                    "end_time": "09:30:00",
                                    "day_of_week": "0",
                                    "location": "Room 1A"
                                },
                                {
                                    "course_id": "1",
                                    "start_time": "09:00:00",
                                    "end_time": "10:30:00",
                                    "day_of_week": "2",
                                    "location": "Room 2A"
                                },
                                {
                                    "course_id": "1",
                                    "start_time": "10:00:00",
                                    "end_time": "11:30:00",
                                    "day_of_week": "4",
                                    "location": "Room 3C"
                                },
                                {
                                    "course_id": "1",
                                    "start_time": "12:00:00",
                                    "end_time": "12:30:00",
                                    "day_of_week": "6",
                                    "location": "Room 4D"
                                },
                                {
                                    "course_id": "1",
                                    "start_time": "19:30:00",
                                    "end_time": "21:00:00",
                                    "day_of_week": "1",
                                    "location": "Room 101"
                                },
                                {
                                    "course_id": "2",
                                    "start_time": "15:00:00",
                                    "end_time": "15:30:00",
                                    "day_of_week": "0",
                                    "location": "Room 1A"
                                },
                                {
                                    "course_id": "2",
                                    "start_time": "15:00:00",
                                    "end_time": "15:30:00",
                                    "day_of_week": "2",
                                    "location": "Room 2A"
                                },
                                {
                                    "course_id": "2",
                                    "start_time": "16:00:00",
                                    "end_time": "16:30:00",
                                    "day_of_week": "4",
                                    "location": "Room 3C"
                                },
                                {
                                    "course_id": "2",
                                    "start_time": "17:00:00",
                                    "end_time": "17:30:00",
                                    "day_of_week": "6",
                                    "location": "Room 4D"
                                },
                                {
                                    "course_id": "3",
                                    "start_time": "08:00:00",
                                    "end_time": "09:30:00",
                                    "day_of_week": "1",
                                    "location": "Room 1A"
                                },
                                {
                                    "course_id": "3",
                                    "start_time": "08:00:00",
                                    "end_time": "09:30:00",
                                    "day_of_week": "3",
                                    "location": "Room 2A"
                                },
                                {
                                    "course_id": "3",
                                    "start_time": "10:00:00",
                                    "end_time": "11:30:00",
                                    "day_of_week": "5",
                                    "location": "Room 3C"
                                },
                                {
                                    "course_id": "3",
                                    "start_time": "12:00:00",
                                    "end_time": "12:30:00",
                                    "day_of_week": "0",
                                    "location": "Room 4D"
                                },
                                {
                                    "course_id": "4",
                                    "start_time": "15:00:00",
                                    "end_time": "15:30:00",
                                    "day_of_week": "1",
                                    "location": "Room 1A"
                                },
                                {
                                    "course_id": "4",
                                    "start_time": "15:00:00",
                                    "end_time": "15:30:00",
                                    "day_of_week": "3",
                                    "location": "Room 2A"
                                },
                                {
                                    "course_id": "4",
                                    "start_time": "16:00:00",
                                    "end_time": "16:30:00",
                                    "day_of_week": "5",
                                    "location": "Room 3C"
                                },
                                {
                                    "course_id": "4",
                                    "start_time": "17:00:00",
                                    "end_time": "17:30:00",
                                    "day_of_week": "0",
                                    "location": "Room 4D"
                                },
                                {
                                    "course_id": "5",
                                    "start_time": "08:00:00",
                                    "end_time": "09:30:00",
                                    "day_of_week": "2",
                                    "location": "Room 1A"
                                },
                                {
                                    "course_id": "5",
                                    "start_time": "08:00:00",
                                    "end_time": "09:30:00",
                                    "day_of_week": "4",
                                    "location": "Room 2A"
                                },
                                {
                                    "course_id": "5",
                                    "start_time": "10:00:00",
                                    "end_time": "11:30:00",
                                    "day_of_week": "6",
                                    "location": "Room 3C"
                                },
                                {
                                    "course_id": "5",
                                    "start_time": "12:00:00",
                                    "end_time": "12:30:00",
                                    "day_of_week": "1",
                                    "location": "Room 4D"
                                },
                                {
                                    "course_id": "6",
                                    "start_time": "15:00:00",
                                    "end_time": "15:30:00",
                                    "day_of_week": "2",
                                    "location": "Room 1A"
                                },
                                {
                                    "course_id": "6",
                                    "start_time": "15:00:00",
                                    "end_time": "15:30:00",
                                    "day_of_week": "4",
                                    "location": "Room 2A"
                                },
                                {
                                    "course_id": "6",
                                    "start_time": "16:00:00",
                                    "end_time": "16:30:00",
                                    "day_of_week": "6",
                                    "location": "Room 3C"
                                },
                                {
                                    "course_id": "6",
                                    "start_time": "17:00:00",
                                    "end_time": "17:30:00",
                                    "day_of_week": "1",
                                    "location": "Room 4D"
                                },
                                {
                                    "course_id": "7",
                                    "start_time": "08:00:00",
                                    "end_time": "09:30:00",
                                    "day_of_week": "3",
                                    "location": "Room 1A"
                                },
                                {
                                    "course_id": "7",
                                    "start_time": "08:00:00",
                                    "end_time": "09:30:00",
                                    "day_of_week": "5",
                                    "location": "Room 2A"
                                },
                                {
                                    "course_id": "7",
                                    "start_time": "10:00:00",
                                    "end_time": "11:30:00",
                                    "day_of_week": "0",
                                    "location": "Room 3C"
                                },
                                {
                                    "course_id": "7",
                                    "start_time": "12:00:00",
                                    "end_time": "12:30:00",
                                    "day_of_week": "2",
                                    "location": "Room 4D"
                                },
                                {
                                    "course_id": "8",
                                    "start_time": "15:00:00",
                                    "end_time": "15:30:00",
                                    "day_of_week": "3",
                                    "location": "Room 1A"
                                },
                                {
                                    "course_id": "8",
                                    "start_time": "15:00:00",
                                    "end_time": "15:30:00",
                                    "day_of_week": "5",
                                    "location": "Room 2A"
                                },
                                {
                                    "course_id": "8",
                                    "start_time": "16:00:00",
                                    "end_time": "16:30:00",
                                    "day_of_week": "0",
                                    "location": "Room 3C"
                                },
                                {
                                    "course_id": "8",
                                    "start_time": "17:00:00",
                                    "end_time": "17:30:00",
                                    "day_of_week": "2",
                                    "location": "Room 4D"
                                },
                                {
                                    "course_id": "9",
                                    "start_time": "08:00:00",
                                    "end_time": "09:30:00",
                                    "day_of_week": "4",
                                    "location": "Room 1A"
                                },
                                {
                                    "course_id": "9",
                                    "start_time": "08:00:00",
                                    "end_time": "09:30:00",
                                    "day_of_week": "6",
                                    "location": "Room 2A"
                                },
                                {
                                    "course_id": "9",
                                    "start_time": "10:00:00",
                                    "end_time": "11:30:00",
                                    "day_of_week": "1",
                                    "location": "Room 3C"
                                },
                                {
                                    "course_id": "9",
                                    "start_time": "12:00:00",
                                    "end_time": "12:30:00",
                                    "day_of_week": "3",
                                    "location": "Room 4D"
                                },
                                {
                                    "course_id": "10",
                                    "start_time": "15:00:00",
                                    "end_time": "15:30:00",
                                    "day_of_week": "4",
                                    "location": "Room 1A"
                                },
                                {
                                    "course_id": "10",
                                    "start_time": "15:00:00",
                                    "end_time": "15:30:00",
                                    "day_of_week": "6",
                                    "location": "Room 2A"
                                },
                                {
                                    "course_id": "10",
                                    "start_time": "16:00:00",
                                    "end_time": "16:30:00",
                                    "day_of_week": "1",
                                    "location": "Room 3C"
                                },
                                {
                                    "course_id": "10",
                                    "start_time": "17:00:00",
                                    "end_time": "17:30:00",
                                    "day_of_week": "3",
                                    "location": "Room 4D"
                                },
                                {
                                    "course_id": "11",
                                    "start_time": "08:00:00",
                                    "end_time": "09:30:00",
                                    "day_of_week": "0",
                                    "location": "Room 2A"
                                },
                                {
                                    "course_id": "11",
                                    "start_time": "08:00:00",
                                    "end_time": "09:30:00",
                                    "day_of_week": "5",
                                    "location": "Room 1A"
                                },
                                {
                                    "course_id": "11",
                                    "start_time": "10:00:00",
                                    "end_time": "11:30:00",
                                    "day_of_week": "2",
                                    "location": "Room 3C"
                                },
                                {
                                    "course_id": "11",
                                    "start_time": "12:00:00",
                                    "end_time": "12:30:00",
                                    "day_of_week": "4",
                                    "location": "Room 4D"
                                },
                                {
                                    "course_id": "12",
                                    "start_time": "15:00:00",
                                    "end_time": "15:30:00",
                                    "day_of_week": "0",
                                    "location": "Room 2A"
                                },
                                {
                                    "course_id": "12",
                                    "start_time": "15:00:00",
                                    "end_time": "15:30:00",
                                    "day_of_week": "5",
                                    "location": "Room 1A"
                                },
                                {
                                    "course_id": "12",
                                    "start_time": "16:00:00",
                                    "end_time": "16:30:00",
                                    "day_of_week": "2",
                                    "location": "Room 3C"
                                },
                                {
                                    "course_id": "12",
                                    "start_time": "17:00:00",
                                    "end_time": "17:30:00",
                                    "day_of_week": "4",
                                    "location": "Room 4D"
                                },
                                {
                                    "course_id": "13",
                                    "start_time": "08:00:00",
                                    "end_time": "09:30:00",
                                    "day_of_week": "1",
                                    "location": "Room 2A"
                                },
                                {
                                    "course_id": "13",
                                    "start_time": "08:00:00",
                                    "end_time": "09:30:00",
                                    "day_of_week": "6",
                                    "location": "Room 1A"
                                },
                                {
                                    "course_id": "13",
                                    "start_time": "10:00:00",
                                    "end_time": "11:30:00",
                                    "day_of_week": "3",
                                    "location": "Room 3C"
                                },
                                {
                                    "course_id": "13",
                                    "start_time": "12:00:00",
                                    "end_time": "12:30:00",
                                    "day_of_week": "5",
                                    "location": "Room 4D"
                                },
                                {
                                    "course_id": "14",
                                    "start_time": "15:00:00",
                                    "end_time": "15:30:00",
                                    "day_of_week": "1",
                                    "location": "Room 2A"
                                },
                                {
                                    "course_id": "14",
                                    "start_time": "15:00:00",
                                    "end_time": "15:30:00",
                                    "day_of_week": "6",
                                    "location": "Room 1A"
                                },
                                {
                                    "course_id": "14",
                                    "start_time": "16:00:00",
                                    "end_time": "16:30:00",
                                    "day_of_week": "3",
                                    "location": "Room 3C"
                                },
                                {
                                    "course_id": "14",
                                    "start_time": "17:00:00",
                                    "end_time": "17:30:00",
                                    "day_of_week": "5",
                                    "location": "Room 4D"
                                },
                                {
                                    "course_id": "15",
                                    "start_time": "08:00:00",
                                    "end_time": "09:30:00",
                                    "day_of_week": "0",
                                    "location": "Room 1A"
                                },
                                {
                                    "course_id": "15",
                                    "start_time": "08:00:00",
                                    "end_time": "09:30:00",
                                    "day_of_week": "2",
                                    "location": "Room 2A"
                                },
                                {
                                    "course_id": "15",
                                    "start_time": "10:00:00",
                                    "end_time": "11:30:00",
                                    "day_of_week": "4",
                                    "location": "Room 3C"
                                },
                                {
                                    "course_id": "15",
                                    "start_time": "12:00:00",
                                    "end_time": "12:30:00",
                                    "day_of_week": "6",
                                    "location": "Room 4D"
                                }
                            ]
                        },
                        "text/html": [
                            "<table>",
                            "<tr><th>course_id</th><th>start_time</th><th>end_time</th><th>day_of_week</th><th>location</th></tr>",
                            "<tr><td>1</td><td>08:00:00</td><td>09:30:00</td><td>0</td><td>Room 1A</td></tr>",
                            "<tr><td>1</td><td>09:00:00</td><td>10:30:00</td><td>2</td><td>Room 2A</td></tr>",
                            "<tr><td>1</td><td>10:00:00</td><td>11:30:00</td><td>4</td><td>Room 3C</td></tr>",
                            "<tr><td>1</td><td>12:00:00</td><td>12:30:00</td><td>6</td><td>Room 4D</td></tr>",
                            "<tr><td>1</td><td>19:30:00</td><td>21:00:00</td><td>1</td><td>Room 101</td></tr>",
                            "<tr><td>2</td><td>15:00:00</td><td>15:30:00</td><td>0</td><td>Room 1A</td></tr>",
                            "<tr><td>2</td><td>15:00:00</td><td>15:30:00</td><td>2</td><td>Room 2A</td></tr>",
                            "<tr><td>2</td><td>16:00:00</td><td>16:30:00</td><td>4</td><td>Room 3C</td></tr>",
                            "<tr><td>2</td><td>17:00:00</td><td>17:30:00</td><td>6</td><td>Room 4D</td></tr>",
                            "<tr><td>3</td><td>08:00:00</td><td>09:30:00</td><td>1</td><td>Room 1A</td></tr>",
                            "<tr><td>3</td><td>08:00:00</td><td>09:30:00</td><td>3</td><td>Room 2A</td></tr>",
                            "<tr><td>3</td><td>10:00:00</td><td>11:30:00</td><td>5</td><td>Room 3C</td></tr>",
                            "<tr><td>3</td><td>12:00:00</td><td>12:30:00</td><td>0</td><td>Room 4D</td></tr>",
                            "<tr><td>4</td><td>15:00:00</td><td>15:30:00</td><td>1</td><td>Room 1A</td></tr>",
                            "<tr><td>4</td><td>15:00:00</td><td>15:30:00</td><td>3</td><td>Room 2A</td></tr>",
                            "<tr><td>4</td><td>16:00:00</td><td>16:30:00</td><td>5</td><td>Room 3C</td></tr>",
                            "<tr><td>4</td><td>17:00:00</td><td>17:30:00</td><td>0</td><td>Room 4D</td></tr>",
                            "<tr><td>5</td><td>08:00:00</td><td>09:30:00</td><td>2</td><td>Room 1A</td></tr>",
                            "<tr><td>5</td><td>08:00:00</td><td>09:30:00</td><td>4</td><td>Room 2A</td></tr>",
                            "<tr><td>5</td><td>10:00:00</td><td>11:30:00</td><td>6</td><td>Room 3C</td></tr>",
                            "<tr><td>5</td><td>12:00:00</td><td>12:30:00</td><td>1</td><td>Room 4D</td></tr>",
                            "<tr><td>6</td><td>15:00:00</td><td>15:30:00</td><td>2</td><td>Room 1A</td></tr>",
                            "<tr><td>6</td><td>15:00:00</td><td>15:30:00</td><td>4</td><td>Room 2A</td></tr>",
                            "<tr><td>6</td><td>16:00:00</td><td>16:30:00</td><td>6</td><td>Room 3C</td></tr>",
                            "<tr><td>6</td><td>17:00:00</td><td>17:30:00</td><td>1</td><td>Room 4D</td></tr>",
                            "<tr><td>7</td><td>08:00:00</td><td>09:30:00</td><td>3</td><td>Room 1A</td></tr>",
                            "<tr><td>7</td><td>08:00:00</td><td>09:30:00</td><td>5</td><td>Room 2A</td></tr>",
                            "<tr><td>7</td><td>10:00:00</td><td>11:30:00</td><td>0</td><td>Room 3C</td></tr>",
                            "<tr><td>7</td><td>12:00:00</td><td>12:30:00</td><td>2</td><td>Room 4D</td></tr>",
                            "<tr><td>8</td><td>15:00:00</td><td>15:30:00</td><td>3</td><td>Room 1A</td></tr>",
                            "<tr><td>8</td><td>15:00:00</td><td>15:30:00</td><td>5</td><td>Room 2A</td></tr>",
                            "<tr><td>8</td><td>16:00:00</td><td>16:30:00</td><td>0</td><td>Room 3C</td></tr>",
                            "<tr><td>8</td><td>17:00:00</td><td>17:30:00</td><td>2</td><td>Room 4D</td></tr>",
                            "<tr><td>9</td><td>08:00:00</td><td>09:30:00</td><td>4</td><td>Room 1A</td></tr>",
                            "<tr><td>9</td><td>08:00:00</td><td>09:30:00</td><td>6</td><td>Room 2A</td></tr>",
                            "<tr><td>9</td><td>10:00:00</td><td>11:30:00</td><td>1</td><td>Room 3C</td></tr>",
                            "<tr><td>9</td><td>12:00:00</td><td>12:30:00</td><td>3</td><td>Room 4D</td></tr>",
                            "<tr><td>10</td><td>15:00:00</td><td>15:30:00</td><td>4</td><td>Room 1A</td></tr>",
                            "<tr><td>10</td><td>15:00:00</td><td>15:30:00</td><td>6</td><td>Room 2A</td></tr>",
                            "<tr><td>10</td><td>16:00:00</td><td>16:30:00</td><td>1</td><td>Room 3C</td></tr>",
                            "<tr><td>10</td><td>17:00:00</td><td>17:30:00</td><td>3</td><td>Room 4D</td></tr>",
                            "<tr><td>11</td><td>08:00:00</td><td>09:30:00</td><td>0</td><td>Room 2A</td></tr>",
                            "<tr><td>11</td><td>08:00:00</td><td>09:30:00</td><td>5</td><td>Room 1A</td></tr>",
                            "<tr><td>11</td><td>10:00:00</td><td>11:30:00</td><td>2</td><td>Room 3C</td></tr>",
                            "<tr><td>11</td><td>12:00:00</td><td>12:30:00</td><td>4</td><td>Room 4D</td></tr>",
                            "<tr><td>12</td><td>15:00:00</td><td>15:30:00</td><td>0</td><td>Room 2A</td></tr>",
                            "<tr><td>12</td><td>15:00:00</td><td>15:30:00</td><td>5</td><td>Room 1A</td></tr>",
                            "<tr><td>12</td><td>16:00:00</td><td>16:30:00</td><td>2</td><td>Room 3C</td></tr>",
                            "<tr><td>12</td><td>17:00:00</td><td>17:30:00</td><td>4</td><td>Room 4D</td></tr>",
                            "<tr><td>13</td><td>08:00:00</td><td>09:30:00</td><td>1</td><td>Room 2A</td></tr>",
                            "<tr><td>13</td><td>08:00:00</td><td>09:30:00</td><td>6</td><td>Room 1A</td></tr>",
                            "<tr><td>13</td><td>10:00:00</td><td>11:30:00</td><td>3</td><td>Room 3C</td></tr>",
                            "<tr><td>13</td><td>12:00:00</td><td>12:30:00</td><td>5</td><td>Room 4D</td></tr>",
                            "<tr><td>14</td><td>15:00:00</td><td>15:30:00</td><td>1</td><td>Room 2A</td></tr>",
                            "<tr><td>14</td><td>15:00:00</td><td>15:30:00</td><td>6</td><td>Room 1A</td></tr>",
                            "<tr><td>14</td><td>16:00:00</td><td>16:30:00</td><td>3</td><td>Room 3C</td></tr>",
                            "<tr><td>14</td><td>17:00:00</td><td>17:30:00</td><td>5</td><td>Room 4D</td></tr>",
                            "<tr><td>15</td><td>08:00:00</td><td>09:30:00</td><td>0</td><td>Room 1A</td></tr>",
                            "<tr><td>15</td><td>08:00:00</td><td>09:30:00</td><td>2</td><td>Room 2A</td></tr>",
                            "<tr><td>15</td><td>10:00:00</td><td>11:30:00</td><td>4</td><td>Room 3C</td></tr>",
                            "<tr><td>15</td><td>12:00:00</td><td>12:30:00</td><td>6</td><td>Room 4D</td></tr>",
                            "</table>"
                        ]
                    }
                }
            ],
            "execution_count": 27
        },
        {
            "cell_type": "markdown",
            "source": [
                "## Views"
            ],
            "metadata": {
                "azdata_cell_guid": "6a069e29-46f1-458a-b176-afc8a88e9b66"
            },
            "attachments": {}
        },
        {
            "cell_type": "code",
            "source": [
                "SELECT * FROM vw_Student_Details;"
            ],
            "metadata": {
                "language": "sql",
                "azdata_cell_guid": "e18505f3-cf3f-4090-90e8-809310a58d61"
            },
            "outputs": [
                {
                    "output_type": "display_data",
                    "data": {
                        "text/html": "(37 rows affected)"
                    },
                    "metadata": {}
                },
                {
                    "output_type": "display_data",
                    "data": {
                        "text/html": "Total execution time: 00:00:00.063"
                    },
                    "metadata": {}
                },
                {
                    "output_type": "execute_result",
                    "metadata": {},
                    "execution_count": 28,
                    "data": {
                        "application/vnd.dataresource+json": {
                            "schema": {
                                "fields": [
                                    {
                                        "name": "student_id"
                                    },
                                    {
                                        "name": "student_name"
                                    },
                                    {
                                        "name": "program_name"
                                    },
                                    {
                                        "name": "program_duration_years"
                                    },
                                    {
                                        "name": "student_study_year"
                                    },
                                    {
                                        "name": "admission_date"
                                    },
                                    {
                                        "name": "graduation_date"
                                    },
                                    {
                                        "name": "gpa"
                                    },
                                    {
                                        "name": "status"
                                    },
                                    {
                                        "name": "honor_status"
                                    }
                                ]
                            },
                            "data": [
                                {
                                    "student_id": "10000003",
                                    "student_name": "Robert Jones",
                                    "program_name": "Medicine",
                                    "program_duration_years": "6",
                                    "student_study_year": "1",
                                    "admission_date": "2022-09-01",
                                    "graduation_date": "NULL",
                                    "gpa": "2.00",
                                    "status": "active",
                                    "honor_status": "Good Standing"
                                },
                                {
                                    "student_id": "10000004",
                                    "student_name": "Laura Smith",
                                    "program_name": "Law",
                                    "program_duration_years": "5",
                                    "student_study_year": "1",
                                    "admission_date": "2022-09-01",
                                    "graduation_date": "NULL",
                                    "gpa": "NULL",
                                    "status": "active",
                                    "honor_status": "NULL"
                                },
                                {
                                    "student_id": "10000007",
                                    "student_name": "Mike Johnson",
                                    "program_name": "History",
                                    "program_duration_years": "3",
                                    "student_study_year": "1",
                                    "admission_date": "2022-09-01",
                                    "graduation_date": "NULL",
                                    "gpa": "NULL",
                                    "status": "active",
                                    "honor_status": "NULL"
                                },
                                {
                                    "student_id": "10000008",
                                    "student_name": "Linda Sabina",
                                    "program_name": "Biology",
                                    "program_duration_years": "3",
                                    "student_study_year": "1",
                                    "admission_date": "2022-09-01",
                                    "graduation_date": "NULL",
                                    "gpa": "NULL",
                                    "status": "active",
                                    "honor_status": "NULL"
                                },
                                {
                                    "student_id": "10000026",
                                    "student_name": "Violet Becker",
                                    "program_name": "Mathematics",
                                    "program_duration_years": "3",
                                    "student_study_year": "2",
                                    "admission_date": "2021-09-01",
                                    "graduation_date": "NULL",
                                    "gpa": "NULL",
                                    "status": "active",
                                    "honor_status": "NULL"
                                },
                                {
                                    "student_id": "10000027",
                                    "student_name": "Octavius Holland",
                                    "program_name": "Informatics",
                                    "program_duration_years": "3",
                                    "student_study_year": "2",
                                    "admission_date": "2021-09-01",
                                    "graduation_date": "NULL",
                                    "gpa": "NULL",
                                    "status": "active",
                                    "honor_status": "NULL"
                                },
                                {
                                    "student_id": "10000028",
                                    "student_name": "Zeph Simon",
                                    "program_name": "Economics",
                                    "program_duration_years": "3",
                                    "student_study_year": "2",
                                    "admission_date": "2021-09-01",
                                    "graduation_date": "NULL",
                                    "gpa": "NULL",
                                    "status": "active",
                                    "honor_status": "NULL"
                                },
                                {
                                    "student_id": "10000029",
                                    "student_name": "Adena Vega",
                                    "program_name": "Pharmacy",
                                    "program_duration_years": "5",
                                    "student_study_year": "2",
                                    "admission_date": "2021-09-01",
                                    "graduation_date": "NULL",
                                    "gpa": "NULL",
                                    "status": "expelled",
                                    "honor_status": "NULL"
                                },
                                {
                                    "student_id": "10000030",
                                    "student_name": "Gabriel Jenkins",
                                    "program_name": "Education",
                                    "program_duration_years": "3",
                                    "student_study_year": "2",
                                    "admission_date": "2021-09-01",
                                    "graduation_date": "NULL",
                                    "gpa": "NULL",
                                    "status": "active",
                                    "honor_status": "NULL"
                                },
                                {
                                    "student_id": "10000031",
                                    "student_name": "Ciaran Vance",
                                    "program_name": "Physical Education",
                                    "program_duration_years": "3",
                                    "student_study_year": "2",
                                    "admission_date": "2021-09-01",
                                    "graduation_date": "NULL",
                                    "gpa": "NULL",
                                    "status": "active",
                                    "honor_status": "NULL"
                                },
                                {
                                    "student_id": "10000032",
                                    "student_name": "Hayley Bradford",
                                    "program_name": "Sport",
                                    "program_duration_years": "3",
                                    "student_study_year": "2",
                                    "admission_date": "2021-09-01",
                                    "graduation_date": "NULL",
                                    "gpa": "NULL",
                                    "status": "active",
                                    "honor_status": "NULL"
                                },
                                {
                                    "student_id": "10000033",
                                    "student_name": "Galvin Hebert",
                                    "program_name": "Psychology",
                                    "program_duration_years": "3",
                                    "student_study_year": "2",
                                    "admission_date": "2021-09-01",
                                    "graduation_date": "NULL",
                                    "gpa": "NULL",
                                    "status": "active",
                                    "honor_status": "NULL"
                                },
                                {
                                    "student_id": "10000034",
                                    "student_name": "Damon Dillard",
                                    "program_name": "Business Administration",
                                    "program_duration_years": "3",
                                    "student_study_year": "2",
                                    "admission_date": "2021-09-01",
                                    "graduation_date": "NULL",
                                    "gpa": "NULL",
                                    "status": "active",
                                    "honor_status": "NULL"
                                },
                                {
                                    "student_id": "10000035",
                                    "student_name": "Charity Owens",
                                    "program_name": "Medicine",
                                    "program_duration_years": "6",
                                    "student_study_year": "3",
                                    "admission_date": "2020-09-01",
                                    "graduation_date": "NULL",
                                    "gpa": "NULL",
                                    "status": "active",
                                    "honor_status": "NULL"
                                },
                                {
                                    "student_id": "10000036",
                                    "student_name": "Luke Reyes",
                                    "program_name": "Law",
                                    "program_duration_years": "5",
                                    "student_study_year": "3",
                                    "admission_date": "2020-09-01",
                                    "graduation_date": "NULL",
                                    "gpa": "NULL",
                                    "status": "active",
                                    "honor_status": "NULL"
                                },
                                {
                                    "student_id": "10000037",
                                    "student_name": "Oliver Baird",
                                    "program_name": "History",
                                    "program_duration_years": "3",
                                    "student_study_year": "3",
                                    "admission_date": "2020-09-01",
                                    "graduation_date": "NULL",
                                    "gpa": "NULL",
                                    "status": "active",
                                    "honor_status": "NULL"
                                },
                                {
                                    "student_id": "10000038",
                                    "student_name": "Bryar Gutierrez",
                                    "program_name": "Biology",
                                    "program_duration_years": "3",
                                    "student_study_year": "3",
                                    "admission_date": "2020-09-01",
                                    "graduation_date": "NULL",
                                    "gpa": "NULL",
                                    "status": "active",
                                    "honor_status": "NULL"
                                },
                                {
                                    "student_id": "10000039",
                                    "student_name": "Beau Conner",
                                    "program_name": "Chemistry",
                                    "program_duration_years": "3",
                                    "student_study_year": "3",
                                    "admission_date": "2020-09-01",
                                    "graduation_date": "NULL",
                                    "gpa": "NULL",
                                    "status": "active",
                                    "honor_status": "NULL"
                                },
                                {
                                    "student_id": "10000040",
                                    "student_name": "Dexter Ferguson",
                                    "program_name": "Physics",
                                    "program_duration_years": "3",
                                    "student_study_year": "3",
                                    "admission_date": "2020-09-01",
                                    "graduation_date": "NULL",
                                    "gpa": "NULL",
                                    "status": "suspended",
                                    "honor_status": "NULL"
                                },
                                {
                                    "student_id": "10000041",
                                    "student_name": "Cooper Wilkerson",
                                    "program_name": "Mathematics",
                                    "program_duration_years": "3",
                                    "student_study_year": "3",
                                    "admission_date": "2020-09-01",
                                    "graduation_date": "NULL",
                                    "gpa": "NULL",
                                    "status": "active",
                                    "honor_status": "NULL"
                                },
                                {
                                    "student_id": "10000042",
                                    "student_name": "Melinda Camacho",
                                    "program_name": "Informatics",
                                    "program_duration_years": "3",
                                    "student_study_year": "3",
                                    "admission_date": "2020-09-01",
                                    "graduation_date": "NULL",
                                    "gpa": "NULL",
                                    "status": "active",
                                    "honor_status": "NULL"
                                },
                                {
                                    "student_id": "10000043",
                                    "student_name": "Molly Lancaster",
                                    "program_name": "Economics",
                                    "program_duration_years": "3",
                                    "student_study_year": "3",
                                    "admission_date": "2020-09-01",
                                    "graduation_date": "NULL",
                                    "gpa": "NULL",
                                    "status": "active",
                                    "honor_status": "NULL"
                                },
                                {
                                    "student_id": "10000044",
                                    "student_name": "Stone Webster",
                                    "program_name": "Pharmacy",
                                    "program_duration_years": "5",
                                    "student_study_year": "3",
                                    "admission_date": "2020-09-01",
                                    "graduation_date": "NULL",
                                    "gpa": "NULL",
                                    "status": "active",
                                    "honor_status": "NULL"
                                },
                                {
                                    "student_id": "10000045",
                                    "student_name": "Hedy Gallegos",
                                    "program_name": "Education",
                                    "program_duration_years": "3",
                                    "student_study_year": "3",
                                    "admission_date": "2020-09-01",
                                    "graduation_date": "NULL",
                                    "gpa": "NULL",
                                    "status": "active",
                                    "honor_status": "NULL"
                                },
                                {
                                    "student_id": "10000046",
                                    "student_name": "Fletcher Holmes",
                                    "program_name": "Physical Education",
                                    "program_duration_years": "3",
                                    "student_study_year": "3",
                                    "admission_date": "2020-09-01",
                                    "graduation_date": "NULL",
                                    "gpa": "NULL",
                                    "status": "active",
                                    "honor_status": "NULL"
                                },
                                {
                                    "student_id": "10000047",
                                    "student_name": "Summer Shepherd",
                                    "program_name": "Sport",
                                    "program_duration_years": "3",
                                    "student_study_year": "3",
                                    "admission_date": "2020-09-01",
                                    "graduation_date": "NULL",
                                    "gpa": "NULL",
                                    "status": "expelled",
                                    "honor_status": "NULL"
                                },
                                {
                                    "student_id": "10000048",
                                    "student_name": "Piper Winters",
                                    "program_name": "Psychology",
                                    "program_duration_years": "3",
                                    "student_study_year": "3",
                                    "admission_date": "2020-09-01",
                                    "graduation_date": "NULL",
                                    "gpa": "NULL",
                                    "status": "active",
                                    "honor_status": "NULL"
                                },
                                {
                                    "student_id": "10000049",
                                    "student_name": "Sebastian Mcdonald",
                                    "program_name": "Business Administration",
                                    "program_duration_years": "3",
                                    "student_study_year": "3",
                                    "admission_date": "2020-09-01",
                                    "graduation_date": "NULL",
                                    "gpa": "NULL",
                                    "status": "active",
                                    "honor_status": "NULL"
                                },
                                {
                                    "student_id": "10000050",
                                    "student_name": "Kaye Salas",
                                    "program_name": "Medicine",
                                    "program_duration_years": "6",
                                    "student_study_year": "4",
                                    "admission_date": "2019-09-01",
                                    "graduation_date": "NULL",
                                    "gpa": "NULL",
                                    "status": "active",
                                    "honor_status": "NULL"
                                },
                                {
                                    "student_id": "10000051",
                                    "student_name": "Callie Christian",
                                    "program_name": "Law",
                                    "program_duration_years": "5",
                                    "student_study_year": "4",
                                    "admission_date": "2019-09-01",
                                    "graduation_date": "NULL",
                                    "gpa": "NULL",
                                    "status": "active",
                                    "honor_status": "NULL"
                                },
                                {
                                    "student_id": "10000052",
                                    "student_name": "Janna Swanson",
                                    "program_name": "History",
                                    "program_duration_years": "3",
                                    "student_study_year": "3",
                                    "admission_date": "2020-09-01",
                                    "graduation_date": "NULL",
                                    "gpa": "NULL",
                                    "status": "active",
                                    "honor_status": "NULL"
                                },
                                {
                                    "student_id": "10000053",
                                    "student_name": "Stephanie Johns",
                                    "program_name": "Biology",
                                    "program_duration_years": "3",
                                    "student_study_year": "3",
                                    "admission_date": "2020-09-01",
                                    "graduation_date": "NULL",
                                    "gpa": "NULL",
                                    "status": "active",
                                    "honor_status": "NULL"
                                },
                                {
                                    "student_id": "10000054",
                                    "student_name": "Barrett Foreman",
                                    "program_name": "Chemistry",
                                    "program_duration_years": "3",
                                    "student_study_year": "3",
                                    "admission_date": "2020-09-01",
                                    "graduation_date": "NULL",
                                    "gpa": "NULL",
                                    "status": "active",
                                    "honor_status": "NULL"
                                },
                                {
                                    "student_id": "10000055",
                                    "student_name": "Lev Myers",
                                    "program_name": "Physics",
                                    "program_duration_years": "3",
                                    "student_study_year": "3",
                                    "admission_date": "2020-09-01",
                                    "graduation_date": "NULL",
                                    "gpa": "NULL",
                                    "status": "active",
                                    "honor_status": "NULL"
                                },
                                {
                                    "student_id": "10000056",
                                    "student_name": "Camden Olson",
                                    "program_name": "Mathematics",
                                    "program_duration_years": "3",
                                    "student_study_year": "3",
                                    "admission_date": "2020-09-01",
                                    "graduation_date": "NULL",
                                    "gpa": "NULL",
                                    "status": "active",
                                    "honor_status": "NULL"
                                },
                                {
                                    "student_id": "10000057",
                                    "student_name": "Fritz Oneal",
                                    "program_name": "Informatics",
                                    "program_duration_years": "3",
                                    "student_study_year": "3",
                                    "admission_date": "2020-09-01",
                                    "graduation_date": "NULL",
                                    "gpa": "NULL",
                                    "status": "active",
                                    "honor_status": "NULL"
                                },
                                {
                                    "student_id": "10000060",
                                    "student_name": "Martin Corovcak",
                                    "program_name": "Medicine",
                                    "program_duration_years": "6",
                                    "student_study_year": "1",
                                    "admission_date": "2022-09-01",
                                    "graduation_date": "NULL",
                                    "gpa": "NULL",
                                    "status": "active",
                                    "honor_status": "NULL"
                                }
                            ]
                        },
                        "text/html": [
                            "<table>",
                            "<tr><th>student_id</th><th>student_name</th><th>program_name</th><th>program_duration_years</th><th>student_study_year</th><th>admission_date</th><th>graduation_date</th><th>gpa</th><th>status</th><th>honor_status</th></tr>",
                            "<tr><td>10000003</td><td>Robert Jones</td><td>Medicine</td><td>6</td><td>1</td><td>2022-09-01</td><td>NULL</td><td>2.00</td><td>active</td><td>Good Standing</td></tr>",
                            "<tr><td>10000004</td><td>Laura Smith</td><td>Law</td><td>5</td><td>1</td><td>2022-09-01</td><td>NULL</td><td>NULL</td><td>active</td><td>NULL</td></tr>",
                            "<tr><td>10000007</td><td>Mike Johnson</td><td>History</td><td>3</td><td>1</td><td>2022-09-01</td><td>NULL</td><td>NULL</td><td>active</td><td>NULL</td></tr>",
                            "<tr><td>10000008</td><td>Linda Sabina</td><td>Biology</td><td>3</td><td>1</td><td>2022-09-01</td><td>NULL</td><td>NULL</td><td>active</td><td>NULL</td></tr>",
                            "<tr><td>10000026</td><td>Violet Becker</td><td>Mathematics</td><td>3</td><td>2</td><td>2021-09-01</td><td>NULL</td><td>NULL</td><td>active</td><td>NULL</td></tr>",
                            "<tr><td>10000027</td><td>Octavius Holland</td><td>Informatics</td><td>3</td><td>2</td><td>2021-09-01</td><td>NULL</td><td>NULL</td><td>active</td><td>NULL</td></tr>",
                            "<tr><td>10000028</td><td>Zeph Simon</td><td>Economics</td><td>3</td><td>2</td><td>2021-09-01</td><td>NULL</td><td>NULL</td><td>active</td><td>NULL</td></tr>",
                            "<tr><td>10000029</td><td>Adena Vega</td><td>Pharmacy</td><td>5</td><td>2</td><td>2021-09-01</td><td>NULL</td><td>NULL</td><td>expelled</td><td>NULL</td></tr>",
                            "<tr><td>10000030</td><td>Gabriel Jenkins</td><td>Education</td><td>3</td><td>2</td><td>2021-09-01</td><td>NULL</td><td>NULL</td><td>active</td><td>NULL</td></tr>",
                            "<tr><td>10000031</td><td>Ciaran Vance</td><td>Physical Education</td><td>3</td><td>2</td><td>2021-09-01</td><td>NULL</td><td>NULL</td><td>active</td><td>NULL</td></tr>",
                            "<tr><td>10000032</td><td>Hayley Bradford</td><td>Sport</td><td>3</td><td>2</td><td>2021-09-01</td><td>NULL</td><td>NULL</td><td>active</td><td>NULL</td></tr>",
                            "<tr><td>10000033</td><td>Galvin Hebert</td><td>Psychology</td><td>3</td><td>2</td><td>2021-09-01</td><td>NULL</td><td>NULL</td><td>active</td><td>NULL</td></tr>",
                            "<tr><td>10000034</td><td>Damon Dillard</td><td>Business Administration</td><td>3</td><td>2</td><td>2021-09-01</td><td>NULL</td><td>NULL</td><td>active</td><td>NULL</td></tr>",
                            "<tr><td>10000035</td><td>Charity Owens</td><td>Medicine</td><td>6</td><td>3</td><td>2020-09-01</td><td>NULL</td><td>NULL</td><td>active</td><td>NULL</td></tr>",
                            "<tr><td>10000036</td><td>Luke Reyes</td><td>Law</td><td>5</td><td>3</td><td>2020-09-01</td><td>NULL</td><td>NULL</td><td>active</td><td>NULL</td></tr>",
                            "<tr><td>10000037</td><td>Oliver Baird</td><td>History</td><td>3</td><td>3</td><td>2020-09-01</td><td>NULL</td><td>NULL</td><td>active</td><td>NULL</td></tr>",
                            "<tr><td>10000038</td><td>Bryar Gutierrez</td><td>Biology</td><td>3</td><td>3</td><td>2020-09-01</td><td>NULL</td><td>NULL</td><td>active</td><td>NULL</td></tr>",
                            "<tr><td>10000039</td><td>Beau Conner</td><td>Chemistry</td><td>3</td><td>3</td><td>2020-09-01</td><td>NULL</td><td>NULL</td><td>active</td><td>NULL</td></tr>",
                            "<tr><td>10000040</td><td>Dexter Ferguson</td><td>Physics</td><td>3</td><td>3</td><td>2020-09-01</td><td>NULL</td><td>NULL</td><td>suspended</td><td>NULL</td></tr>",
                            "<tr><td>10000041</td><td>Cooper Wilkerson</td><td>Mathematics</td><td>3</td><td>3</td><td>2020-09-01</td><td>NULL</td><td>NULL</td><td>active</td><td>NULL</td></tr>",
                            "<tr><td>10000042</td><td>Melinda Camacho</td><td>Informatics</td><td>3</td><td>3</td><td>2020-09-01</td><td>NULL</td><td>NULL</td><td>active</td><td>NULL</td></tr>",
                            "<tr><td>10000043</td><td>Molly Lancaster</td><td>Economics</td><td>3</td><td>3</td><td>2020-09-01</td><td>NULL</td><td>NULL</td><td>active</td><td>NULL</td></tr>",
                            "<tr><td>10000044</td><td>Stone Webster</td><td>Pharmacy</td><td>5</td><td>3</td><td>2020-09-01</td><td>NULL</td><td>NULL</td><td>active</td><td>NULL</td></tr>",
                            "<tr><td>10000045</td><td>Hedy Gallegos</td><td>Education</td><td>3</td><td>3</td><td>2020-09-01</td><td>NULL</td><td>NULL</td><td>active</td><td>NULL</td></tr>",
                            "<tr><td>10000046</td><td>Fletcher Holmes</td><td>Physical Education</td><td>3</td><td>3</td><td>2020-09-01</td><td>NULL</td><td>NULL</td><td>active</td><td>NULL</td></tr>",
                            "<tr><td>10000047</td><td>Summer Shepherd</td><td>Sport</td><td>3</td><td>3</td><td>2020-09-01</td><td>NULL</td><td>NULL</td><td>expelled</td><td>NULL</td></tr>",
                            "<tr><td>10000048</td><td>Piper Winters</td><td>Psychology</td><td>3</td><td>3</td><td>2020-09-01</td><td>NULL</td><td>NULL</td><td>active</td><td>NULL</td></tr>",
                            "<tr><td>10000049</td><td>Sebastian Mcdonald</td><td>Business Administration</td><td>3</td><td>3</td><td>2020-09-01</td><td>NULL</td><td>NULL</td><td>active</td><td>NULL</td></tr>",
                            "<tr><td>10000050</td><td>Kaye Salas</td><td>Medicine</td><td>6</td><td>4</td><td>2019-09-01</td><td>NULL</td><td>NULL</td><td>active</td><td>NULL</td></tr>",
                            "<tr><td>10000051</td><td>Callie Christian</td><td>Law</td><td>5</td><td>4</td><td>2019-09-01</td><td>NULL</td><td>NULL</td><td>active</td><td>NULL</td></tr>",
                            "<tr><td>10000052</td><td>Janna Swanson</td><td>History</td><td>3</td><td>3</td><td>2020-09-01</td><td>NULL</td><td>NULL</td><td>active</td><td>NULL</td></tr>",
                            "<tr><td>10000053</td><td>Stephanie Johns</td><td>Biology</td><td>3</td><td>3</td><td>2020-09-01</td><td>NULL</td><td>NULL</td><td>active</td><td>NULL</td></tr>",
                            "<tr><td>10000054</td><td>Barrett Foreman</td><td>Chemistry</td><td>3</td><td>3</td><td>2020-09-01</td><td>NULL</td><td>NULL</td><td>active</td><td>NULL</td></tr>",
                            "<tr><td>10000055</td><td>Lev Myers</td><td>Physics</td><td>3</td><td>3</td><td>2020-09-01</td><td>NULL</td><td>NULL</td><td>active</td><td>NULL</td></tr>",
                            "<tr><td>10000056</td><td>Camden Olson</td><td>Mathematics</td><td>3</td><td>3</td><td>2020-09-01</td><td>NULL</td><td>NULL</td><td>active</td><td>NULL</td></tr>",
                            "<tr><td>10000057</td><td>Fritz Oneal</td><td>Informatics</td><td>3</td><td>3</td><td>2020-09-01</td><td>NULL</td><td>NULL</td><td>active</td><td>NULL</td></tr>",
                            "<tr><td>10000060</td><td>Martin Corovcak</td><td>Medicine</td><td>6</td><td>1</td><td>2022-09-01</td><td>NULL</td><td>NULL</td><td>active</td><td>NULL</td></tr>",
                            "</table>"
                        ]
                    }
                }
            ],
            "execution_count": 28
        },
        {
            "cell_type": "code",
            "source": [
                "SELECT * FROM vw_Student_Enrollment_Details;"
            ],
            "metadata": {
                "azdata_cell_guid": "cae94511-a5ee-446a-9cb9-794c665ea216",
                "language": "sql"
            },
            "outputs": [
                {
                    "output_type": "display_data",
                    "data": {
                        "text/html": "(111 rows affected)"
                    },
                    "metadata": {}
                },
                {
                    "output_type": "display_data",
                    "data": {
                        "text/html": "Total execution time: 00:00:00.065"
                    },
                    "metadata": {}
                },
                {
                    "output_type": "execute_result",
                    "metadata": {},
                    "execution_count": 29,
                    "data": {
                        "application/vnd.dataresource+json": {
                            "schema": {
                                "fields": [
                                    {
                                        "name": "student_id"
                                    },
                                    {
                                        "name": "student_name"
                                    },
                                    {
                                        "name": "course_name"
                                    },
                                    {
                                        "name": "enrollment_date"
                                    },
                                    {
                                        "name": "grade"
                                    }
                                ]
                            },
                            "data": [
                                {
                                    "student_id": "10000003",
                                    "student_name": "Robert Jones",
                                    "course_name": "Introduction to Programming",
                                    "enrollment_date": "2022-09-01",
                                    "grade": "1"
                                },
                                {
                                    "student_id": "10000003",
                                    "student_name": "Robert Jones",
                                    "course_name": "Introduction to Databases",
                                    "enrollment_date": "2022-09-01",
                                    "grade": "3"
                                },
                                {
                                    "student_id": "10000003",
                                    "student_name": "Robert Jones",
                                    "course_name": "Introduction to Web",
                                    "enrollment_date": "2022-09-01",
                                    "grade": "NULL"
                                },
                                {
                                    "student_id": "10000003",
                                    "student_name": "Robert Jones",
                                    "course_name": "Introduction to Mobile",
                                    "enrollment_date": "2022-09-01",
                                    "grade": "NULL"
                                },
                                {
                                    "student_id": "10000003",
                                    "student_name": "Robert Jones",
                                    "course_name": "Molecular Biology",
                                    "enrollment_date": "2022-09-01",
                                    "grade": "NULL"
                                },
                                {
                                    "student_id": "10000003",
                                    "student_name": "Robert Jones",
                                    "course_name": "Genetics",
                                    "enrollment_date": "2022-09-01",
                                    "grade": "NULL"
                                },
                                {
                                    "student_id": "10000003",
                                    "student_name": "Robert Jones",
                                    "course_name": "Biochemistry",
                                    "enrollment_date": "2022-09-01",
                                    "grade": "NULL"
                                },
                                {
                                    "student_id": "10000003",
                                    "student_name": "Robert Jones",
                                    "course_name": "Microbiology",
                                    "enrollment_date": "2022-09-01",
                                    "grade": "NULL"
                                },
                                {
                                    "student_id": "10000003",
                                    "student_name": "Robert Jones",
                                    "course_name": "Introduction to Law",
                                    "enrollment_date": "2022-09-01",
                                    "grade": "NULL"
                                },
                                {
                                    "student_id": "10000003",
                                    "student_name": "Robert Jones",
                                    "course_name": "Introduction to Economics",
                                    "enrollment_date": "2022-09-01",
                                    "grade": "NULL"
                                },
                                {
                                    "student_id": "10000003",
                                    "student_name": "Robert Jones",
                                    "course_name": "Introduction to Management",
                                    "enrollment_date": "2022-09-01",
                                    "grade": "NULL"
                                },
                                {
                                    "student_id": "10000003",
                                    "student_name": "Robert Jones",
                                    "course_name": "Introduction to Marketing",
                                    "enrollment_date": "2022-09-01",
                                    "grade": "NULL"
                                },
                                {
                                    "student_id": "10000003",
                                    "student_name": "Robert Jones",
                                    "course_name": "Introduction to Psychology",
                                    "enrollment_date": "2022-09-01",
                                    "grade": "NULL"
                                },
                                {
                                    "student_id": "10000003",
                                    "student_name": "Robert Jones",
                                    "course_name": "Introduction to Sociology",
                                    "enrollment_date": "2022-09-01",
                                    "grade": "NULL"
                                },
                                {
                                    "student_id": "10000003",
                                    "student_name": "Robert Jones",
                                    "course_name": "Introduction to Philosophy",
                                    "enrollment_date": "2022-09-01",
                                    "grade": "NULL"
                                },
                                {
                                    "student_id": "10000004",
                                    "student_name": "Laura Smith",
                                    "course_name": "Introduction to Programming",
                                    "enrollment_date": "2022-09-01",
                                    "grade": "NULL"
                                },
                                {
                                    "student_id": "10000004",
                                    "student_name": "Laura Smith",
                                    "course_name": "Introduction to Databases",
                                    "enrollment_date": "2022-09-01",
                                    "grade": "NULL"
                                },
                                {
                                    "student_id": "10000004",
                                    "student_name": "Laura Smith",
                                    "course_name": "Introduction to Web",
                                    "enrollment_date": "2022-09-01",
                                    "grade": "NULL"
                                },
                                {
                                    "student_id": "10000004",
                                    "student_name": "Laura Smith",
                                    "course_name": "Introduction to Mobile",
                                    "enrollment_date": "2022-09-01",
                                    "grade": "NULL"
                                },
                                {
                                    "student_id": "10000004",
                                    "student_name": "Laura Smith",
                                    "course_name": "Molecular Biology",
                                    "enrollment_date": "2022-09-01",
                                    "grade": "NULL"
                                },
                                {
                                    "student_id": "10000004",
                                    "student_name": "Laura Smith",
                                    "course_name": "Genetics",
                                    "enrollment_date": "2022-09-01",
                                    "grade": "NULL"
                                },
                                {
                                    "student_id": "10000004",
                                    "student_name": "Laura Smith",
                                    "course_name": "Biochemistry",
                                    "enrollment_date": "2022-09-01",
                                    "grade": "NULL"
                                },
                                {
                                    "student_id": "10000004",
                                    "student_name": "Laura Smith",
                                    "course_name": "Microbiology",
                                    "enrollment_date": "2022-09-01",
                                    "grade": "NULL"
                                },
                                {
                                    "student_id": "10000004",
                                    "student_name": "Laura Smith",
                                    "course_name": "Introduction to Law",
                                    "enrollment_date": "2022-09-01",
                                    "grade": "NULL"
                                },
                                {
                                    "student_id": "10000004",
                                    "student_name": "Laura Smith",
                                    "course_name": "Introduction to Economics",
                                    "enrollment_date": "2022-09-01",
                                    "grade": "NULL"
                                },
                                {
                                    "student_id": "10000004",
                                    "student_name": "Laura Smith",
                                    "course_name": "Introduction to Management",
                                    "enrollment_date": "2022-09-01",
                                    "grade": "NULL"
                                },
                                {
                                    "student_id": "10000004",
                                    "student_name": "Laura Smith",
                                    "course_name": "Introduction to Marketing",
                                    "enrollment_date": "2022-09-01",
                                    "grade": "NULL"
                                },
                                {
                                    "student_id": "10000004",
                                    "student_name": "Laura Smith",
                                    "course_name": "Introduction to Psychology",
                                    "enrollment_date": "2022-09-01",
                                    "grade": "NULL"
                                },
                                {
                                    "student_id": "10000004",
                                    "student_name": "Laura Smith",
                                    "course_name": "Introduction to Sociology",
                                    "enrollment_date": "2022-09-01",
                                    "grade": "NULL"
                                },
                                {
                                    "student_id": "10000004",
                                    "student_name": "Laura Smith",
                                    "course_name": "Introduction to Philosophy",
                                    "enrollment_date": "2022-09-01",
                                    "grade": "NULL"
                                },
                                {
                                    "student_id": "10000007",
                                    "student_name": "Mike Johnson",
                                    "course_name": "Introduction to Programming",
                                    "enrollment_date": "2022-09-01",
                                    "grade": "NULL"
                                },
                                {
                                    "student_id": "10000007",
                                    "student_name": "Mike Johnson",
                                    "course_name": "Introduction to Databases",
                                    "enrollment_date": "2022-09-01",
                                    "grade": "NULL"
                                },
                                {
                                    "student_id": "10000007",
                                    "student_name": "Mike Johnson",
                                    "course_name": "Introduction to Web",
                                    "enrollment_date": "2022-09-01",
                                    "grade": "NULL"
                                },
                                {
                                    "student_id": "10000007",
                                    "student_name": "Mike Johnson",
                                    "course_name": "Introduction to Mobile",
                                    "enrollment_date": "2022-09-01",
                                    "grade": "NULL"
                                },
                                {
                                    "student_id": "10000007",
                                    "student_name": "Mike Johnson",
                                    "course_name": "Molecular Biology",
                                    "enrollment_date": "2022-09-01",
                                    "grade": "NULL"
                                },
                                {
                                    "student_id": "10000007",
                                    "student_name": "Mike Johnson",
                                    "course_name": "Genetics",
                                    "enrollment_date": "2022-09-01",
                                    "grade": "NULL"
                                },
                                {
                                    "student_id": "10000007",
                                    "student_name": "Mike Johnson",
                                    "course_name": "Biochemistry",
                                    "enrollment_date": "2022-09-01",
                                    "grade": "NULL"
                                },
                                {
                                    "student_id": "10000007",
                                    "student_name": "Mike Johnson",
                                    "course_name": "Microbiology",
                                    "enrollment_date": "2022-09-01",
                                    "grade": "NULL"
                                },
                                {
                                    "student_id": "10000007",
                                    "student_name": "Mike Johnson",
                                    "course_name": "Introduction to Law",
                                    "enrollment_date": "2022-09-01",
                                    "grade": "NULL"
                                },
                                {
                                    "student_id": "10000007",
                                    "student_name": "Mike Johnson",
                                    "course_name": "Introduction to Economics",
                                    "enrollment_date": "2022-09-01",
                                    "grade": "NULL"
                                },
                                {
                                    "student_id": "10000007",
                                    "student_name": "Mike Johnson",
                                    "course_name": "Introduction to Management",
                                    "enrollment_date": "2022-09-01",
                                    "grade": "NULL"
                                },
                                {
                                    "student_id": "10000007",
                                    "student_name": "Mike Johnson",
                                    "course_name": "Introduction to Marketing",
                                    "enrollment_date": "2022-09-01",
                                    "grade": "NULL"
                                },
                                {
                                    "student_id": "10000007",
                                    "student_name": "Mike Johnson",
                                    "course_name": "Introduction to Psychology",
                                    "enrollment_date": "2022-09-01",
                                    "grade": "NULL"
                                },
                                {
                                    "student_id": "10000007",
                                    "student_name": "Mike Johnson",
                                    "course_name": "Introduction to Sociology",
                                    "enrollment_date": "2022-09-01",
                                    "grade": "NULL"
                                },
                                {
                                    "student_id": "10000007",
                                    "student_name": "Mike Johnson",
                                    "course_name": "Introduction to Philosophy",
                                    "enrollment_date": "2022-09-01",
                                    "grade": "NULL"
                                },
                                {
                                    "student_id": "10000008",
                                    "student_name": "Linda Sabina",
                                    "course_name": "Introduction to Programming",
                                    "enrollment_date": "2022-09-01",
                                    "grade": "NULL"
                                },
                                {
                                    "student_id": "10000008",
                                    "student_name": "Linda Sabina",
                                    "course_name": "Introduction to Databases",
                                    "enrollment_date": "2022-09-01",
                                    "grade": "NULL"
                                },
                                {
                                    "student_id": "10000008",
                                    "student_name": "Linda Sabina",
                                    "course_name": "Introduction to Web",
                                    "enrollment_date": "2022-09-01",
                                    "grade": "NULL"
                                },
                                {
                                    "student_id": "10000008",
                                    "student_name": "Linda Sabina",
                                    "course_name": "Introduction to Mobile",
                                    "enrollment_date": "2022-09-01",
                                    "grade": "NULL"
                                },
                                {
                                    "student_id": "10000008",
                                    "student_name": "Linda Sabina",
                                    "course_name": "Molecular Biology",
                                    "enrollment_date": "2022-09-01",
                                    "grade": "NULL"
                                },
                                {
                                    "student_id": "10000008",
                                    "student_name": "Linda Sabina",
                                    "course_name": "Genetics",
                                    "enrollment_date": "2022-09-01",
                                    "grade": "NULL"
                                },
                                {
                                    "student_id": "10000008",
                                    "student_name": "Linda Sabina",
                                    "course_name": "Biochemistry",
                                    "enrollment_date": "2022-09-01",
                                    "grade": "NULL"
                                },
                                {
                                    "student_id": "10000008",
                                    "student_name": "Linda Sabina",
                                    "course_name": "Microbiology",
                                    "enrollment_date": "2022-09-01",
                                    "grade": "NULL"
                                },
                                {
                                    "student_id": "10000008",
                                    "student_name": "Linda Sabina",
                                    "course_name": "Introduction to Law",
                                    "enrollment_date": "2022-09-01",
                                    "grade": "NULL"
                                },
                                {
                                    "student_id": "10000008",
                                    "student_name": "Linda Sabina",
                                    "course_name": "Introduction to Economics",
                                    "enrollment_date": "2022-09-01",
                                    "grade": "NULL"
                                },
                                {
                                    "student_id": "10000008",
                                    "student_name": "Linda Sabina",
                                    "course_name": "Introduction to Management",
                                    "enrollment_date": "2022-09-01",
                                    "grade": "NULL"
                                },
                                {
                                    "student_id": "10000008",
                                    "student_name": "Linda Sabina",
                                    "course_name": "Introduction to Marketing",
                                    "enrollment_date": "2022-09-01",
                                    "grade": "NULL"
                                },
                                {
                                    "student_id": "10000008",
                                    "student_name": "Linda Sabina",
                                    "course_name": "Introduction to Psychology",
                                    "enrollment_date": "2022-09-01",
                                    "grade": "NULL"
                                },
                                {
                                    "student_id": "10000008",
                                    "student_name": "Linda Sabina",
                                    "course_name": "Introduction to Sociology",
                                    "enrollment_date": "2022-09-01",
                                    "grade": "NULL"
                                },
                                {
                                    "student_id": "10000008",
                                    "student_name": "Linda Sabina",
                                    "course_name": "Introduction to Philosophy",
                                    "enrollment_date": "2022-09-01",
                                    "grade": "NULL"
                                },
                                {
                                    "student_id": "10000026",
                                    "student_name": "Violet Becker",
                                    "course_name": "Introduction to Programming",
                                    "enrollment_date": "2022-09-01",
                                    "grade": "NULL"
                                },
                                {
                                    "student_id": "10000026",
                                    "student_name": "Violet Becker",
                                    "course_name": "Introduction to Databases",
                                    "enrollment_date": "2022-09-01",
                                    "grade": "NULL"
                                },
                                {
                                    "student_id": "10000026",
                                    "student_name": "Violet Becker",
                                    "course_name": "Introduction to Web",
                                    "enrollment_date": "2022-09-01",
                                    "grade": "NULL"
                                },
                                {
                                    "student_id": "10000026",
                                    "student_name": "Violet Becker",
                                    "course_name": "Introduction to Mobile",
                                    "enrollment_date": "2022-09-01",
                                    "grade": "NULL"
                                },
                                {
                                    "student_id": "10000026",
                                    "student_name": "Violet Becker",
                                    "course_name": "Molecular Biology",
                                    "enrollment_date": "2022-09-01",
                                    "grade": "NULL"
                                },
                                {
                                    "student_id": "10000026",
                                    "student_name": "Violet Becker",
                                    "course_name": "Genetics",
                                    "enrollment_date": "2022-09-01",
                                    "grade": "NULL"
                                },
                                {
                                    "student_id": "10000026",
                                    "student_name": "Violet Becker",
                                    "course_name": "Biochemistry",
                                    "enrollment_date": "2022-09-01",
                                    "grade": "NULL"
                                },
                                {
                                    "student_id": "10000026",
                                    "student_name": "Violet Becker",
                                    "course_name": "Microbiology",
                                    "enrollment_date": "2022-09-01",
                                    "grade": "NULL"
                                },
                                {
                                    "student_id": "10000026",
                                    "student_name": "Violet Becker",
                                    "course_name": "Introduction to Law",
                                    "enrollment_date": "2022-09-01",
                                    "grade": "NULL"
                                },
                                {
                                    "student_id": "10000026",
                                    "student_name": "Violet Becker",
                                    "course_name": "Introduction to Economics",
                                    "enrollment_date": "2022-09-01",
                                    "grade": "NULL"
                                },
                                {
                                    "student_id": "10000026",
                                    "student_name": "Violet Becker",
                                    "course_name": "Introduction to Management",
                                    "enrollment_date": "2022-09-01",
                                    "grade": "NULL"
                                },
                                {
                                    "student_id": "10000026",
                                    "student_name": "Violet Becker",
                                    "course_name": "Introduction to Marketing",
                                    "enrollment_date": "2022-09-01",
                                    "grade": "NULL"
                                },
                                {
                                    "student_id": "10000026",
                                    "student_name": "Violet Becker",
                                    "course_name": "Introduction to Psychology",
                                    "enrollment_date": "2022-09-01",
                                    "grade": "NULL"
                                },
                                {
                                    "student_id": "10000026",
                                    "student_name": "Violet Becker",
                                    "course_name": "Introduction to Sociology",
                                    "enrollment_date": "2022-09-01",
                                    "grade": "NULL"
                                },
                                {
                                    "student_id": "10000026",
                                    "student_name": "Violet Becker",
                                    "course_name": "Introduction to Philosophy",
                                    "enrollment_date": "2022-09-01",
                                    "grade": "NULL"
                                },
                                {
                                    "student_id": "10000027",
                                    "student_name": "Octavius Holland",
                                    "course_name": "Introduction to Programming",
                                    "enrollment_date": "2022-09-01",
                                    "grade": "NULL"
                                },
                                {
                                    "student_id": "10000027",
                                    "student_name": "Octavius Holland",
                                    "course_name": "Introduction to Databases",
                                    "enrollment_date": "2022-09-01",
                                    "grade": "NULL"
                                },
                                {
                                    "student_id": "10000027",
                                    "student_name": "Octavius Holland",
                                    "course_name": "Introduction to Web",
                                    "enrollment_date": "2022-09-01",
                                    "grade": "NULL"
                                },
                                {
                                    "student_id": "10000027",
                                    "student_name": "Octavius Holland",
                                    "course_name": "Introduction to Mobile",
                                    "enrollment_date": "2022-09-01",
                                    "grade": "NULL"
                                },
                                {
                                    "student_id": "10000027",
                                    "student_name": "Octavius Holland",
                                    "course_name": "Molecular Biology",
                                    "enrollment_date": "2022-09-01",
                                    "grade": "NULL"
                                },
                                {
                                    "student_id": "10000027",
                                    "student_name": "Octavius Holland",
                                    "course_name": "Genetics",
                                    "enrollment_date": "2022-09-01",
                                    "grade": "NULL"
                                },
                                {
                                    "student_id": "10000027",
                                    "student_name": "Octavius Holland",
                                    "course_name": "Biochemistry",
                                    "enrollment_date": "2022-09-01",
                                    "grade": "NULL"
                                },
                                {
                                    "student_id": "10000027",
                                    "student_name": "Octavius Holland",
                                    "course_name": "Microbiology",
                                    "enrollment_date": "2022-09-01",
                                    "grade": "NULL"
                                },
                                {
                                    "student_id": "10000027",
                                    "student_name": "Octavius Holland",
                                    "course_name": "Introduction to Law",
                                    "enrollment_date": "2022-09-01",
                                    "grade": "NULL"
                                },
                                {
                                    "student_id": "10000027",
                                    "student_name": "Octavius Holland",
                                    "course_name": "Introduction to Economics",
                                    "enrollment_date": "2022-09-01",
                                    "grade": "NULL"
                                },
                                {
                                    "student_id": "10000027",
                                    "student_name": "Octavius Holland",
                                    "course_name": "Introduction to Management",
                                    "enrollment_date": "2022-09-01",
                                    "grade": "NULL"
                                },
                                {
                                    "student_id": "10000027",
                                    "student_name": "Octavius Holland",
                                    "course_name": "Introduction to Marketing",
                                    "enrollment_date": "2022-09-01",
                                    "grade": "NULL"
                                },
                                {
                                    "student_id": "10000027",
                                    "student_name": "Octavius Holland",
                                    "course_name": "Introduction to Psychology",
                                    "enrollment_date": "2022-09-01",
                                    "grade": "NULL"
                                },
                                {
                                    "student_id": "10000027",
                                    "student_name": "Octavius Holland",
                                    "course_name": "Introduction to Sociology",
                                    "enrollment_date": "2022-09-01",
                                    "grade": "NULL"
                                },
                                {
                                    "student_id": "10000027",
                                    "student_name": "Octavius Holland",
                                    "course_name": "Introduction to Philosophy",
                                    "enrollment_date": "2022-09-01",
                                    "grade": "NULL"
                                },
                                {
                                    "student_id": "10000028",
                                    "student_name": "Zeph Simon",
                                    "course_name": "Introduction to Programming",
                                    "enrollment_date": "2022-09-01",
                                    "grade": "NULL"
                                },
                                {
                                    "student_id": "10000028",
                                    "student_name": "Zeph Simon",
                                    "course_name": "Introduction to Databases",
                                    "enrollment_date": "2022-09-01",
                                    "grade": "NULL"
                                },
                                {
                                    "student_id": "10000028",
                                    "student_name": "Zeph Simon",
                                    "course_name": "Introduction to Web",
                                    "enrollment_date": "2022-09-01",
                                    "grade": "NULL"
                                },
                                {
                                    "student_id": "10000028",
                                    "student_name": "Zeph Simon",
                                    "course_name": "Introduction to Mobile",
                                    "enrollment_date": "2022-09-01",
                                    "grade": "NULL"
                                },
                                {
                                    "student_id": "10000028",
                                    "student_name": "Zeph Simon",
                                    "course_name": "Molecular Biology",
                                    "enrollment_date": "2022-09-01",
                                    "grade": "NULL"
                                },
                                {
                                    "student_id": "10000028",
                                    "student_name": "Zeph Simon",
                                    "course_name": "Genetics",
                                    "enrollment_date": "2022-09-01",
                                    "grade": "NULL"
                                },
                                {
                                    "student_id": "10000028",
                                    "student_name": "Zeph Simon",
                                    "course_name": "Biochemistry",
                                    "enrollment_date": "2022-09-01",
                                    "grade": "NULL"
                                },
                                {
                                    "student_id": "10000028",
                                    "student_name": "Zeph Simon",
                                    "course_name": "Microbiology",
                                    "enrollment_date": "2022-09-01",
                                    "grade": "NULL"
                                },
                                {
                                    "student_id": "10000028",
                                    "student_name": "Zeph Simon",
                                    "course_name": "Introduction to Law",
                                    "enrollment_date": "2022-09-01",
                                    "grade": "NULL"
                                },
                                {
                                    "student_id": "10000028",
                                    "student_name": "Zeph Simon",
                                    "course_name": "Introduction to Economics",
                                    "enrollment_date": "2022-09-01",
                                    "grade": "NULL"
                                },
                                {
                                    "student_id": "10000028",
                                    "student_name": "Zeph Simon",
                                    "course_name": "Introduction to Management",
                                    "enrollment_date": "2022-09-01",
                                    "grade": "NULL"
                                },
                                {
                                    "student_id": "10000028",
                                    "student_name": "Zeph Simon",
                                    "course_name": "Introduction to Marketing",
                                    "enrollment_date": "2022-09-01",
                                    "grade": "NULL"
                                },
                                {
                                    "student_id": "10000028",
                                    "student_name": "Zeph Simon",
                                    "course_name": "Introduction to Psychology",
                                    "enrollment_date": "2022-09-01",
                                    "grade": "NULL"
                                },
                                {
                                    "student_id": "10000028",
                                    "student_name": "Zeph Simon",
                                    "course_name": "Introduction to Sociology",
                                    "enrollment_date": "2022-09-01",
                                    "grade": "NULL"
                                },
                                {
                                    "student_id": "10000028",
                                    "student_name": "Zeph Simon",
                                    "course_name": "Introduction to Philosophy",
                                    "enrollment_date": "2022-09-01",
                                    "grade": "NULL"
                                },
                                {
                                    "student_id": "10000029",
                                    "student_name": "Adena Vega",
                                    "course_name": "Introduction to Programming",
                                    "enrollment_date": "2022-09-01",
                                    "grade": "NULL"
                                },
                                {
                                    "student_id": "10000029",
                                    "student_name": "Adena Vega",
                                    "course_name": "Introduction to Databases",
                                    "enrollment_date": "2022-09-01",
                                    "grade": "NULL"
                                },
                                {
                                    "student_id": "10000029",
                                    "student_name": "Adena Vega",
                                    "course_name": "Introduction to Web",
                                    "enrollment_date": "2022-09-01",
                                    "grade": "NULL"
                                },
                                {
                                    "student_id": "10000029",
                                    "student_name": "Adena Vega",
                                    "course_name": "Introduction to Mobile",
                                    "enrollment_date": "2022-09-01",
                                    "grade": "NULL"
                                },
                                {
                                    "student_id": "10000029",
                                    "student_name": "Adena Vega",
                                    "course_name": "Molecular Biology",
                                    "enrollment_date": "2022-09-01",
                                    "grade": "NULL"
                                },
                                {
                                    "student_id": "10000030",
                                    "student_name": "Gabriel Jenkins",
                                    "course_name": "Introduction to Programming",
                                    "enrollment_date": "2022-09-01",
                                    "grade": "NULL"
                                }
                            ]
                        },
                        "text/html": [
                            "<table>",
                            "<tr><th>student_id</th><th>student_name</th><th>course_name</th><th>enrollment_date</th><th>grade</th></tr>",
                            "<tr><td>10000003</td><td>Robert Jones</td><td>Introduction to Programming</td><td>2022-09-01</td><td>1</td></tr>",
                            "<tr><td>10000003</td><td>Robert Jones</td><td>Introduction to Databases</td><td>2022-09-01</td><td>3</td></tr>",
                            "<tr><td>10000003</td><td>Robert Jones</td><td>Introduction to Web</td><td>2022-09-01</td><td>NULL</td></tr>",
                            "<tr><td>10000003</td><td>Robert Jones</td><td>Introduction to Mobile</td><td>2022-09-01</td><td>NULL</td></tr>",
                            "<tr><td>10000003</td><td>Robert Jones</td><td>Molecular Biology</td><td>2022-09-01</td><td>NULL</td></tr>",
                            "<tr><td>10000003</td><td>Robert Jones</td><td>Genetics</td><td>2022-09-01</td><td>NULL</td></tr>",
                            "<tr><td>10000003</td><td>Robert Jones</td><td>Biochemistry</td><td>2022-09-01</td><td>NULL</td></tr>",
                            "<tr><td>10000003</td><td>Robert Jones</td><td>Microbiology</td><td>2022-09-01</td><td>NULL</td></tr>",
                            "<tr><td>10000003</td><td>Robert Jones</td><td>Introduction to Law</td><td>2022-09-01</td><td>NULL</td></tr>",
                            "<tr><td>10000003</td><td>Robert Jones</td><td>Introduction to Economics</td><td>2022-09-01</td><td>NULL</td></tr>",
                            "<tr><td>10000003</td><td>Robert Jones</td><td>Introduction to Management</td><td>2022-09-01</td><td>NULL</td></tr>",
                            "<tr><td>10000003</td><td>Robert Jones</td><td>Introduction to Marketing</td><td>2022-09-01</td><td>NULL</td></tr>",
                            "<tr><td>10000003</td><td>Robert Jones</td><td>Introduction to Psychology</td><td>2022-09-01</td><td>NULL</td></tr>",
                            "<tr><td>10000003</td><td>Robert Jones</td><td>Introduction to Sociology</td><td>2022-09-01</td><td>NULL</td></tr>",
                            "<tr><td>10000003</td><td>Robert Jones</td><td>Introduction to Philosophy</td><td>2022-09-01</td><td>NULL</td></tr>",
                            "<tr><td>10000004</td><td>Laura Smith</td><td>Introduction to Programming</td><td>2022-09-01</td><td>NULL</td></tr>",
                            "<tr><td>10000004</td><td>Laura Smith</td><td>Introduction to Databases</td><td>2022-09-01</td><td>NULL</td></tr>",
                            "<tr><td>10000004</td><td>Laura Smith</td><td>Introduction to Web</td><td>2022-09-01</td><td>NULL</td></tr>",
                            "<tr><td>10000004</td><td>Laura Smith</td><td>Introduction to Mobile</td><td>2022-09-01</td><td>NULL</td></tr>",
                            "<tr><td>10000004</td><td>Laura Smith</td><td>Molecular Biology</td><td>2022-09-01</td><td>NULL</td></tr>",
                            "<tr><td>10000004</td><td>Laura Smith</td><td>Genetics</td><td>2022-09-01</td><td>NULL</td></tr>",
                            "<tr><td>10000004</td><td>Laura Smith</td><td>Biochemistry</td><td>2022-09-01</td><td>NULL</td></tr>",
                            "<tr><td>10000004</td><td>Laura Smith</td><td>Microbiology</td><td>2022-09-01</td><td>NULL</td></tr>",
                            "<tr><td>10000004</td><td>Laura Smith</td><td>Introduction to Law</td><td>2022-09-01</td><td>NULL</td></tr>",
                            "<tr><td>10000004</td><td>Laura Smith</td><td>Introduction to Economics</td><td>2022-09-01</td><td>NULL</td></tr>",
                            "<tr><td>10000004</td><td>Laura Smith</td><td>Introduction to Management</td><td>2022-09-01</td><td>NULL</td></tr>",
                            "<tr><td>10000004</td><td>Laura Smith</td><td>Introduction to Marketing</td><td>2022-09-01</td><td>NULL</td></tr>",
                            "<tr><td>10000004</td><td>Laura Smith</td><td>Introduction to Psychology</td><td>2022-09-01</td><td>NULL</td></tr>",
                            "<tr><td>10000004</td><td>Laura Smith</td><td>Introduction to Sociology</td><td>2022-09-01</td><td>NULL</td></tr>",
                            "<tr><td>10000004</td><td>Laura Smith</td><td>Introduction to Philosophy</td><td>2022-09-01</td><td>NULL</td></tr>",
                            "<tr><td>10000007</td><td>Mike Johnson</td><td>Introduction to Programming</td><td>2022-09-01</td><td>NULL</td></tr>",
                            "<tr><td>10000007</td><td>Mike Johnson</td><td>Introduction to Databases</td><td>2022-09-01</td><td>NULL</td></tr>",
                            "<tr><td>10000007</td><td>Mike Johnson</td><td>Introduction to Web</td><td>2022-09-01</td><td>NULL</td></tr>",
                            "<tr><td>10000007</td><td>Mike Johnson</td><td>Introduction to Mobile</td><td>2022-09-01</td><td>NULL</td></tr>",
                            "<tr><td>10000007</td><td>Mike Johnson</td><td>Molecular Biology</td><td>2022-09-01</td><td>NULL</td></tr>",
                            "<tr><td>10000007</td><td>Mike Johnson</td><td>Genetics</td><td>2022-09-01</td><td>NULL</td></tr>",
                            "<tr><td>10000007</td><td>Mike Johnson</td><td>Biochemistry</td><td>2022-09-01</td><td>NULL</td></tr>",
                            "<tr><td>10000007</td><td>Mike Johnson</td><td>Microbiology</td><td>2022-09-01</td><td>NULL</td></tr>",
                            "<tr><td>10000007</td><td>Mike Johnson</td><td>Introduction to Law</td><td>2022-09-01</td><td>NULL</td></tr>",
                            "<tr><td>10000007</td><td>Mike Johnson</td><td>Introduction to Economics</td><td>2022-09-01</td><td>NULL</td></tr>",
                            "<tr><td>10000007</td><td>Mike Johnson</td><td>Introduction to Management</td><td>2022-09-01</td><td>NULL</td></tr>",
                            "<tr><td>10000007</td><td>Mike Johnson</td><td>Introduction to Marketing</td><td>2022-09-01</td><td>NULL</td></tr>",
                            "<tr><td>10000007</td><td>Mike Johnson</td><td>Introduction to Psychology</td><td>2022-09-01</td><td>NULL</td></tr>",
                            "<tr><td>10000007</td><td>Mike Johnson</td><td>Introduction to Sociology</td><td>2022-09-01</td><td>NULL</td></tr>",
                            "<tr><td>10000007</td><td>Mike Johnson</td><td>Introduction to Philosophy</td><td>2022-09-01</td><td>NULL</td></tr>",
                            "<tr><td>10000008</td><td>Linda Sabina</td><td>Introduction to Programming</td><td>2022-09-01</td><td>NULL</td></tr>",
                            "<tr><td>10000008</td><td>Linda Sabina</td><td>Introduction to Databases</td><td>2022-09-01</td><td>NULL</td></tr>",
                            "<tr><td>10000008</td><td>Linda Sabina</td><td>Introduction to Web</td><td>2022-09-01</td><td>NULL</td></tr>",
                            "<tr><td>10000008</td><td>Linda Sabina</td><td>Introduction to Mobile</td><td>2022-09-01</td><td>NULL</td></tr>",
                            "<tr><td>10000008</td><td>Linda Sabina</td><td>Molecular Biology</td><td>2022-09-01</td><td>NULL</td></tr>",
                            "<tr><td>10000008</td><td>Linda Sabina</td><td>Genetics</td><td>2022-09-01</td><td>NULL</td></tr>",
                            "<tr><td>10000008</td><td>Linda Sabina</td><td>Biochemistry</td><td>2022-09-01</td><td>NULL</td></tr>",
                            "<tr><td>10000008</td><td>Linda Sabina</td><td>Microbiology</td><td>2022-09-01</td><td>NULL</td></tr>",
                            "<tr><td>10000008</td><td>Linda Sabina</td><td>Introduction to Law</td><td>2022-09-01</td><td>NULL</td></tr>",
                            "<tr><td>10000008</td><td>Linda Sabina</td><td>Introduction to Economics</td><td>2022-09-01</td><td>NULL</td></tr>",
                            "<tr><td>10000008</td><td>Linda Sabina</td><td>Introduction to Management</td><td>2022-09-01</td><td>NULL</td></tr>",
                            "<tr><td>10000008</td><td>Linda Sabina</td><td>Introduction to Marketing</td><td>2022-09-01</td><td>NULL</td></tr>",
                            "<tr><td>10000008</td><td>Linda Sabina</td><td>Introduction to Psychology</td><td>2022-09-01</td><td>NULL</td></tr>",
                            "<tr><td>10000008</td><td>Linda Sabina</td><td>Introduction to Sociology</td><td>2022-09-01</td><td>NULL</td></tr>",
                            "<tr><td>10000008</td><td>Linda Sabina</td><td>Introduction to Philosophy</td><td>2022-09-01</td><td>NULL</td></tr>",
                            "<tr><td>10000026</td><td>Violet Becker</td><td>Introduction to Programming</td><td>2022-09-01</td><td>NULL</td></tr>",
                            "<tr><td>10000026</td><td>Violet Becker</td><td>Introduction to Databases</td><td>2022-09-01</td><td>NULL</td></tr>",
                            "<tr><td>10000026</td><td>Violet Becker</td><td>Introduction to Web</td><td>2022-09-01</td><td>NULL</td></tr>",
                            "<tr><td>10000026</td><td>Violet Becker</td><td>Introduction to Mobile</td><td>2022-09-01</td><td>NULL</td></tr>",
                            "<tr><td>10000026</td><td>Violet Becker</td><td>Molecular Biology</td><td>2022-09-01</td><td>NULL</td></tr>",
                            "<tr><td>10000026</td><td>Violet Becker</td><td>Genetics</td><td>2022-09-01</td><td>NULL</td></tr>",
                            "<tr><td>10000026</td><td>Violet Becker</td><td>Biochemistry</td><td>2022-09-01</td><td>NULL</td></tr>",
                            "<tr><td>10000026</td><td>Violet Becker</td><td>Microbiology</td><td>2022-09-01</td><td>NULL</td></tr>",
                            "<tr><td>10000026</td><td>Violet Becker</td><td>Introduction to Law</td><td>2022-09-01</td><td>NULL</td></tr>",
                            "<tr><td>10000026</td><td>Violet Becker</td><td>Introduction to Economics</td><td>2022-09-01</td><td>NULL</td></tr>",
                            "<tr><td>10000026</td><td>Violet Becker</td><td>Introduction to Management</td><td>2022-09-01</td><td>NULL</td></tr>",
                            "<tr><td>10000026</td><td>Violet Becker</td><td>Introduction to Marketing</td><td>2022-09-01</td><td>NULL</td></tr>",
                            "<tr><td>10000026</td><td>Violet Becker</td><td>Introduction to Psychology</td><td>2022-09-01</td><td>NULL</td></tr>",
                            "<tr><td>10000026</td><td>Violet Becker</td><td>Introduction to Sociology</td><td>2022-09-01</td><td>NULL</td></tr>",
                            "<tr><td>10000026</td><td>Violet Becker</td><td>Introduction to Philosophy</td><td>2022-09-01</td><td>NULL</td></tr>",
                            "<tr><td>10000027</td><td>Octavius Holland</td><td>Introduction to Programming</td><td>2022-09-01</td><td>NULL</td></tr>",
                            "<tr><td>10000027</td><td>Octavius Holland</td><td>Introduction to Databases</td><td>2022-09-01</td><td>NULL</td></tr>",
                            "<tr><td>10000027</td><td>Octavius Holland</td><td>Introduction to Web</td><td>2022-09-01</td><td>NULL</td></tr>",
                            "<tr><td>10000027</td><td>Octavius Holland</td><td>Introduction to Mobile</td><td>2022-09-01</td><td>NULL</td></tr>",
                            "<tr><td>10000027</td><td>Octavius Holland</td><td>Molecular Biology</td><td>2022-09-01</td><td>NULL</td></tr>",
                            "<tr><td>10000027</td><td>Octavius Holland</td><td>Genetics</td><td>2022-09-01</td><td>NULL</td></tr>",
                            "<tr><td>10000027</td><td>Octavius Holland</td><td>Biochemistry</td><td>2022-09-01</td><td>NULL</td></tr>",
                            "<tr><td>10000027</td><td>Octavius Holland</td><td>Microbiology</td><td>2022-09-01</td><td>NULL</td></tr>",
                            "<tr><td>10000027</td><td>Octavius Holland</td><td>Introduction to Law</td><td>2022-09-01</td><td>NULL</td></tr>",
                            "<tr><td>10000027</td><td>Octavius Holland</td><td>Introduction to Economics</td><td>2022-09-01</td><td>NULL</td></tr>",
                            "<tr><td>10000027</td><td>Octavius Holland</td><td>Introduction to Management</td><td>2022-09-01</td><td>NULL</td></tr>",
                            "<tr><td>10000027</td><td>Octavius Holland</td><td>Introduction to Marketing</td><td>2022-09-01</td><td>NULL</td></tr>",
                            "<tr><td>10000027</td><td>Octavius Holland</td><td>Introduction to Psychology</td><td>2022-09-01</td><td>NULL</td></tr>",
                            "<tr><td>10000027</td><td>Octavius Holland</td><td>Introduction to Sociology</td><td>2022-09-01</td><td>NULL</td></tr>",
                            "<tr><td>10000027</td><td>Octavius Holland</td><td>Introduction to Philosophy</td><td>2022-09-01</td><td>NULL</td></tr>",
                            "<tr><td>10000028</td><td>Zeph Simon</td><td>Introduction to Programming</td><td>2022-09-01</td><td>NULL</td></tr>",
                            "<tr><td>10000028</td><td>Zeph Simon</td><td>Introduction to Databases</td><td>2022-09-01</td><td>NULL</td></tr>",
                            "<tr><td>10000028</td><td>Zeph Simon</td><td>Introduction to Web</td><td>2022-09-01</td><td>NULL</td></tr>",
                            "<tr><td>10000028</td><td>Zeph Simon</td><td>Introduction to Mobile</td><td>2022-09-01</td><td>NULL</td></tr>",
                            "<tr><td>10000028</td><td>Zeph Simon</td><td>Molecular Biology</td><td>2022-09-01</td><td>NULL</td></tr>",
                            "<tr><td>10000028</td><td>Zeph Simon</td><td>Genetics</td><td>2022-09-01</td><td>NULL</td></tr>",
                            "<tr><td>10000028</td><td>Zeph Simon</td><td>Biochemistry</td><td>2022-09-01</td><td>NULL</td></tr>",
                            "<tr><td>10000028</td><td>Zeph Simon</td><td>Microbiology</td><td>2022-09-01</td><td>NULL</td></tr>",
                            "<tr><td>10000028</td><td>Zeph Simon</td><td>Introduction to Law</td><td>2022-09-01</td><td>NULL</td></tr>",
                            "<tr><td>10000028</td><td>Zeph Simon</td><td>Introduction to Economics</td><td>2022-09-01</td><td>NULL</td></tr>",
                            "<tr><td>10000028</td><td>Zeph Simon</td><td>Introduction to Management</td><td>2022-09-01</td><td>NULL</td></tr>",
                            "<tr><td>10000028</td><td>Zeph Simon</td><td>Introduction to Marketing</td><td>2022-09-01</td><td>NULL</td></tr>",
                            "<tr><td>10000028</td><td>Zeph Simon</td><td>Introduction to Psychology</td><td>2022-09-01</td><td>NULL</td></tr>",
                            "<tr><td>10000028</td><td>Zeph Simon</td><td>Introduction to Sociology</td><td>2022-09-01</td><td>NULL</td></tr>",
                            "<tr><td>10000028</td><td>Zeph Simon</td><td>Introduction to Philosophy</td><td>2022-09-01</td><td>NULL</td></tr>",
                            "<tr><td>10000029</td><td>Adena Vega</td><td>Introduction to Programming</td><td>2022-09-01</td><td>NULL</td></tr>",
                            "<tr><td>10000029</td><td>Adena Vega</td><td>Introduction to Databases</td><td>2022-09-01</td><td>NULL</td></tr>",
                            "<tr><td>10000029</td><td>Adena Vega</td><td>Introduction to Web</td><td>2022-09-01</td><td>NULL</td></tr>",
                            "<tr><td>10000029</td><td>Adena Vega</td><td>Introduction to Mobile</td><td>2022-09-01</td><td>NULL</td></tr>",
                            "<tr><td>10000029</td><td>Adena Vega</td><td>Molecular Biology</td><td>2022-09-01</td><td>NULL</td></tr>",
                            "<tr><td>10000030</td><td>Gabriel Jenkins</td><td>Introduction to Programming</td><td>2022-09-01</td><td>NULL</td></tr>",
                            "</table>"
                        ]
                    }
                }
            ],
            "execution_count": 29
        },
        {
            "cell_type": "code",
            "source": [
                "SELECT * FROM vw_Teacher_Courses_Details;"
            ],
            "metadata": {
                "azdata_cell_guid": "9f6db213-dabd-4f13-b25c-c5548374f8f0",
                "language": "sql"
            },
            "outputs": [
                {
                    "output_type": "display_data",
                    "data": {
                        "text/html": "Warning: Null value is eliminated by an aggregate or other SET operation."
                    },
                    "metadata": {}
                },
                {
                    "output_type": "display_data",
                    "data": {
                        "text/html": "(16 rows affected)"
                    },
                    "metadata": {}
                },
                {
                    "output_type": "display_data",
                    "data": {
                        "text/html": "Total execution time: 00:00:00.064"
                    },
                    "metadata": {}
                },
                {
                    "output_type": "execute_result",
                    "metadata": {},
                    "execution_count": 30,
                    "data": {
                        "application/vnd.dataresource+json": {
                            "schema": {
                                "fields": [
                                    {
                                        "name": "teacher_id"
                                    },
                                    {
                                        "name": "teacher_name"
                                    },
                                    {
                                        "name": "course_name"
                                    },
                                    {
                                        "name": "semester"
                                    },
                                    {
                                        "name": "number_of_students"
                                    },
                                    {
                                        "name": "average_grade"
                                    }
                                ]
                            },
                            "data": [
                                {
                                    "teacher_id": "10000001",
                                    "teacher_name": "Mary Doe",
                                    "course_name": "Introduction to Databases",
                                    "semester": "0",
                                    "number_of_students": "8",
                                    "average_grade": "3.000000"
                                },
                                {
                                    "teacher_id": "10000001",
                                    "teacher_name": "Mary Doe",
                                    "course_name": "Introduction to Programming",
                                    "semester": "0",
                                    "number_of_students": "9",
                                    "average_grade": "1.000000"
                                },
                                {
                                    "teacher_id": "10000002",
                                    "teacher_name": "Jane Smith",
                                    "course_name": "Introduction to Databases",
                                    "semester": "0",
                                    "number_of_students": "8",
                                    "average_grade": "3.000000"
                                },
                                {
                                    "teacher_id": "10000005",
                                    "teacher_name": "Jack Thompson",
                                    "course_name": "Introduction to Web",
                                    "semester": "1",
                                    "number_of_students": "8",
                                    "average_grade": "NULL"
                                },
                                {
                                    "teacher_id": "10000006",
                                    "teacher_name": "Alice White",
                                    "course_name": "Introduction to Mobile",
                                    "semester": "1",
                                    "number_of_students": "8",
                                    "average_grade": "NULL"
                                },
                                {
                                    "teacher_id": "10000009",
                                    "teacher_name": "Adena Figueroa",
                                    "course_name": "Molecular Biology",
                                    "semester": "0",
                                    "number_of_students": "8",
                                    "average_grade": "NULL"
                                },
                                {
                                    "teacher_id": "10000010",
                                    "teacher_name": "Orlando Collins",
                                    "course_name": "Introduction to Economics",
                                    "semester": "0",
                                    "number_of_students": "7",
                                    "average_grade": "NULL"
                                },
                                {
                                    "teacher_id": "10000011",
                                    "teacher_name": "Reese Robertson",
                                    "course_name": "Introduction to Management",
                                    "semester": "1",
                                    "number_of_students": "7",
                                    "average_grade": "NULL"
                                },
                                {
                                    "teacher_id": "10000012",
                                    "teacher_name": "Medge Cabrera",
                                    "course_name": "Introduction to Marketing",
                                    "semester": "1",
                                    "number_of_students": "7",
                                    "average_grade": "NULL"
                                },
                                {
                                    "teacher_id": "10000013",
                                    "teacher_name": "Dominique Matthews",
                                    "course_name": "Introduction to Psychology",
                                    "semester": "0",
                                    "number_of_students": "7",
                                    "average_grade": "NULL"
                                },
                                {
                                    "teacher_id": "10000014",
                                    "teacher_name": "Hamilton Daniel",
                                    "course_name": "Introduction to Sociology",
                                    "semester": "0",
                                    "number_of_students": "7",
                                    "average_grade": "NULL"
                                },
                                {
                                    "teacher_id": "10000015",
                                    "teacher_name": "Cadman Black",
                                    "course_name": "Introduction to Philosophy",
                                    "semester": "1",
                                    "number_of_students": "7",
                                    "average_grade": "NULL"
                                },
                                {
                                    "teacher_id": "10000016",
                                    "teacher_name": "Lani Heath",
                                    "course_name": "Genetics",
                                    "semester": "0",
                                    "number_of_students": "7",
                                    "average_grade": "NULL"
                                },
                                {
                                    "teacher_id": "10000017",
                                    "teacher_name": "Adena Barrett",
                                    "course_name": "Biochemistry",
                                    "semester": "1",
                                    "number_of_students": "7",
                                    "average_grade": "NULL"
                                },
                                {
                                    "teacher_id": "10000018",
                                    "teacher_name": "Medge Roberts",
                                    "course_name": "Microbiology",
                                    "semester": "1",
                                    "number_of_students": "7",
                                    "average_grade": "NULL"
                                },
                                {
                                    "teacher_id": "10000019",
                                    "teacher_name": "Simone Huffman",
                                    "course_name": "Introduction to Law",
                                    "semester": "0",
                                    "number_of_students": "7",
                                    "average_grade": "NULL"
                                }
                            ]
                        },
                        "text/html": [
                            "<table>",
                            "<tr><th>teacher_id</th><th>teacher_name</th><th>course_name</th><th>semester</th><th>number_of_students</th><th>average_grade</th></tr>",
                            "<tr><td>10000001</td><td>Mary Doe</td><td>Introduction to Databases</td><td>0</td><td>8</td><td>3.000000</td></tr>",
                            "<tr><td>10000001</td><td>Mary Doe</td><td>Introduction to Programming</td><td>0</td><td>9</td><td>1.000000</td></tr>",
                            "<tr><td>10000002</td><td>Jane Smith</td><td>Introduction to Databases</td><td>0</td><td>8</td><td>3.000000</td></tr>",
                            "<tr><td>10000005</td><td>Jack Thompson</td><td>Introduction to Web</td><td>1</td><td>8</td><td>NULL</td></tr>",
                            "<tr><td>10000006</td><td>Alice White</td><td>Introduction to Mobile</td><td>1</td><td>8</td><td>NULL</td></tr>",
                            "<tr><td>10000009</td><td>Adena Figueroa</td><td>Molecular Biology</td><td>0</td><td>8</td><td>NULL</td></tr>",
                            "<tr><td>10000010</td><td>Orlando Collins</td><td>Introduction to Economics</td><td>0</td><td>7</td><td>NULL</td></tr>",
                            "<tr><td>10000011</td><td>Reese Robertson</td><td>Introduction to Management</td><td>1</td><td>7</td><td>NULL</td></tr>",
                            "<tr><td>10000012</td><td>Medge Cabrera</td><td>Introduction to Marketing</td><td>1</td><td>7</td><td>NULL</td></tr>",
                            "<tr><td>10000013</td><td>Dominique Matthews</td><td>Introduction to Psychology</td><td>0</td><td>7</td><td>NULL</td></tr>",
                            "<tr><td>10000014</td><td>Hamilton Daniel</td><td>Introduction to Sociology</td><td>0</td><td>7</td><td>NULL</td></tr>",
                            "<tr><td>10000015</td><td>Cadman Black</td><td>Introduction to Philosophy</td><td>1</td><td>7</td><td>NULL</td></tr>",
                            "<tr><td>10000016</td><td>Lani Heath</td><td>Genetics</td><td>0</td><td>7</td><td>NULL</td></tr>",
                            "<tr><td>10000017</td><td>Adena Barrett</td><td>Biochemistry</td><td>1</td><td>7</td><td>NULL</td></tr>",
                            "<tr><td>10000018</td><td>Medge Roberts</td><td>Microbiology</td><td>1</td><td>7</td><td>NULL</td></tr>",
                            "<tr><td>10000019</td><td>Simone Huffman</td><td>Introduction to Law</td><td>0</td><td>7</td><td>NULL</td></tr>",
                            "</table>"
                        ]
                    }
                }
            ],
            "execution_count": 30
        },
        {
            "cell_type": "code",
            "source": [
                "SELECT * FROM vw_Course_Schedule_Details;"
            ],
            "metadata": {
                "azdata_cell_guid": "fbde3cfe-0947-452c-9537-9419debc0627",
                "language": "sql"
            },
            "outputs": [
                {
                    "output_type": "display_data",
                    "data": {
                        "text/html": "(61 rows affected)"
                    },
                    "metadata": {}
                },
                {
                    "output_type": "display_data",
                    "data": {
                        "text/html": "Total execution time: 00:00:00.135"
                    },
                    "metadata": {}
                },
                {
                    "output_type": "execute_result",
                    "metadata": {},
                    "execution_count": 31,
                    "data": {
                        "application/vnd.dataresource+json": {
                            "schema": {
                                "fields": [
                                    {
                                        "name": "course_name"
                                    },
                                    {
                                        "name": "semester"
                                    },
                                    {
                                        "name": "day_of_week"
                                    },
                                    {
                                        "name": "start_time"
                                    },
                                    {
                                        "name": "end_time"
                                    }
                                ]
                            },
                            "data": [
                                {
                                    "course_name": "Introduction to Programming",
                                    "semester": "Winter",
                                    "day_of_week": "Monday",
                                    "start_time": "08:00:00",
                                    "end_time": "09:30:00"
                                },
                                {
                                    "course_name": "Introduction to Programming",
                                    "semester": "Winter",
                                    "day_of_week": "Wednesday",
                                    "start_time": "09:00:00",
                                    "end_time": "10:30:00"
                                },
                                {
                                    "course_name": "Introduction to Programming",
                                    "semester": "Winter",
                                    "day_of_week": "Friday",
                                    "start_time": "10:00:00",
                                    "end_time": "11:30:00"
                                },
                                {
                                    "course_name": "Introduction to Programming",
                                    "semester": "Winter",
                                    "day_of_week": "Sunday",
                                    "start_time": "12:00:00",
                                    "end_time": "12:30:00"
                                },
                                {
                                    "course_name": "Introduction to Programming",
                                    "semester": "Winter",
                                    "day_of_week": "Tuesday",
                                    "start_time": "19:30:00",
                                    "end_time": "21:00:00"
                                },
                                {
                                    "course_name": "Introduction to Databases",
                                    "semester": "Winter",
                                    "day_of_week": "Monday",
                                    "start_time": "15:00:00",
                                    "end_time": "15:30:00"
                                },
                                {
                                    "course_name": "Introduction to Databases",
                                    "semester": "Winter",
                                    "day_of_week": "Wednesday",
                                    "start_time": "15:00:00",
                                    "end_time": "15:30:00"
                                },
                                {
                                    "course_name": "Introduction to Databases",
                                    "semester": "Winter",
                                    "day_of_week": "Friday",
                                    "start_time": "16:00:00",
                                    "end_time": "16:30:00"
                                },
                                {
                                    "course_name": "Introduction to Databases",
                                    "semester": "Winter",
                                    "day_of_week": "Sunday",
                                    "start_time": "17:00:00",
                                    "end_time": "17:30:00"
                                },
                                {
                                    "course_name": "Introduction to Web",
                                    "semester": "Summer",
                                    "day_of_week": "Tuesday",
                                    "start_time": "08:00:00",
                                    "end_time": "09:30:00"
                                },
                                {
                                    "course_name": "Introduction to Web",
                                    "semester": "Summer",
                                    "day_of_week": "Thursday",
                                    "start_time": "08:00:00",
                                    "end_time": "09:30:00"
                                },
                                {
                                    "course_name": "Introduction to Web",
                                    "semester": "Summer",
                                    "day_of_week": "Saturday",
                                    "start_time": "10:00:00",
                                    "end_time": "11:30:00"
                                },
                                {
                                    "course_name": "Introduction to Web",
                                    "semester": "Summer",
                                    "day_of_week": "Monday",
                                    "start_time": "12:00:00",
                                    "end_time": "12:30:00"
                                },
                                {
                                    "course_name": "Introduction to Mobile",
                                    "semester": "Summer",
                                    "day_of_week": "Tuesday",
                                    "start_time": "15:00:00",
                                    "end_time": "15:30:00"
                                },
                                {
                                    "course_name": "Introduction to Mobile",
                                    "semester": "Summer",
                                    "day_of_week": "Thursday",
                                    "start_time": "15:00:00",
                                    "end_time": "15:30:00"
                                },
                                {
                                    "course_name": "Introduction to Mobile",
                                    "semester": "Summer",
                                    "day_of_week": "Saturday",
                                    "start_time": "16:00:00",
                                    "end_time": "16:30:00"
                                },
                                {
                                    "course_name": "Introduction to Mobile",
                                    "semester": "Summer",
                                    "day_of_week": "Monday",
                                    "start_time": "17:00:00",
                                    "end_time": "17:30:00"
                                },
                                {
                                    "course_name": "Molecular Biology",
                                    "semester": "Winter",
                                    "day_of_week": "Wednesday",
                                    "start_time": "08:00:00",
                                    "end_time": "09:30:00"
                                },
                                {
                                    "course_name": "Molecular Biology",
                                    "semester": "Winter",
                                    "day_of_week": "Friday",
                                    "start_time": "08:00:00",
                                    "end_time": "09:30:00"
                                },
                                {
                                    "course_name": "Molecular Biology",
                                    "semester": "Winter",
                                    "day_of_week": "Sunday",
                                    "start_time": "10:00:00",
                                    "end_time": "11:30:00"
                                },
                                {
                                    "course_name": "Molecular Biology",
                                    "semester": "Winter",
                                    "day_of_week": "Tuesday",
                                    "start_time": "12:00:00",
                                    "end_time": "12:30:00"
                                },
                                {
                                    "course_name": "Genetics",
                                    "semester": "Winter",
                                    "day_of_week": "Wednesday",
                                    "start_time": "15:00:00",
                                    "end_time": "15:30:00"
                                },
                                {
                                    "course_name": "Genetics",
                                    "semester": "Winter",
                                    "day_of_week": "Friday",
                                    "start_time": "15:00:00",
                                    "end_time": "15:30:00"
                                },
                                {
                                    "course_name": "Genetics",
                                    "semester": "Winter",
                                    "day_of_week": "Sunday",
                                    "start_time": "16:00:00",
                                    "end_time": "16:30:00"
                                },
                                {
                                    "course_name": "Genetics",
                                    "semester": "Winter",
                                    "day_of_week": "Tuesday",
                                    "start_time": "17:00:00",
                                    "end_time": "17:30:00"
                                },
                                {
                                    "course_name": "Biochemistry",
                                    "semester": "Summer",
                                    "day_of_week": "Thursday",
                                    "start_time": "08:00:00",
                                    "end_time": "09:30:00"
                                },
                                {
                                    "course_name": "Biochemistry",
                                    "semester": "Summer",
                                    "day_of_week": "Saturday",
                                    "start_time": "08:00:00",
                                    "end_time": "09:30:00"
                                },
                                {
                                    "course_name": "Biochemistry",
                                    "semester": "Summer",
                                    "day_of_week": "Monday",
                                    "start_time": "10:00:00",
                                    "end_time": "11:30:00"
                                },
                                {
                                    "course_name": "Biochemistry",
                                    "semester": "Summer",
                                    "day_of_week": "Wednesday",
                                    "start_time": "12:00:00",
                                    "end_time": "12:30:00"
                                },
                                {
                                    "course_name": "Microbiology",
                                    "semester": "Summer",
                                    "day_of_week": "Thursday",
                                    "start_time": "15:00:00",
                                    "end_time": "15:30:00"
                                },
                                {
                                    "course_name": "Microbiology",
                                    "semester": "Summer",
                                    "day_of_week": "Saturday",
                                    "start_time": "15:00:00",
                                    "end_time": "15:30:00"
                                },
                                {
                                    "course_name": "Microbiology",
                                    "semester": "Summer",
                                    "day_of_week": "Monday",
                                    "start_time": "16:00:00",
                                    "end_time": "16:30:00"
                                },
                                {
                                    "course_name": "Microbiology",
                                    "semester": "Summer",
                                    "day_of_week": "Wednesday",
                                    "start_time": "17:00:00",
                                    "end_time": "17:30:00"
                                },
                                {
                                    "course_name": "Introduction to Law",
                                    "semester": "Winter",
                                    "day_of_week": "Friday",
                                    "start_time": "08:00:00",
                                    "end_time": "09:30:00"
                                },
                                {
                                    "course_name": "Introduction to Law",
                                    "semester": "Winter",
                                    "day_of_week": "Sunday",
                                    "start_time": "08:00:00",
                                    "end_time": "09:30:00"
                                },
                                {
                                    "course_name": "Introduction to Law",
                                    "semester": "Winter",
                                    "day_of_week": "Tuesday",
                                    "start_time": "10:00:00",
                                    "end_time": "11:30:00"
                                },
                                {
                                    "course_name": "Introduction to Law",
                                    "semester": "Winter",
                                    "day_of_week": "Thursday",
                                    "start_time": "12:00:00",
                                    "end_time": "12:30:00"
                                },
                                {
                                    "course_name": "Introduction to Economics",
                                    "semester": "Winter",
                                    "day_of_week": "Friday",
                                    "start_time": "15:00:00",
                                    "end_time": "15:30:00"
                                },
                                {
                                    "course_name": "Introduction to Economics",
                                    "semester": "Winter",
                                    "day_of_week": "Sunday",
                                    "start_time": "15:00:00",
                                    "end_time": "15:30:00"
                                },
                                {
                                    "course_name": "Introduction to Economics",
                                    "semester": "Winter",
                                    "day_of_week": "Tuesday",
                                    "start_time": "16:00:00",
                                    "end_time": "16:30:00"
                                },
                                {
                                    "course_name": "Introduction to Economics",
                                    "semester": "Winter",
                                    "day_of_week": "Thursday",
                                    "start_time": "17:00:00",
                                    "end_time": "17:30:00"
                                },
                                {
                                    "course_name": "Introduction to Management",
                                    "semester": "Summer",
                                    "day_of_week": "Monday",
                                    "start_time": "08:00:00",
                                    "end_time": "09:30:00"
                                },
                                {
                                    "course_name": "Introduction to Management",
                                    "semester": "Summer",
                                    "day_of_week": "Saturday",
                                    "start_time": "08:00:00",
                                    "end_time": "09:30:00"
                                },
                                {
                                    "course_name": "Introduction to Management",
                                    "semester": "Summer",
                                    "day_of_week": "Wednesday",
                                    "start_time": "10:00:00",
                                    "end_time": "11:30:00"
                                },
                                {
                                    "course_name": "Introduction to Management",
                                    "semester": "Summer",
                                    "day_of_week": "Friday",
                                    "start_time": "12:00:00",
                                    "end_time": "12:30:00"
                                },
                                {
                                    "course_name": "Introduction to Marketing",
                                    "semester": "Summer",
                                    "day_of_week": "Monday",
                                    "start_time": "15:00:00",
                                    "end_time": "15:30:00"
                                },
                                {
                                    "course_name": "Introduction to Marketing",
                                    "semester": "Summer",
                                    "day_of_week": "Saturday",
                                    "start_time": "15:00:00",
                                    "end_time": "15:30:00"
                                },
                                {
                                    "course_name": "Introduction to Marketing",
                                    "semester": "Summer",
                                    "day_of_week": "Wednesday",
                                    "start_time": "16:00:00",
                                    "end_time": "16:30:00"
                                },
                                {
                                    "course_name": "Introduction to Marketing",
                                    "semester": "Summer",
                                    "day_of_week": "Friday",
                                    "start_time": "17:00:00",
                                    "end_time": "17:30:00"
                                },
                                {
                                    "course_name": "Introduction to Psychology",
                                    "semester": "Winter",
                                    "day_of_week": "Tuesday",
                                    "start_time": "08:00:00",
                                    "end_time": "09:30:00"
                                },
                                {
                                    "course_name": "Introduction to Psychology",
                                    "semester": "Winter",
                                    "day_of_week": "Sunday",
                                    "start_time": "08:00:00",
                                    "end_time": "09:30:00"
                                },
                                {
                                    "course_name": "Introduction to Psychology",
                                    "semester": "Winter",
                                    "day_of_week": "Thursday",
                                    "start_time": "10:00:00",
                                    "end_time": "11:30:00"
                                },
                                {
                                    "course_name": "Introduction to Psychology",
                                    "semester": "Winter",
                                    "day_of_week": "Saturday",
                                    "start_time": "12:00:00",
                                    "end_time": "12:30:00"
                                },
                                {
                                    "course_name": "Introduction to Sociology",
                                    "semester": "Winter",
                                    "day_of_week": "Tuesday",
                                    "start_time": "15:00:00",
                                    "end_time": "15:30:00"
                                },
                                {
                                    "course_name": "Introduction to Sociology",
                                    "semester": "Winter",
                                    "day_of_week": "Sunday",
                                    "start_time": "15:00:00",
                                    "end_time": "15:30:00"
                                },
                                {
                                    "course_name": "Introduction to Sociology",
                                    "semester": "Winter",
                                    "day_of_week": "Thursday",
                                    "start_time": "16:00:00",
                                    "end_time": "16:30:00"
                                },
                                {
                                    "course_name": "Introduction to Sociology",
                                    "semester": "Winter",
                                    "day_of_week": "Saturday",
                                    "start_time": "17:00:00",
                                    "end_time": "17:30:00"
                                },
                                {
                                    "course_name": "Introduction to Philosophy",
                                    "semester": "Summer",
                                    "day_of_week": "Monday",
                                    "start_time": "08:00:00",
                                    "end_time": "09:30:00"
                                },
                                {
                                    "course_name": "Introduction to Philosophy",
                                    "semester": "Summer",
                                    "day_of_week": "Wednesday",
                                    "start_time": "08:00:00",
                                    "end_time": "09:30:00"
                                },
                                {
                                    "course_name": "Introduction to Philosophy",
                                    "semester": "Summer",
                                    "day_of_week": "Friday",
                                    "start_time": "10:00:00",
                                    "end_time": "11:30:00"
                                },
                                {
                                    "course_name": "Introduction to Philosophy",
                                    "semester": "Summer",
                                    "day_of_week": "Sunday",
                                    "start_time": "12:00:00",
                                    "end_time": "12:30:00"
                                }
                            ]
                        },
                        "text/html": [
                            "<table>",
                            "<tr><th>course_name</th><th>semester</th><th>day_of_week</th><th>start_time</th><th>end_time</th></tr>",
                            "<tr><td>Introduction to Programming</td><td>Winter</td><td>Monday</td><td>08:00:00</td><td>09:30:00</td></tr>",
                            "<tr><td>Introduction to Programming</td><td>Winter</td><td>Wednesday</td><td>09:00:00</td><td>10:30:00</td></tr>",
                            "<tr><td>Introduction to Programming</td><td>Winter</td><td>Friday</td><td>10:00:00</td><td>11:30:00</td></tr>",
                            "<tr><td>Introduction to Programming</td><td>Winter</td><td>Sunday</td><td>12:00:00</td><td>12:30:00</td></tr>",
                            "<tr><td>Introduction to Programming</td><td>Winter</td><td>Tuesday</td><td>19:30:00</td><td>21:00:00</td></tr>",
                            "<tr><td>Introduction to Databases</td><td>Winter</td><td>Monday</td><td>15:00:00</td><td>15:30:00</td></tr>",
                            "<tr><td>Introduction to Databases</td><td>Winter</td><td>Wednesday</td><td>15:00:00</td><td>15:30:00</td></tr>",
                            "<tr><td>Introduction to Databases</td><td>Winter</td><td>Friday</td><td>16:00:00</td><td>16:30:00</td></tr>",
                            "<tr><td>Introduction to Databases</td><td>Winter</td><td>Sunday</td><td>17:00:00</td><td>17:30:00</td></tr>",
                            "<tr><td>Introduction to Web</td><td>Summer</td><td>Tuesday</td><td>08:00:00</td><td>09:30:00</td></tr>",
                            "<tr><td>Introduction to Web</td><td>Summer</td><td>Thursday</td><td>08:00:00</td><td>09:30:00</td></tr>",
                            "<tr><td>Introduction to Web</td><td>Summer</td><td>Saturday</td><td>10:00:00</td><td>11:30:00</td></tr>",
                            "<tr><td>Introduction to Web</td><td>Summer</td><td>Monday</td><td>12:00:00</td><td>12:30:00</td></tr>",
                            "<tr><td>Introduction to Mobile</td><td>Summer</td><td>Tuesday</td><td>15:00:00</td><td>15:30:00</td></tr>",
                            "<tr><td>Introduction to Mobile</td><td>Summer</td><td>Thursday</td><td>15:00:00</td><td>15:30:00</td></tr>",
                            "<tr><td>Introduction to Mobile</td><td>Summer</td><td>Saturday</td><td>16:00:00</td><td>16:30:00</td></tr>",
                            "<tr><td>Introduction to Mobile</td><td>Summer</td><td>Monday</td><td>17:00:00</td><td>17:30:00</td></tr>",
                            "<tr><td>Molecular Biology</td><td>Winter</td><td>Wednesday</td><td>08:00:00</td><td>09:30:00</td></tr>",
                            "<tr><td>Molecular Biology</td><td>Winter</td><td>Friday</td><td>08:00:00</td><td>09:30:00</td></tr>",
                            "<tr><td>Molecular Biology</td><td>Winter</td><td>Sunday</td><td>10:00:00</td><td>11:30:00</td></tr>",
                            "<tr><td>Molecular Biology</td><td>Winter</td><td>Tuesday</td><td>12:00:00</td><td>12:30:00</td></tr>",
                            "<tr><td>Genetics</td><td>Winter</td><td>Wednesday</td><td>15:00:00</td><td>15:30:00</td></tr>",
                            "<tr><td>Genetics</td><td>Winter</td><td>Friday</td><td>15:00:00</td><td>15:30:00</td></tr>",
                            "<tr><td>Genetics</td><td>Winter</td><td>Sunday</td><td>16:00:00</td><td>16:30:00</td></tr>",
                            "<tr><td>Genetics</td><td>Winter</td><td>Tuesday</td><td>17:00:00</td><td>17:30:00</td></tr>",
                            "<tr><td>Biochemistry</td><td>Summer</td><td>Thursday</td><td>08:00:00</td><td>09:30:00</td></tr>",
                            "<tr><td>Biochemistry</td><td>Summer</td><td>Saturday</td><td>08:00:00</td><td>09:30:00</td></tr>",
                            "<tr><td>Biochemistry</td><td>Summer</td><td>Monday</td><td>10:00:00</td><td>11:30:00</td></tr>",
                            "<tr><td>Biochemistry</td><td>Summer</td><td>Wednesday</td><td>12:00:00</td><td>12:30:00</td></tr>",
                            "<tr><td>Microbiology</td><td>Summer</td><td>Thursday</td><td>15:00:00</td><td>15:30:00</td></tr>",
                            "<tr><td>Microbiology</td><td>Summer</td><td>Saturday</td><td>15:00:00</td><td>15:30:00</td></tr>",
                            "<tr><td>Microbiology</td><td>Summer</td><td>Monday</td><td>16:00:00</td><td>16:30:00</td></tr>",
                            "<tr><td>Microbiology</td><td>Summer</td><td>Wednesday</td><td>17:00:00</td><td>17:30:00</td></tr>",
                            "<tr><td>Introduction to Law</td><td>Winter</td><td>Friday</td><td>08:00:00</td><td>09:30:00</td></tr>",
                            "<tr><td>Introduction to Law</td><td>Winter</td><td>Sunday</td><td>08:00:00</td><td>09:30:00</td></tr>",
                            "<tr><td>Introduction to Law</td><td>Winter</td><td>Tuesday</td><td>10:00:00</td><td>11:30:00</td></tr>",
                            "<tr><td>Introduction to Law</td><td>Winter</td><td>Thursday</td><td>12:00:00</td><td>12:30:00</td></tr>",
                            "<tr><td>Introduction to Economics</td><td>Winter</td><td>Friday</td><td>15:00:00</td><td>15:30:00</td></tr>",
                            "<tr><td>Introduction to Economics</td><td>Winter</td><td>Sunday</td><td>15:00:00</td><td>15:30:00</td></tr>",
                            "<tr><td>Introduction to Economics</td><td>Winter</td><td>Tuesday</td><td>16:00:00</td><td>16:30:00</td></tr>",
                            "<tr><td>Introduction to Economics</td><td>Winter</td><td>Thursday</td><td>17:00:00</td><td>17:30:00</td></tr>",
                            "<tr><td>Introduction to Management</td><td>Summer</td><td>Monday</td><td>08:00:00</td><td>09:30:00</td></tr>",
                            "<tr><td>Introduction to Management</td><td>Summer</td><td>Saturday</td><td>08:00:00</td><td>09:30:00</td></tr>",
                            "<tr><td>Introduction to Management</td><td>Summer</td><td>Wednesday</td><td>10:00:00</td><td>11:30:00</td></tr>",
                            "<tr><td>Introduction to Management</td><td>Summer</td><td>Friday</td><td>12:00:00</td><td>12:30:00</td></tr>",
                            "<tr><td>Introduction to Marketing</td><td>Summer</td><td>Monday</td><td>15:00:00</td><td>15:30:00</td></tr>",
                            "<tr><td>Introduction to Marketing</td><td>Summer</td><td>Saturday</td><td>15:00:00</td><td>15:30:00</td></tr>",
                            "<tr><td>Introduction to Marketing</td><td>Summer</td><td>Wednesday</td><td>16:00:00</td><td>16:30:00</td></tr>",
                            "<tr><td>Introduction to Marketing</td><td>Summer</td><td>Friday</td><td>17:00:00</td><td>17:30:00</td></tr>",
                            "<tr><td>Introduction to Psychology</td><td>Winter</td><td>Tuesday</td><td>08:00:00</td><td>09:30:00</td></tr>",
                            "<tr><td>Introduction to Psychology</td><td>Winter</td><td>Sunday</td><td>08:00:00</td><td>09:30:00</td></tr>",
                            "<tr><td>Introduction to Psychology</td><td>Winter</td><td>Thursday</td><td>10:00:00</td><td>11:30:00</td></tr>",
                            "<tr><td>Introduction to Psychology</td><td>Winter</td><td>Saturday</td><td>12:00:00</td><td>12:30:00</td></tr>",
                            "<tr><td>Introduction to Sociology</td><td>Winter</td><td>Tuesday</td><td>15:00:00</td><td>15:30:00</td></tr>",
                            "<tr><td>Introduction to Sociology</td><td>Winter</td><td>Sunday</td><td>15:00:00</td><td>15:30:00</td></tr>",
                            "<tr><td>Introduction to Sociology</td><td>Winter</td><td>Thursday</td><td>16:00:00</td><td>16:30:00</td></tr>",
                            "<tr><td>Introduction to Sociology</td><td>Winter</td><td>Saturday</td><td>17:00:00</td><td>17:30:00</td></tr>",
                            "<tr><td>Introduction to Philosophy</td><td>Summer</td><td>Monday</td><td>08:00:00</td><td>09:30:00</td></tr>",
                            "<tr><td>Introduction to Philosophy</td><td>Summer</td><td>Wednesday</td><td>08:00:00</td><td>09:30:00</td></tr>",
                            "<tr><td>Introduction to Philosophy</td><td>Summer</td><td>Friday</td><td>10:00:00</td><td>11:30:00</td></tr>",
                            "<tr><td>Introduction to Philosophy</td><td>Summer</td><td>Sunday</td><td>12:00:00</td><td>12:30:00</td></tr>",
                            "</table>"
                        ]
                    }
                }
            ],
            "execution_count": 31
        },
        {
            "cell_type": "code",
            "source": [
                "SELECT * FROM vw_Teacher_Schedule;"
            ],
            "metadata": {
                "azdata_cell_guid": "18c29bc1-2f4d-442f-899d-3e282c8b3fa0",
                "language": "sql"
            },
            "outputs": [
                {
                    "output_type": "display_data",
                    "data": {
                        "text/html": "(65 rows affected)"
                    },
                    "metadata": {}
                },
                {
                    "output_type": "display_data",
                    "data": {
                        "text/html": "Total execution time: 00:00:00.079"
                    },
                    "metadata": {}
                },
                {
                    "output_type": "execute_result",
                    "metadata": {},
                    "execution_count": 32,
                    "data": {
                        "application/vnd.dataresource+json": {
                            "schema": {
                                "fields": [
                                    {
                                        "name": "teacher_id"
                                    },
                                    {
                                        "name": "teacher_name"
                                    },
                                    {
                                        "name": "course_id"
                                    },
                                    {
                                        "name": "course_name"
                                    },
                                    {
                                        "name": "start_time"
                                    },
                                    {
                                        "name": "end_time"
                                    },
                                    {
                                        "name": "day_of_week"
                                    },
                                    {
                                        "name": "location"
                                    }
                                ]
                            },
                            "data": [
                                {
                                    "teacher_id": "10000001",
                                    "teacher_name": "Mary Doe",
                                    "course_id": "1",
                                    "course_name": "Introduction to Programming",
                                    "start_time": "08:00:00",
                                    "end_time": "09:30:00",
                                    "day_of_week": "Monday",
                                    "location": "Room 1A"
                                },
                                {
                                    "teacher_id": "10000001",
                                    "teacher_name": "Mary Doe",
                                    "course_id": "1",
                                    "course_name": "Introduction to Programming",
                                    "start_time": "09:00:00",
                                    "end_time": "10:30:00",
                                    "day_of_week": "Wednesday",
                                    "location": "Room 2A"
                                },
                                {
                                    "teacher_id": "10000001",
                                    "teacher_name": "Mary Doe",
                                    "course_id": "1",
                                    "course_name": "Introduction to Programming",
                                    "start_time": "10:00:00",
                                    "end_time": "11:30:00",
                                    "day_of_week": "Friday",
                                    "location": "Room 3C"
                                },
                                {
                                    "teacher_id": "10000001",
                                    "teacher_name": "Mary Doe",
                                    "course_id": "1",
                                    "course_name": "Introduction to Programming",
                                    "start_time": "12:00:00",
                                    "end_time": "12:30:00",
                                    "day_of_week": "Sunday",
                                    "location": "Room 4D"
                                },
                                {
                                    "teacher_id": "10000001",
                                    "teacher_name": "Mary Doe",
                                    "course_id": "1",
                                    "course_name": "Introduction to Programming",
                                    "start_time": "19:30:00",
                                    "end_time": "21:00:00",
                                    "day_of_week": "Tuesday",
                                    "location": "Room 101"
                                },
                                {
                                    "teacher_id": "10000001",
                                    "teacher_name": "Mary Doe",
                                    "course_id": "2",
                                    "course_name": "Introduction to Databases",
                                    "start_time": "15:00:00",
                                    "end_time": "15:30:00",
                                    "day_of_week": "Monday",
                                    "location": "Room 1A"
                                },
                                {
                                    "teacher_id": "10000001",
                                    "teacher_name": "Mary Doe",
                                    "course_id": "2",
                                    "course_name": "Introduction to Databases",
                                    "start_time": "15:00:00",
                                    "end_time": "15:30:00",
                                    "day_of_week": "Wednesday",
                                    "location": "Room 2A"
                                },
                                {
                                    "teacher_id": "10000001",
                                    "teacher_name": "Mary Doe",
                                    "course_id": "2",
                                    "course_name": "Introduction to Databases",
                                    "start_time": "16:00:00",
                                    "end_time": "16:30:00",
                                    "day_of_week": "Friday",
                                    "location": "Room 3C"
                                },
                                {
                                    "teacher_id": "10000001",
                                    "teacher_name": "Mary Doe",
                                    "course_id": "2",
                                    "course_name": "Introduction to Databases",
                                    "start_time": "17:00:00",
                                    "end_time": "17:30:00",
                                    "day_of_week": "Sunday",
                                    "location": "Room 4D"
                                },
                                {
                                    "teacher_id": "10000002",
                                    "teacher_name": "Jane Smith",
                                    "course_id": "2",
                                    "course_name": "Introduction to Databases",
                                    "start_time": "15:00:00",
                                    "end_time": "15:30:00",
                                    "day_of_week": "Monday",
                                    "location": "Room 1A"
                                },
                                {
                                    "teacher_id": "10000002",
                                    "teacher_name": "Jane Smith",
                                    "course_id": "2",
                                    "course_name": "Introduction to Databases",
                                    "start_time": "15:00:00",
                                    "end_time": "15:30:00",
                                    "day_of_week": "Wednesday",
                                    "location": "Room 2A"
                                },
                                {
                                    "teacher_id": "10000002",
                                    "teacher_name": "Jane Smith",
                                    "course_id": "2",
                                    "course_name": "Introduction to Databases",
                                    "start_time": "16:00:00",
                                    "end_time": "16:30:00",
                                    "day_of_week": "Friday",
                                    "location": "Room 3C"
                                },
                                {
                                    "teacher_id": "10000002",
                                    "teacher_name": "Jane Smith",
                                    "course_id": "2",
                                    "course_name": "Introduction to Databases",
                                    "start_time": "17:00:00",
                                    "end_time": "17:30:00",
                                    "day_of_week": "Sunday",
                                    "location": "Room 4D"
                                },
                                {
                                    "teacher_id": "10000005",
                                    "teacher_name": "Jack Thompson",
                                    "course_id": "3",
                                    "course_name": "Introduction to Web",
                                    "start_time": "08:00:00",
                                    "end_time": "09:30:00",
                                    "day_of_week": "Tuesday",
                                    "location": "Room 1A"
                                },
                                {
                                    "teacher_id": "10000005",
                                    "teacher_name": "Jack Thompson",
                                    "course_id": "3",
                                    "course_name": "Introduction to Web",
                                    "start_time": "08:00:00",
                                    "end_time": "09:30:00",
                                    "day_of_week": "Thursday",
                                    "location": "Room 2A"
                                },
                                {
                                    "teacher_id": "10000005",
                                    "teacher_name": "Jack Thompson",
                                    "course_id": "3",
                                    "course_name": "Introduction to Web",
                                    "start_time": "10:00:00",
                                    "end_time": "11:30:00",
                                    "day_of_week": "Saturday",
                                    "location": "Room 3C"
                                },
                                {
                                    "teacher_id": "10000005",
                                    "teacher_name": "Jack Thompson",
                                    "course_id": "3",
                                    "course_name": "Introduction to Web",
                                    "start_time": "12:00:00",
                                    "end_time": "12:30:00",
                                    "day_of_week": "Monday",
                                    "location": "Room 4D"
                                },
                                {
                                    "teacher_id": "10000006",
                                    "teacher_name": "Alice White",
                                    "course_id": "4",
                                    "course_name": "Introduction to Mobile",
                                    "start_time": "15:00:00",
                                    "end_time": "15:30:00",
                                    "day_of_week": "Tuesday",
                                    "location": "Room 1A"
                                },
                                {
                                    "teacher_id": "10000006",
                                    "teacher_name": "Alice White",
                                    "course_id": "4",
                                    "course_name": "Introduction to Mobile",
                                    "start_time": "15:00:00",
                                    "end_time": "15:30:00",
                                    "day_of_week": "Thursday",
                                    "location": "Room 2A"
                                },
                                {
                                    "teacher_id": "10000006",
                                    "teacher_name": "Alice White",
                                    "course_id": "4",
                                    "course_name": "Introduction to Mobile",
                                    "start_time": "16:00:00",
                                    "end_time": "16:30:00",
                                    "day_of_week": "Saturday",
                                    "location": "Room 3C"
                                },
                                {
                                    "teacher_id": "10000006",
                                    "teacher_name": "Alice White",
                                    "course_id": "4",
                                    "course_name": "Introduction to Mobile",
                                    "start_time": "17:00:00",
                                    "end_time": "17:30:00",
                                    "day_of_week": "Monday",
                                    "location": "Room 4D"
                                },
                                {
                                    "teacher_id": "10000009",
                                    "teacher_name": "Adena Figueroa",
                                    "course_id": "5",
                                    "course_name": "Molecular Biology",
                                    "start_time": "08:00:00",
                                    "end_time": "09:30:00",
                                    "day_of_week": "Wednesday",
                                    "location": "Room 1A"
                                },
                                {
                                    "teacher_id": "10000009",
                                    "teacher_name": "Adena Figueroa",
                                    "course_id": "5",
                                    "course_name": "Molecular Biology",
                                    "start_time": "08:00:00",
                                    "end_time": "09:30:00",
                                    "day_of_week": "Friday",
                                    "location": "Room 2A"
                                },
                                {
                                    "teacher_id": "10000009",
                                    "teacher_name": "Adena Figueroa",
                                    "course_id": "5",
                                    "course_name": "Molecular Biology",
                                    "start_time": "10:00:00",
                                    "end_time": "11:30:00",
                                    "day_of_week": "Sunday",
                                    "location": "Room 3C"
                                },
                                {
                                    "teacher_id": "10000009",
                                    "teacher_name": "Adena Figueroa",
                                    "course_id": "5",
                                    "course_name": "Molecular Biology",
                                    "start_time": "12:00:00",
                                    "end_time": "12:30:00",
                                    "day_of_week": "Tuesday",
                                    "location": "Room 4D"
                                },
                                {
                                    "teacher_id": "10000010",
                                    "teacher_name": "Orlando Collins",
                                    "course_id": "10",
                                    "course_name": "Introduction to Economics",
                                    "start_time": "15:00:00",
                                    "end_time": "15:30:00",
                                    "day_of_week": "Friday",
                                    "location": "Room 1A"
                                },
                                {
                                    "teacher_id": "10000010",
                                    "teacher_name": "Orlando Collins",
                                    "course_id": "10",
                                    "course_name": "Introduction to Economics",
                                    "start_time": "15:00:00",
                                    "end_time": "15:30:00",
                                    "day_of_week": "Sunday",
                                    "location": "Room 2A"
                                },
                                {
                                    "teacher_id": "10000010",
                                    "teacher_name": "Orlando Collins",
                                    "course_id": "10",
                                    "course_name": "Introduction to Economics",
                                    "start_time": "16:00:00",
                                    "end_time": "16:30:00",
                                    "day_of_week": "Tuesday",
                                    "location": "Room 3C"
                                },
                                {
                                    "teacher_id": "10000010",
                                    "teacher_name": "Orlando Collins",
                                    "course_id": "10",
                                    "course_name": "Introduction to Economics",
                                    "start_time": "17:00:00",
                                    "end_time": "17:30:00",
                                    "day_of_week": "Thursday",
                                    "location": "Room 4D"
                                },
                                {
                                    "teacher_id": "10000011",
                                    "teacher_name": "Reese Robertson",
                                    "course_id": "11",
                                    "course_name": "Introduction to Management",
                                    "start_time": "08:00:00",
                                    "end_time": "09:30:00",
                                    "day_of_week": "Monday",
                                    "location": "Room 2A"
                                },
                                {
                                    "teacher_id": "10000011",
                                    "teacher_name": "Reese Robertson",
                                    "course_id": "11",
                                    "course_name": "Introduction to Management",
                                    "start_time": "08:00:00",
                                    "end_time": "09:30:00",
                                    "day_of_week": "Saturday",
                                    "location": "Room 1A"
                                },
                                {
                                    "teacher_id": "10000011",
                                    "teacher_name": "Reese Robertson",
                                    "course_id": "11",
                                    "course_name": "Introduction to Management",
                                    "start_time": "10:00:00",
                                    "end_time": "11:30:00",
                                    "day_of_week": "Wednesday",
                                    "location": "Room 3C"
                                },
                                {
                                    "teacher_id": "10000011",
                                    "teacher_name": "Reese Robertson",
                                    "course_id": "11",
                                    "course_name": "Introduction to Management",
                                    "start_time": "12:00:00",
                                    "end_time": "12:30:00",
                                    "day_of_week": "Friday",
                                    "location": "Room 4D"
                                },
                                {
                                    "teacher_id": "10000012",
                                    "teacher_name": "Medge Cabrera",
                                    "course_id": "12",
                                    "course_name": "Introduction to Marketing",
                                    "start_time": "15:00:00",
                                    "end_time": "15:30:00",
                                    "day_of_week": "Monday",
                                    "location": "Room 2A"
                                },
                                {
                                    "teacher_id": "10000012",
                                    "teacher_name": "Medge Cabrera",
                                    "course_id": "12",
                                    "course_name": "Introduction to Marketing",
                                    "start_time": "15:00:00",
                                    "end_time": "15:30:00",
                                    "day_of_week": "Saturday",
                                    "location": "Room 1A"
                                },
                                {
                                    "teacher_id": "10000012",
                                    "teacher_name": "Medge Cabrera",
                                    "course_id": "12",
                                    "course_name": "Introduction to Marketing",
                                    "start_time": "16:00:00",
                                    "end_time": "16:30:00",
                                    "day_of_week": "Wednesday",
                                    "location": "Room 3C"
                                },
                                {
                                    "teacher_id": "10000012",
                                    "teacher_name": "Medge Cabrera",
                                    "course_id": "12",
                                    "course_name": "Introduction to Marketing",
                                    "start_time": "17:00:00",
                                    "end_time": "17:30:00",
                                    "day_of_week": "Friday",
                                    "location": "Room 4D"
                                },
                                {
                                    "teacher_id": "10000013",
                                    "teacher_name": "Dominique Matthews",
                                    "course_id": "13",
                                    "course_name": "Introduction to Psychology",
                                    "start_time": "08:00:00",
                                    "end_time": "09:30:00",
                                    "day_of_week": "Tuesday",
                                    "location": "Room 2A"
                                },
                                {
                                    "teacher_id": "10000013",
                                    "teacher_name": "Dominique Matthews",
                                    "course_id": "13",
                                    "course_name": "Introduction to Psychology",
                                    "start_time": "08:00:00",
                                    "end_time": "09:30:00",
                                    "day_of_week": "Sunday",
                                    "location": "Room 1A"
                                },
                                {
                                    "teacher_id": "10000013",
                                    "teacher_name": "Dominique Matthews",
                                    "course_id": "13",
                                    "course_name": "Introduction to Psychology",
                                    "start_time": "10:00:00",
                                    "end_time": "11:30:00",
                                    "day_of_week": "Thursday",
                                    "location": "Room 3C"
                                },
                                {
                                    "teacher_id": "10000013",
                                    "teacher_name": "Dominique Matthews",
                                    "course_id": "13",
                                    "course_name": "Introduction to Psychology",
                                    "start_time": "12:00:00",
                                    "end_time": "12:30:00",
                                    "day_of_week": "Saturday",
                                    "location": "Room 4D"
                                },
                                {
                                    "teacher_id": "10000014",
                                    "teacher_name": "Hamilton Daniel",
                                    "course_id": "14",
                                    "course_name": "Introduction to Sociology",
                                    "start_time": "15:00:00",
                                    "end_time": "15:30:00",
                                    "day_of_week": "Tuesday",
                                    "location": "Room 2A"
                                },
                                {
                                    "teacher_id": "10000014",
                                    "teacher_name": "Hamilton Daniel",
                                    "course_id": "14",
                                    "course_name": "Introduction to Sociology",
                                    "start_time": "15:00:00",
                                    "end_time": "15:30:00",
                                    "day_of_week": "Sunday",
                                    "location": "Room 1A"
                                },
                                {
                                    "teacher_id": "10000014",
                                    "teacher_name": "Hamilton Daniel",
                                    "course_id": "14",
                                    "course_name": "Introduction to Sociology",
                                    "start_time": "16:00:00",
                                    "end_time": "16:30:00",
                                    "day_of_week": "Thursday",
                                    "location": "Room 3C"
                                },
                                {
                                    "teacher_id": "10000014",
                                    "teacher_name": "Hamilton Daniel",
                                    "course_id": "14",
                                    "course_name": "Introduction to Sociology",
                                    "start_time": "17:00:00",
                                    "end_time": "17:30:00",
                                    "day_of_week": "Saturday",
                                    "location": "Room 4D"
                                },
                                {
                                    "teacher_id": "10000015",
                                    "teacher_name": "Cadman Black",
                                    "course_id": "15",
                                    "course_name": "Introduction to Philosophy",
                                    "start_time": "08:00:00",
                                    "end_time": "09:30:00",
                                    "day_of_week": "Monday",
                                    "location": "Room 1A"
                                },
                                {
                                    "teacher_id": "10000015",
                                    "teacher_name": "Cadman Black",
                                    "course_id": "15",
                                    "course_name": "Introduction to Philosophy",
                                    "start_time": "08:00:00",
                                    "end_time": "09:30:00",
                                    "day_of_week": "Wednesday",
                                    "location": "Room 2A"
                                },
                                {
                                    "teacher_id": "10000015",
                                    "teacher_name": "Cadman Black",
                                    "course_id": "15",
                                    "course_name": "Introduction to Philosophy",
                                    "start_time": "10:00:00",
                                    "end_time": "11:30:00",
                                    "day_of_week": "Friday",
                                    "location": "Room 3C"
                                },
                                {
                                    "teacher_id": "10000015",
                                    "teacher_name": "Cadman Black",
                                    "course_id": "15",
                                    "course_name": "Introduction to Philosophy",
                                    "start_time": "12:00:00",
                                    "end_time": "12:30:00",
                                    "day_of_week": "Sunday",
                                    "location": "Room 4D"
                                },
                                {
                                    "teacher_id": "10000016",
                                    "teacher_name": "Lani Heath",
                                    "course_id": "6",
                                    "course_name": "Genetics",
                                    "start_time": "15:00:00",
                                    "end_time": "15:30:00",
                                    "day_of_week": "Wednesday",
                                    "location": "Room 1A"
                                },
                                {
                                    "teacher_id": "10000016",
                                    "teacher_name": "Lani Heath",
                                    "course_id": "6",
                                    "course_name": "Genetics",
                                    "start_time": "15:00:00",
                                    "end_time": "15:30:00",
                                    "day_of_week": "Friday",
                                    "location": "Room 2A"
                                },
                                {
                                    "teacher_id": "10000016",
                                    "teacher_name": "Lani Heath",
                                    "course_id": "6",
                                    "course_name": "Genetics",
                                    "start_time": "16:00:00",
                                    "end_time": "16:30:00",
                                    "day_of_week": "Sunday",
                                    "location": "Room 3C"
                                },
                                {
                                    "teacher_id": "10000016",
                                    "teacher_name": "Lani Heath",
                                    "course_id": "6",
                                    "course_name": "Genetics",
                                    "start_time": "17:00:00",
                                    "end_time": "17:30:00",
                                    "day_of_week": "Tuesday",
                                    "location": "Room 4D"
                                },
                                {
                                    "teacher_id": "10000017",
                                    "teacher_name": "Adena Barrett",
                                    "course_id": "7",
                                    "course_name": "Biochemistry",
                                    "start_time": "08:00:00",
                                    "end_time": "09:30:00",
                                    "day_of_week": "Thursday",
                                    "location": "Room 1A"
                                },
                                {
                                    "teacher_id": "10000017",
                                    "teacher_name": "Adena Barrett",
                                    "course_id": "7",
                                    "course_name": "Biochemistry",
                                    "start_time": "08:00:00",
                                    "end_time": "09:30:00",
                                    "day_of_week": "Saturday",
                                    "location": "Room 2A"
                                },
                                {
                                    "teacher_id": "10000017",
                                    "teacher_name": "Adena Barrett",
                                    "course_id": "7",
                                    "course_name": "Biochemistry",
                                    "start_time": "10:00:00",
                                    "end_time": "11:30:00",
                                    "day_of_week": "Monday",
                                    "location": "Room 3C"
                                },
                                {
                                    "teacher_id": "10000017",
                                    "teacher_name": "Adena Barrett",
                                    "course_id": "7",
                                    "course_name": "Biochemistry",
                                    "start_time": "12:00:00",
                                    "end_time": "12:30:00",
                                    "day_of_week": "Wednesday",
                                    "location": "Room 4D"
                                },
                                {
                                    "teacher_id": "10000018",
                                    "teacher_name": "Medge Roberts",
                                    "course_id": "8",
                                    "course_name": "Microbiology",
                                    "start_time": "15:00:00",
                                    "end_time": "15:30:00",
                                    "day_of_week": "Thursday",
                                    "location": "Room 1A"
                                },
                                {
                                    "teacher_id": "10000018",
                                    "teacher_name": "Medge Roberts",
                                    "course_id": "8",
                                    "course_name": "Microbiology",
                                    "start_time": "15:00:00",
                                    "end_time": "15:30:00",
                                    "day_of_week": "Saturday",
                                    "location": "Room 2A"
                                },
                                {
                                    "teacher_id": "10000018",
                                    "teacher_name": "Medge Roberts",
                                    "course_id": "8",
                                    "course_name": "Microbiology",
                                    "start_time": "16:00:00",
                                    "end_time": "16:30:00",
                                    "day_of_week": "Monday",
                                    "location": "Room 3C"
                                },
                                {
                                    "teacher_id": "10000018",
                                    "teacher_name": "Medge Roberts",
                                    "course_id": "8",
                                    "course_name": "Microbiology",
                                    "start_time": "17:00:00",
                                    "end_time": "17:30:00",
                                    "day_of_week": "Wednesday",
                                    "location": "Room 4D"
                                },
                                {
                                    "teacher_id": "10000019",
                                    "teacher_name": "Simone Huffman",
                                    "course_id": "9",
                                    "course_name": "Introduction to Law",
                                    "start_time": "08:00:00",
                                    "end_time": "09:30:00",
                                    "day_of_week": "Friday",
                                    "location": "Room 1A"
                                },
                                {
                                    "teacher_id": "10000019",
                                    "teacher_name": "Simone Huffman",
                                    "course_id": "9",
                                    "course_name": "Introduction to Law",
                                    "start_time": "08:00:00",
                                    "end_time": "09:30:00",
                                    "day_of_week": "Sunday",
                                    "location": "Room 2A"
                                },
                                {
                                    "teacher_id": "10000019",
                                    "teacher_name": "Simone Huffman",
                                    "course_id": "9",
                                    "course_name": "Introduction to Law",
                                    "start_time": "10:00:00",
                                    "end_time": "11:30:00",
                                    "day_of_week": "Tuesday",
                                    "location": "Room 3C"
                                },
                                {
                                    "teacher_id": "10000019",
                                    "teacher_name": "Simone Huffman",
                                    "course_id": "9",
                                    "course_name": "Introduction to Law",
                                    "start_time": "12:00:00",
                                    "end_time": "12:30:00",
                                    "day_of_week": "Thursday",
                                    "location": "Room 4D"
                                }
                            ]
                        },
                        "text/html": [
                            "<table>",
                            "<tr><th>teacher_id</th><th>teacher_name</th><th>course_id</th><th>course_name</th><th>start_time</th><th>end_time</th><th>day_of_week</th><th>location</th></tr>",
                            "<tr><td>10000001</td><td>Mary Doe</td><td>1</td><td>Introduction to Programming</td><td>08:00:00</td><td>09:30:00</td><td>Monday</td><td>Room 1A</td></tr>",
                            "<tr><td>10000001</td><td>Mary Doe</td><td>1</td><td>Introduction to Programming</td><td>09:00:00</td><td>10:30:00</td><td>Wednesday</td><td>Room 2A</td></tr>",
                            "<tr><td>10000001</td><td>Mary Doe</td><td>1</td><td>Introduction to Programming</td><td>10:00:00</td><td>11:30:00</td><td>Friday</td><td>Room 3C</td></tr>",
                            "<tr><td>10000001</td><td>Mary Doe</td><td>1</td><td>Introduction to Programming</td><td>12:00:00</td><td>12:30:00</td><td>Sunday</td><td>Room 4D</td></tr>",
                            "<tr><td>10000001</td><td>Mary Doe</td><td>1</td><td>Introduction to Programming</td><td>19:30:00</td><td>21:00:00</td><td>Tuesday</td><td>Room 101</td></tr>",
                            "<tr><td>10000001</td><td>Mary Doe</td><td>2</td><td>Introduction to Databases</td><td>15:00:00</td><td>15:30:00</td><td>Monday</td><td>Room 1A</td></tr>",
                            "<tr><td>10000001</td><td>Mary Doe</td><td>2</td><td>Introduction to Databases</td><td>15:00:00</td><td>15:30:00</td><td>Wednesday</td><td>Room 2A</td></tr>",
                            "<tr><td>10000001</td><td>Mary Doe</td><td>2</td><td>Introduction to Databases</td><td>16:00:00</td><td>16:30:00</td><td>Friday</td><td>Room 3C</td></tr>",
                            "<tr><td>10000001</td><td>Mary Doe</td><td>2</td><td>Introduction to Databases</td><td>17:00:00</td><td>17:30:00</td><td>Sunday</td><td>Room 4D</td></tr>",
                            "<tr><td>10000002</td><td>Jane Smith</td><td>2</td><td>Introduction to Databases</td><td>15:00:00</td><td>15:30:00</td><td>Monday</td><td>Room 1A</td></tr>",
                            "<tr><td>10000002</td><td>Jane Smith</td><td>2</td><td>Introduction to Databases</td><td>15:00:00</td><td>15:30:00</td><td>Wednesday</td><td>Room 2A</td></tr>",
                            "<tr><td>10000002</td><td>Jane Smith</td><td>2</td><td>Introduction to Databases</td><td>16:00:00</td><td>16:30:00</td><td>Friday</td><td>Room 3C</td></tr>",
                            "<tr><td>10000002</td><td>Jane Smith</td><td>2</td><td>Introduction to Databases</td><td>17:00:00</td><td>17:30:00</td><td>Sunday</td><td>Room 4D</td></tr>",
                            "<tr><td>10000005</td><td>Jack Thompson</td><td>3</td><td>Introduction to Web</td><td>08:00:00</td><td>09:30:00</td><td>Tuesday</td><td>Room 1A</td></tr>",
                            "<tr><td>10000005</td><td>Jack Thompson</td><td>3</td><td>Introduction to Web</td><td>08:00:00</td><td>09:30:00</td><td>Thursday</td><td>Room 2A</td></tr>",
                            "<tr><td>10000005</td><td>Jack Thompson</td><td>3</td><td>Introduction to Web</td><td>10:00:00</td><td>11:30:00</td><td>Saturday</td><td>Room 3C</td></tr>",
                            "<tr><td>10000005</td><td>Jack Thompson</td><td>3</td><td>Introduction to Web</td><td>12:00:00</td><td>12:30:00</td><td>Monday</td><td>Room 4D</td></tr>",
                            "<tr><td>10000006</td><td>Alice White</td><td>4</td><td>Introduction to Mobile</td><td>15:00:00</td><td>15:30:00</td><td>Tuesday</td><td>Room 1A</td></tr>",
                            "<tr><td>10000006</td><td>Alice White</td><td>4</td><td>Introduction to Mobile</td><td>15:00:00</td><td>15:30:00</td><td>Thursday</td><td>Room 2A</td></tr>",
                            "<tr><td>10000006</td><td>Alice White</td><td>4</td><td>Introduction to Mobile</td><td>16:00:00</td><td>16:30:00</td><td>Saturday</td><td>Room 3C</td></tr>",
                            "<tr><td>10000006</td><td>Alice White</td><td>4</td><td>Introduction to Mobile</td><td>17:00:00</td><td>17:30:00</td><td>Monday</td><td>Room 4D</td></tr>",
                            "<tr><td>10000009</td><td>Adena Figueroa</td><td>5</td><td>Molecular Biology</td><td>08:00:00</td><td>09:30:00</td><td>Wednesday</td><td>Room 1A</td></tr>",
                            "<tr><td>10000009</td><td>Adena Figueroa</td><td>5</td><td>Molecular Biology</td><td>08:00:00</td><td>09:30:00</td><td>Friday</td><td>Room 2A</td></tr>",
                            "<tr><td>10000009</td><td>Adena Figueroa</td><td>5</td><td>Molecular Biology</td><td>10:00:00</td><td>11:30:00</td><td>Sunday</td><td>Room 3C</td></tr>",
                            "<tr><td>10000009</td><td>Adena Figueroa</td><td>5</td><td>Molecular Biology</td><td>12:00:00</td><td>12:30:00</td><td>Tuesday</td><td>Room 4D</td></tr>",
                            "<tr><td>10000010</td><td>Orlando Collins</td><td>10</td><td>Introduction to Economics</td><td>15:00:00</td><td>15:30:00</td><td>Friday</td><td>Room 1A</td></tr>",
                            "<tr><td>10000010</td><td>Orlando Collins</td><td>10</td><td>Introduction to Economics</td><td>15:00:00</td><td>15:30:00</td><td>Sunday</td><td>Room 2A</td></tr>",
                            "<tr><td>10000010</td><td>Orlando Collins</td><td>10</td><td>Introduction to Economics</td><td>16:00:00</td><td>16:30:00</td><td>Tuesday</td><td>Room 3C</td></tr>",
                            "<tr><td>10000010</td><td>Orlando Collins</td><td>10</td><td>Introduction to Economics</td><td>17:00:00</td><td>17:30:00</td><td>Thursday</td><td>Room 4D</td></tr>",
                            "<tr><td>10000011</td><td>Reese Robertson</td><td>11</td><td>Introduction to Management</td><td>08:00:00</td><td>09:30:00</td><td>Monday</td><td>Room 2A</td></tr>",
                            "<tr><td>10000011</td><td>Reese Robertson</td><td>11</td><td>Introduction to Management</td><td>08:00:00</td><td>09:30:00</td><td>Saturday</td><td>Room 1A</td></tr>",
                            "<tr><td>10000011</td><td>Reese Robertson</td><td>11</td><td>Introduction to Management</td><td>10:00:00</td><td>11:30:00</td><td>Wednesday</td><td>Room 3C</td></tr>",
                            "<tr><td>10000011</td><td>Reese Robertson</td><td>11</td><td>Introduction to Management</td><td>12:00:00</td><td>12:30:00</td><td>Friday</td><td>Room 4D</td></tr>",
                            "<tr><td>10000012</td><td>Medge Cabrera</td><td>12</td><td>Introduction to Marketing</td><td>15:00:00</td><td>15:30:00</td><td>Monday</td><td>Room 2A</td></tr>",
                            "<tr><td>10000012</td><td>Medge Cabrera</td><td>12</td><td>Introduction to Marketing</td><td>15:00:00</td><td>15:30:00</td><td>Saturday</td><td>Room 1A</td></tr>",
                            "<tr><td>10000012</td><td>Medge Cabrera</td><td>12</td><td>Introduction to Marketing</td><td>16:00:00</td><td>16:30:00</td><td>Wednesday</td><td>Room 3C</td></tr>",
                            "<tr><td>10000012</td><td>Medge Cabrera</td><td>12</td><td>Introduction to Marketing</td><td>17:00:00</td><td>17:30:00</td><td>Friday</td><td>Room 4D</td></tr>",
                            "<tr><td>10000013</td><td>Dominique Matthews</td><td>13</td><td>Introduction to Psychology</td><td>08:00:00</td><td>09:30:00</td><td>Tuesday</td><td>Room 2A</td></tr>",
                            "<tr><td>10000013</td><td>Dominique Matthews</td><td>13</td><td>Introduction to Psychology</td><td>08:00:00</td><td>09:30:00</td><td>Sunday</td><td>Room 1A</td></tr>",
                            "<tr><td>10000013</td><td>Dominique Matthews</td><td>13</td><td>Introduction to Psychology</td><td>10:00:00</td><td>11:30:00</td><td>Thursday</td><td>Room 3C</td></tr>",
                            "<tr><td>10000013</td><td>Dominique Matthews</td><td>13</td><td>Introduction to Psychology</td><td>12:00:00</td><td>12:30:00</td><td>Saturday</td><td>Room 4D</td></tr>",
                            "<tr><td>10000014</td><td>Hamilton Daniel</td><td>14</td><td>Introduction to Sociology</td><td>15:00:00</td><td>15:30:00</td><td>Tuesday</td><td>Room 2A</td></tr>",
                            "<tr><td>10000014</td><td>Hamilton Daniel</td><td>14</td><td>Introduction to Sociology</td><td>15:00:00</td><td>15:30:00</td><td>Sunday</td><td>Room 1A</td></tr>",
                            "<tr><td>10000014</td><td>Hamilton Daniel</td><td>14</td><td>Introduction to Sociology</td><td>16:00:00</td><td>16:30:00</td><td>Thursday</td><td>Room 3C</td></tr>",
                            "<tr><td>10000014</td><td>Hamilton Daniel</td><td>14</td><td>Introduction to Sociology</td><td>17:00:00</td><td>17:30:00</td><td>Saturday</td><td>Room 4D</td></tr>",
                            "<tr><td>10000015</td><td>Cadman Black</td><td>15</td><td>Introduction to Philosophy</td><td>08:00:00</td><td>09:30:00</td><td>Monday</td><td>Room 1A</td></tr>",
                            "<tr><td>10000015</td><td>Cadman Black</td><td>15</td><td>Introduction to Philosophy</td><td>08:00:00</td><td>09:30:00</td><td>Wednesday</td><td>Room 2A</td></tr>",
                            "<tr><td>10000015</td><td>Cadman Black</td><td>15</td><td>Introduction to Philosophy</td><td>10:00:00</td><td>11:30:00</td><td>Friday</td><td>Room 3C</td></tr>",
                            "<tr><td>10000015</td><td>Cadman Black</td><td>15</td><td>Introduction to Philosophy</td><td>12:00:00</td><td>12:30:00</td><td>Sunday</td><td>Room 4D</td></tr>",
                            "<tr><td>10000016</td><td>Lani Heath</td><td>6</td><td>Genetics</td><td>15:00:00</td><td>15:30:00</td><td>Wednesday</td><td>Room 1A</td></tr>",
                            "<tr><td>10000016</td><td>Lani Heath</td><td>6</td><td>Genetics</td><td>15:00:00</td><td>15:30:00</td><td>Friday</td><td>Room 2A</td></tr>",
                            "<tr><td>10000016</td><td>Lani Heath</td><td>6</td><td>Genetics</td><td>16:00:00</td><td>16:30:00</td><td>Sunday</td><td>Room 3C</td></tr>",
                            "<tr><td>10000016</td><td>Lani Heath</td><td>6</td><td>Genetics</td><td>17:00:00</td><td>17:30:00</td><td>Tuesday</td><td>Room 4D</td></tr>",
                            "<tr><td>10000017</td><td>Adena Barrett</td><td>7</td><td>Biochemistry</td><td>08:00:00</td><td>09:30:00</td><td>Thursday</td><td>Room 1A</td></tr>",
                            "<tr><td>10000017</td><td>Adena Barrett</td><td>7</td><td>Biochemistry</td><td>08:00:00</td><td>09:30:00</td><td>Saturday</td><td>Room 2A</td></tr>",
                            "<tr><td>10000017</td><td>Adena Barrett</td><td>7</td><td>Biochemistry</td><td>10:00:00</td><td>11:30:00</td><td>Monday</td><td>Room 3C</td></tr>",
                            "<tr><td>10000017</td><td>Adena Barrett</td><td>7</td><td>Biochemistry</td><td>12:00:00</td><td>12:30:00</td><td>Wednesday</td><td>Room 4D</td></tr>",
                            "<tr><td>10000018</td><td>Medge Roberts</td><td>8</td><td>Microbiology</td><td>15:00:00</td><td>15:30:00</td><td>Thursday</td><td>Room 1A</td></tr>",
                            "<tr><td>10000018</td><td>Medge Roberts</td><td>8</td><td>Microbiology</td><td>15:00:00</td><td>15:30:00</td><td>Saturday</td><td>Room 2A</td></tr>",
                            "<tr><td>10000018</td><td>Medge Roberts</td><td>8</td><td>Microbiology</td><td>16:00:00</td><td>16:30:00</td><td>Monday</td><td>Room 3C</td></tr>",
                            "<tr><td>10000018</td><td>Medge Roberts</td><td>8</td><td>Microbiology</td><td>17:00:00</td><td>17:30:00</td><td>Wednesday</td><td>Room 4D</td></tr>",
                            "<tr><td>10000019</td><td>Simone Huffman</td><td>9</td><td>Introduction to Law</td><td>08:00:00</td><td>09:30:00</td><td>Friday</td><td>Room 1A</td></tr>",
                            "<tr><td>10000019</td><td>Simone Huffman</td><td>9</td><td>Introduction to Law</td><td>08:00:00</td><td>09:30:00</td><td>Sunday</td><td>Room 2A</td></tr>",
                            "<tr><td>10000019</td><td>Simone Huffman</td><td>9</td><td>Introduction to Law</td><td>10:00:00</td><td>11:30:00</td><td>Tuesday</td><td>Room 3C</td></tr>",
                            "<tr><td>10000019</td><td>Simone Huffman</td><td>9</td><td>Introduction to Law</td><td>12:00:00</td><td>12:30:00</td><td>Thursday</td><td>Room 4D</td></tr>",
                            "</table>"
                        ]
                    }
                }
            ],
            "execution_count": 32
        }
    ]
}